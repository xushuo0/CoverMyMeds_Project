{
 "cells": [
  {
   "cell_type": "code",
   "execution_count": 26,
   "metadata": {},
   "outputs": [],
   "source": [
    "import pandas as pd\n",
    "import numpy as np\n",
    "\n",
    "import sqlite3\n",
    "\n",
    "\n",
    "from numpy import meshgrid\n",
    "\n",
    "import matplotlib.pyplot as plt\n",
    "import seaborn as sns\n",
    "\n",
    "sns.set_style(\"whitegrid\")"
   ]
  },
  {
   "cell_type": "code",
   "execution_count": 27,
   "metadata": {
    "scrolled": true
   },
   "outputs": [],
   "source": [
    "#Read data\n",
    "bridge = pd.read_csv('bridge.csv')\n",
    "dim_claims = pd.read_csv('dim_claims.csv')\n",
    "dim_date = pd.read_csv('dim_date.csv')\n",
    "dim_pa = pd.read_csv('dim_pa.csv')"
   ]
  },
  {
   "cell_type": "code",
   "execution_count": 35,
   "metadata": {},
   "outputs": [
    {
     "data": {
      "text/plain": [
       "[417380, 999001, 417740, 417614]"
      ]
     },
     "execution_count": 35,
     "metadata": {},
     "output_type": "execute_result"
    }
   ],
   "source": [
    "Company = []\n",
    "for i in range(len(dim_claims.bin.unique())):\n",
    "    Company.append(dim_claims.bin.unique()[i])\n",
    "Company"
   ]
  },
  {
   "cell_type": "code",
   "execution_count": 39,
   "metadata": {},
   "outputs": [
    {
     "data": {
      "text/plain": [
       "['A', 'B', 'C']"
      ]
     },
     "execution_count": 39,
     "metadata": {},
     "output_type": "execute_result"
    }
   ],
   "source": [
    "Drug = []\n",
    "for i in range(len(dim_claims.drug.unique())):\n",
    "    Drug.append(dim_claims.drug.unique()[i])\n",
    "Drug"
   ]
  },
  {
   "cell_type": "code",
   "execution_count": 40,
   "metadata": {},
   "outputs": [
    {
     "data": {
      "text/plain": [
       "[]"
      ]
     },
     "execution_count": 40,
     "metadata": {},
     "output_type": "execute_result"
    }
   ],
   "source": [
    "RCode = []\n",
    "for i in range(len(dim_claims.reject_code.unique())):\n",
    "    Drug.append(dim_claims.reject_code.unique()[i])\n",
    "RCode"
   ]
  },
  {
   "cell_type": "code",
   "execution_count": 36,
   "metadata": {},
   "outputs": [
    {
     "data": {
      "text/plain": [
       "[0.23, 0.9, 0.46, 0.21]"
      ]
     },
     "execution_count": 36,
     "metadata": {},
     "output_type": "execute_result"
    }
   ],
   "source": [
    "App_Rate_Company = []\n",
    "for i in range(len(Company)):\n",
    "    app = dim_claims[(dim_claims.bin==Company[i])]['pharmacy_claim_approved'].sum()\n",
    "    tot = dim_claims[(dim_claims.bin==Company[i])]['pharmacy_claim_approved'].count()\n",
    "    rate = round(app/tot,2)\n",
    "    App_Rate_Company.append(rate)\n",
    "App_Rate_Company"
   ]
  },
  {
   "cell_type": "code",
   "execution_count": 15,
   "metadata": {},
   "outputs": [
    {
     "name": "stdout",
     "output_type": "stream",
     "text": [
      "\n",
      " Summary for claim data of drug A with payer 417380\n",
      "pharmacy_claim_approved  reject_code\n",
      "0                        75.0           88486\n",
      "dtype: int64\n",
      "\n",
      " Summary for claim data of drug B with payer 417380\n",
      "pharmacy_claim_approved  reject_code\n",
      "1                        0.0            39952\n",
      "0                        76.0            4419\n",
      "dtype: int64\n",
      "\n",
      " Summary for claim data of drug C with payer 417380\n",
      "pharmacy_claim_approved  reject_code\n",
      "0                        70.0           40674\n",
      "dtype: int64\n",
      "\n",
      " Summary for claim data of drug A with payer 999001\n",
      "pharmacy_claim_approved  reject_code\n",
      "1                        0.0            293040\n",
      "0                        76.0            32492\n",
      "dtype: int64\n",
      "\n",
      " Summary for claim data of drug B with payer 999001\n",
      "pharmacy_claim_approved  reject_code\n",
      "1                        0.0            148286\n",
      "0                        76.0            16372\n",
      "dtype: int64\n",
      "\n",
      " Summary for claim data of drug C with payer 999001\n",
      "pharmacy_claim_approved  reject_code\n",
      "1                        0.0            135341\n",
      "0                        76.0            15209\n",
      "dtype: int64\n",
      "\n",
      " Summary for claim data of drug A with payer 417740\n",
      "pharmacy_claim_approved  reject_code\n",
      "1                        0.0            97951\n",
      "0                        76.0           10817\n",
      "dtype: int64\n",
      "\n",
      " Summary for claim data of drug B with payer 417740\n",
      "pharmacy_claim_approved  reject_code\n",
      "0                        70.0           55035\n",
      "dtype: int64\n",
      "\n",
      " Summary for claim data of drug C with payer 417740\n",
      "pharmacy_claim_approved  reject_code\n",
      "0                        75.0           50179\n",
      "dtype: int64\n",
      "\n",
      " Summary for claim data of drug A with payer 417614\n",
      "pharmacy_claim_approved  reject_code\n",
      "0                        70.0           156497\n",
      "dtype: int64\n",
      "\n",
      " Summary for claim data of drug B with payer 417614\n",
      "pharmacy_claim_approved  reject_code\n",
      "0                        75.0           78686\n",
      "dtype: int64\n",
      "\n",
      " Summary for claim data of drug C with payer 417614\n",
      "pharmacy_claim_approved  reject_code\n",
      "1                        0.0            65055\n",
      "0                        76.0            7085\n",
      "dtype: int64\n"
     ]
    }
   ],
   "source": [
    "#Claim data Summary\n",
    "for bin_id in dim_claims.bin.unique():\n",
    "    for drug in dim_claims.drug.unique():\n",
    "        claim_filtered = dim_claims.loc[(dim_claims['bin']==bin_id) & (dim_claims['drug']==drug)]\n",
    "        print(f\"\\n Summary for claim data of drug {drug} with payer {bin_id}\")\n",
    "        print(claim_filtered[['pharmacy_claim_approved', 'reject_code']].fillna(0).value_counts())"
   ]
  },
  {
   "cell_type": "code",
   "execution_count": 16,
   "metadata": {},
   "outputs": [],
   "source": [
    "result1 = pd.merge(bridge, dim_claims, how=\"inner\", on=[\"dim_claim_id\"])"
   ]
  },
  {
   "cell_type": "code",
   "execution_count": 17,
   "metadata": {},
   "outputs": [],
   "source": [
    "result2 = pd.merge(dim_pa,result1,how=\"left\", on=[\"dim_pa_id\"])"
   ]
  },
  {
   "cell_type": "code",
   "execution_count": 18,
   "metadata": {},
   "outputs": [
    {
     "data": {
      "text/html": [
       "<div>\n",
       "<style scoped>\n",
       "    .dataframe tbody tr th:only-of-type {\n",
       "        vertical-align: middle;\n",
       "    }\n",
       "\n",
       "    .dataframe tbody tr th {\n",
       "        vertical-align: top;\n",
       "    }\n",
       "\n",
       "    .dataframe thead th {\n",
       "        text-align: right;\n",
       "    }\n",
       "</style>\n",
       "<table border=\"1\" class=\"dataframe\">\n",
       "  <thead>\n",
       "    <tr style=\"text-align: right;\">\n",
       "      <th></th>\n",
       "      <th>dim_pa_id</th>\n",
       "      <th>correct_diagnosis</th>\n",
       "      <th>tried_and_failed</th>\n",
       "      <th>contraindication</th>\n",
       "      <th>pa_approved</th>\n",
       "      <th>dim_claim_id</th>\n",
       "      <th>dim_date_id</th>\n",
       "      <th>bin</th>\n",
       "      <th>drug</th>\n",
       "      <th>reject_code</th>\n",
       "      <th>pharmacy_claim_approved</th>\n",
       "    </tr>\n",
       "  </thead>\n",
       "  <tbody>\n",
       "    <tr>\n",
       "      <th>0</th>\n",
       "      <td>1</td>\n",
       "      <td>1</td>\n",
       "      <td>1</td>\n",
       "      <td>0</td>\n",
       "      <td>1</td>\n",
       "      <td>1</td>\n",
       "      <td>1</td>\n",
       "      <td>417380</td>\n",
       "      <td>A</td>\n",
       "      <td>75.0</td>\n",
       "      <td>0</td>\n",
       "    </tr>\n",
       "    <tr>\n",
       "      <th>1</th>\n",
       "      <td>2</td>\n",
       "      <td>1</td>\n",
       "      <td>0</td>\n",
       "      <td>0</td>\n",
       "      <td>1</td>\n",
       "      <td>3</td>\n",
       "      <td>1</td>\n",
       "      <td>417740</td>\n",
       "      <td>A</td>\n",
       "      <td>76.0</td>\n",
       "      <td>0</td>\n",
       "    </tr>\n",
       "    <tr>\n",
       "      <th>2</th>\n",
       "      <td>3</td>\n",
       "      <td>0</td>\n",
       "      <td>0</td>\n",
       "      <td>1</td>\n",
       "      <td>1</td>\n",
       "      <td>10</td>\n",
       "      <td>1</td>\n",
       "      <td>417380</td>\n",
       "      <td>A</td>\n",
       "      <td>75.0</td>\n",
       "      <td>0</td>\n",
       "    </tr>\n",
       "    <tr>\n",
       "      <th>3</th>\n",
       "      <td>4</td>\n",
       "      <td>1</td>\n",
       "      <td>1</td>\n",
       "      <td>0</td>\n",
       "      <td>1</td>\n",
       "      <td>11</td>\n",
       "      <td>1</td>\n",
       "      <td>999001</td>\n",
       "      <td>A</td>\n",
       "      <td>76.0</td>\n",
       "      <td>0</td>\n",
       "    </tr>\n",
       "    <tr>\n",
       "      <th>4</th>\n",
       "      <td>5</td>\n",
       "      <td>0</td>\n",
       "      <td>1</td>\n",
       "      <td>0</td>\n",
       "      <td>1</td>\n",
       "      <td>15</td>\n",
       "      <td>1</td>\n",
       "      <td>417614</td>\n",
       "      <td>A</td>\n",
       "      <td>70.0</td>\n",
       "      <td>0</td>\n",
       "    </tr>\n",
       "    <tr>\n",
       "      <th>...</th>\n",
       "      <td>...</td>\n",
       "      <td>...</td>\n",
       "      <td>...</td>\n",
       "      <td>...</td>\n",
       "      <td>...</td>\n",
       "      <td>...</td>\n",
       "      <td>...</td>\n",
       "      <td>...</td>\n",
       "      <td>...</td>\n",
       "      <td>...</td>\n",
       "      <td>...</td>\n",
       "    </tr>\n",
       "    <tr>\n",
       "      <th>555946</th>\n",
       "      <td>555947</td>\n",
       "      <td>1</td>\n",
       "      <td>0</td>\n",
       "      <td>1</td>\n",
       "      <td>0</td>\n",
       "      <td>1335557</td>\n",
       "      <td>1095</td>\n",
       "      <td>417380</td>\n",
       "      <td>C</td>\n",
       "      <td>70.0</td>\n",
       "      <td>0</td>\n",
       "    </tr>\n",
       "    <tr>\n",
       "      <th>555947</th>\n",
       "      <td>555948</td>\n",
       "      <td>1</td>\n",
       "      <td>0</td>\n",
       "      <td>1</td>\n",
       "      <td>1</td>\n",
       "      <td>1335558</td>\n",
       "      <td>1095</td>\n",
       "      <td>417740</td>\n",
       "      <td>C</td>\n",
       "      <td>75.0</td>\n",
       "      <td>0</td>\n",
       "    </tr>\n",
       "    <tr>\n",
       "      <th>555948</th>\n",
       "      <td>555949</td>\n",
       "      <td>1</td>\n",
       "      <td>1</td>\n",
       "      <td>1</td>\n",
       "      <td>1</td>\n",
       "      <td>1335559</td>\n",
       "      <td>1095</td>\n",
       "      <td>417740</td>\n",
       "      <td>C</td>\n",
       "      <td>75.0</td>\n",
       "      <td>0</td>\n",
       "    </tr>\n",
       "    <tr>\n",
       "      <th>555949</th>\n",
       "      <td>555950</td>\n",
       "      <td>1</td>\n",
       "      <td>0</td>\n",
       "      <td>0</td>\n",
       "      <td>1</td>\n",
       "      <td>1335572</td>\n",
       "      <td>1095</td>\n",
       "      <td>417740</td>\n",
       "      <td>C</td>\n",
       "      <td>75.0</td>\n",
       "      <td>0</td>\n",
       "    </tr>\n",
       "    <tr>\n",
       "      <th>555950</th>\n",
       "      <td>555951</td>\n",
       "      <td>0</td>\n",
       "      <td>0</td>\n",
       "      <td>1</td>\n",
       "      <td>0</td>\n",
       "      <td>1335574</td>\n",
       "      <td>1095</td>\n",
       "      <td>417380</td>\n",
       "      <td>C</td>\n",
       "      <td>70.0</td>\n",
       "      <td>0</td>\n",
       "    </tr>\n",
       "  </tbody>\n",
       "</table>\n",
       "<p>555951 rows × 11 columns</p>\n",
       "</div>"
      ],
      "text/plain": [
       "        dim_pa_id  correct_diagnosis  tried_and_failed  contraindication  \\\n",
       "0               1                  1                 1                 0   \n",
       "1               2                  1                 0                 0   \n",
       "2               3                  0                 0                 1   \n",
       "3               4                  1                 1                 0   \n",
       "4               5                  0                 1                 0   \n",
       "...           ...                ...               ...               ...   \n",
       "555946     555947                  1                 0                 1   \n",
       "555947     555948                  1                 0                 1   \n",
       "555948     555949                  1                 1                 1   \n",
       "555949     555950                  1                 0                 0   \n",
       "555950     555951                  0                 0                 1   \n",
       "\n",
       "        pa_approved  dim_claim_id  dim_date_id     bin drug  reject_code  \\\n",
       "0                 1             1            1  417380    A         75.0   \n",
       "1                 1             3            1  417740    A         76.0   \n",
       "2                 1            10            1  417380    A         75.0   \n",
       "3                 1            11            1  999001    A         76.0   \n",
       "4                 1            15            1  417614    A         70.0   \n",
       "...             ...           ...          ...     ...  ...          ...   \n",
       "555946            0       1335557         1095  417380    C         70.0   \n",
       "555947            1       1335558         1095  417740    C         75.0   \n",
       "555948            1       1335559         1095  417740    C         75.0   \n",
       "555949            1       1335572         1095  417740    C         75.0   \n",
       "555950            0       1335574         1095  417380    C         70.0   \n",
       "\n",
       "        pharmacy_claim_approved  \n",
       "0                             0  \n",
       "1                             0  \n",
       "2                             0  \n",
       "3                             0  \n",
       "4                             0  \n",
       "...                         ...  \n",
       "555946                        0  \n",
       "555947                        0  \n",
       "555948                        0  \n",
       "555949                        0  \n",
       "555950                        0  \n",
       "\n",
       "[555951 rows x 11 columns]"
      ]
     },
     "execution_count": 18,
     "metadata": {},
     "output_type": "execute_result"
    }
   ],
   "source": [
    "result2"
   ]
  },
  {
   "cell_type": "code",
   "execution_count": 41,
   "metadata": {},
   "outputs": [
    {
     "data": {
      "text/plain": [
       "[75.0, 76.0, 70.0]"
      ]
     },
     "execution_count": 41,
     "metadata": {},
     "output_type": "execute_result"
    }
   ],
   "source": [
    "RCode = []\n",
    "for i in range(len(result2.reject_code.unique())):\n",
    "    RCode.append(result2.reject_code.unique()[i])\n",
    "RCode"
   ]
  },
  {
   "cell_type": "code",
   "execution_count": 42,
   "metadata": {},
   "outputs": [
    {
     "data": {
      "text/plain": [
       "['A', 'B', 'C']"
      ]
     },
     "execution_count": 42,
     "metadata": {},
     "output_type": "execute_result"
    }
   ],
   "source": [
    "Drug = []\n",
    "for i in range(len(result2.drug.unique())):\n",
    "    Drug.append(result2.drug.unique()[i])\n",
    "Drug"
   ]
  },
  {
   "cell_type": "code",
   "execution_count": 43,
   "metadata": {},
   "outputs": [
    {
     "data": {
      "text/plain": [
       "[417380, 417740, 999001, 417614]"
      ]
     },
     "execution_count": 43,
     "metadata": {},
     "output_type": "execute_result"
    }
   ],
   "source": [
    "Company = []\n",
    "for i in range(len(result2.bin.unique())):\n",
    "    Company.append(result2.bin.unique()[i])\n",
    "Company"
   ]
  },
  {
   "cell_type": "code",
   "execution_count": 60,
   "metadata": {},
   "outputs": [],
   "source": [
    "accs = []\n",
    "for i in range(len(Company)):\n",
    "    for j in range(len(Drug)):\n",
    "        for k in range(len(RCode)):\n",
    "            \n",
    "            app = result2[(result2.bin==Company[i]) & (result2.drug==Drug[j]) & (result2.reject_code==RCode[k])]\n",
    "            if app.empty:\n",
    "                accs.append(-1)\n",
    "                \n",
    "            else:\n",
    "                X = pd.get_dummies(data=app[['correct_diagnosis','tried_and_failed','contraindication']], columns=['correct_diagnosis','tried_and_failed','contraindication']).to_numpy()\n",
    "                Y = app['pa_approved'].to_numpy()\n",
    "                X_train, X_test, Y_train, Y_test = train_test_split(X, Y, test_size=0.25, random_state=614, shuffle=True, stratify= Y)\n",
    "                from sklearn.linear_model import LogisticRegression\n",
    "                log_reg = LogisticRegression()\n",
    "                log_reg.fit(X_train, Y_train)\n",
    "                from sklearn.metrics import accuracy_score\n",
    "                X_train_prob = log_reg.predict_proba(X_train)[:,1]\n",
    "                Y_train_pred = 1*(X_train_prob>0.5)\n",
    "                accs.append(np.sum(Y_train_pred==Y_train)/len(Y_train))"
   ]
  },
  {
   "cell_type": "code",
   "execution_count": 62,
   "metadata": {},
   "outputs": [
    {
     "data": {
      "text/plain": [
       "36"
      ]
     },
     "execution_count": 62,
     "metadata": {},
     "output_type": "execute_result"
    }
   ],
   "source": [
    "len(accs)"
   ]
  },
  {
   "cell_type": "code",
   "execution_count": 63,
   "metadata": {},
   "outputs": [
    {
     "data": {
      "text/plain": [
       "[0.9903260804050389,\n",
       " -1,\n",
       " -1,\n",
       " -1,\n",
       " 0.9064574532287266,\n",
       " -1,\n",
       " -1,\n",
       " -1,\n",
       " 0.6728077364366497,\n",
       " -1,\n",
       " 0.9011341222879684,\n",
       " -1,\n",
       " -1,\n",
       " -1,\n",
       " 0.6590270375036341,\n",
       " 0.8362916511664984,\n",
       " -1,\n",
       " -1,\n",
       " -1,\n",
       " 0.9623702244655095,\n",
       " -1,\n",
       " -1,\n",
       " 0.9304503624073621,\n",
       " -1,\n",
       " -1,\n",
       " 0.7859021567596002,\n",
       " -1,\n",
       " -1,\n",
       " -1,\n",
       " 0.6751439866407661,\n",
       " 0.973158911444742,\n",
       " -1,\n",
       " -1,\n",
       " -1,\n",
       " 0.7212497647280256,\n",
       " -1]"
      ]
     },
     "execution_count": 63,
     "metadata": {},
     "output_type": "execute_result"
    }
   ],
   "source": [
    "accs"
   ]
  },
  {
   "cell_type": "code",
   "execution_count": 56,
   "metadata": {},
   "outputs": [],
   "source": [
    "X = pd.get_dummies(data=result2[['correct_diagnosis','tried_and_failed','contraindication']], columns=['correct_diagnosis','tried_and_failed','contraindication']).to_numpy()\n",
    "Y = result2['pa_approved'].to_numpy()"
   ]
  },
  {
   "cell_type": "code",
   "execution_count": 45,
   "metadata": {},
   "outputs": [],
   "source": [
    "X_train, X_test, Y_train, Y_test = train_test_split(X, Y, test_size=0.25, random_state=614, shuffle=True, stratify= Y)"
   ]
  },
  {
   "cell_type": "code",
   "execution_count": 46,
   "metadata": {},
   "outputs": [],
   "source": [
    "from sklearn.linear_model import LogisticRegression"
   ]
  },
  {
   "cell_type": "code",
   "execution_count": 47,
   "metadata": {},
   "outputs": [],
   "source": [
    "log_reg = LogisticRegression()"
   ]
  },
  {
   "cell_type": "code",
   "execution_count": 48,
   "metadata": {},
   "outputs": [
    {
     "data": {
      "text/plain": [
       "LogisticRegression()"
      ]
     },
     "execution_count": 48,
     "metadata": {},
     "output_type": "execute_result"
    }
   ],
   "source": [
    "log_reg.fit(X_train, Y_train)"
   ]
  },
  {
   "cell_type": "code",
   "execution_count": 49,
   "metadata": {},
   "outputs": [],
   "source": [
    "from sklearn.metrics import accuracy_score\n",
    "X_train_prob = log_reg.predict_proba(X_train)[:,1]"
   ]
  },
  {
   "cell_type": "code",
   "execution_count": 25,
   "metadata": {},
   "outputs": [],
   "source": [
    "cutoffs =  np.arange(0,1.01,.01)\n",
    "accs = []\n",
    "\n",
    "for cutoff in cutoffs:\n",
    "    Y_train_pred = 1*(X_train_prob>cutoff)\n",
    "    accs.append(np.sum(Y_train_pred==Y_train)/len(Y_train))"
   ]
  },
  {
   "cell_type": "code",
   "execution_count": null,
   "metadata": {},
   "outputs": [],
   "source": [
    "plt.figure(figsize=(12,8))\n",
    "\n",
    "plt.scatter(cutoffs,accs)\n",
    "\n",
    "plt.xlabel(\"Cutoff\",fontsize=16)\n",
    "plt.ylabel(\"Training Accuracy\",fontsize=16)\n",
    "\n",
    "plt.show()\n"
   ]
  },
  {
   "cell_type": "code",
   "execution_count": null,
   "metadata": {},
   "outputs": [],
   "source": []
  }
 ],
 "metadata": {
  "kernelspec": {
   "display_name": "Python 3",
   "language": "python",
   "name": "python3"
  },
  "language_info": {
   "codemirror_mode": {
    "name": "ipython",
    "version": 3
   },
   "file_extension": ".py",
   "mimetype": "text/x-python",
   "name": "python",
   "nbconvert_exporter": "python",
   "pygments_lexer": "ipython3",
   "version": "3.8.5"
  }
 },
 "nbformat": 4,
 "nbformat_minor": 4
}
