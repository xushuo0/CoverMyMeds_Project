{
 "cells": [
  {
   "cell_type": "code",
   "execution_count": 31,
   "metadata": {},
   "outputs": [],
   "source": [
    "import pandas as pd\n",
    "import numpy as np\n",
    "\n",
    "import sqlite3\n",
    "\n",
    "\n",
    "from numpy import meshgrid\n",
    "\n",
    "import matplotlib.pyplot as plt\n",
    "import seaborn as sns\n",
    "\n",
    "sns.set_style(\"whitegrid\")"
   ]
  },
  {
   "cell_type": "code",
   "execution_count": 32,
   "metadata": {
    "scrolled": true
   },
   "outputs": [],
   "source": [
    "#Read data\n",
    "bridge = pd.read_csv('bridge.csv')\n",
    "dim_claims = pd.read_csv('dim_claims.csv')\n",
    "dim_date = pd.read_csv('dim_date.csv')\n",
    "dim_pa = pd.read_csv('dim_pa.csv')"
   ]
  },
  {
   "cell_type": "code",
   "execution_count": 67,
   "metadata": {},
   "outputs": [
    {
     "data": {
      "text/html": [
       "<div>\n",
       "<style scoped>\n",
       "    .dataframe tbody tr th:only-of-type {\n",
       "        vertical-align: middle;\n",
       "    }\n",
       "\n",
       "    .dataframe tbody tr th {\n",
       "        vertical-align: top;\n",
       "    }\n",
       "\n",
       "    .dataframe thead th {\n",
       "        text-align: right;\n",
       "    }\n",
       "</style>\n",
       "<table border=\"1\" class=\"dataframe\">\n",
       "  <thead>\n",
       "    <tr style=\"text-align: right;\">\n",
       "      <th></th>\n",
       "      <th>dim_claim_id</th>\n",
       "      <th>dim_pa_id</th>\n",
       "      <th>dim_date_id</th>\n",
       "    </tr>\n",
       "  </thead>\n",
       "  <tbody>\n",
       "    <tr>\n",
       "      <th>0</th>\n",
       "      <td>1</td>\n",
       "      <td>1.0</td>\n",
       "      <td>1</td>\n",
       "    </tr>\n",
       "    <tr>\n",
       "      <th>1</th>\n",
       "      <td>2</td>\n",
       "      <td>NaN</td>\n",
       "      <td>1</td>\n",
       "    </tr>\n",
       "    <tr>\n",
       "      <th>2</th>\n",
       "      <td>3</td>\n",
       "      <td>2.0</td>\n",
       "      <td>1</td>\n",
       "    </tr>\n",
       "    <tr>\n",
       "      <th>3</th>\n",
       "      <td>4</td>\n",
       "      <td>NaN</td>\n",
       "      <td>1</td>\n",
       "    </tr>\n",
       "    <tr>\n",
       "      <th>4</th>\n",
       "      <td>5</td>\n",
       "      <td>NaN</td>\n",
       "      <td>1</td>\n",
       "    </tr>\n",
       "    <tr>\n",
       "      <th>...</th>\n",
       "      <td>...</td>\n",
       "      <td>...</td>\n",
       "      <td>...</td>\n",
       "    </tr>\n",
       "    <tr>\n",
       "      <th>1335571</th>\n",
       "      <td>1335572</td>\n",
       "      <td>555950.0</td>\n",
       "      <td>1095</td>\n",
       "    </tr>\n",
       "    <tr>\n",
       "      <th>1335572</th>\n",
       "      <td>1335573</td>\n",
       "      <td>NaN</td>\n",
       "      <td>1095</td>\n",
       "    </tr>\n",
       "    <tr>\n",
       "      <th>1335573</th>\n",
       "      <td>1335574</td>\n",
       "      <td>555951.0</td>\n",
       "      <td>1095</td>\n",
       "    </tr>\n",
       "    <tr>\n",
       "      <th>1335574</th>\n",
       "      <td>1335575</td>\n",
       "      <td>NaN</td>\n",
       "      <td>1095</td>\n",
       "    </tr>\n",
       "    <tr>\n",
       "      <th>1335575</th>\n",
       "      <td>1335576</td>\n",
       "      <td>NaN</td>\n",
       "      <td>1095</td>\n",
       "    </tr>\n",
       "  </tbody>\n",
       "</table>\n",
       "<p>1335576 rows × 3 columns</p>\n",
       "</div>"
      ],
      "text/plain": [
       "         dim_claim_id  dim_pa_id  dim_date_id\n",
       "0                   1        1.0            1\n",
       "1                   2        NaN            1\n",
       "2                   3        2.0            1\n",
       "3                   4        NaN            1\n",
       "4                   5        NaN            1\n",
       "...               ...        ...          ...\n",
       "1335571       1335572   555950.0         1095\n",
       "1335572       1335573        NaN         1095\n",
       "1335573       1335574   555951.0         1095\n",
       "1335574       1335575        NaN         1095\n",
       "1335575       1335576        NaN         1095\n",
       "\n",
       "[1335576 rows x 3 columns]"
      ]
     },
     "execution_count": 67,
     "metadata": {},
     "output_type": "execute_result"
    }
   ],
   "source": [
    "bridge"
   ]
  },
  {
   "cell_type": "code",
   "execution_count": 33,
   "metadata": {},
   "outputs": [
    {
     "data": {
      "text/plain": [
       "[417380, 999001, 417740, 417614]"
      ]
     },
     "execution_count": 33,
     "metadata": {},
     "output_type": "execute_result"
    }
   ],
   "source": [
    "Company = []\n",
    "for i in range(len(dim_claims.bin.unique())):\n",
    "    Company.append(dim_claims.bin.unique()[i])\n",
    "Company"
   ]
  },
  {
   "cell_type": "code",
   "execution_count": 68,
   "metadata": {},
   "outputs": [
    {
     "data": {
      "text/html": [
       "<div>\n",
       "<style scoped>\n",
       "    .dataframe tbody tr th:only-of-type {\n",
       "        vertical-align: middle;\n",
       "    }\n",
       "\n",
       "    .dataframe tbody tr th {\n",
       "        vertical-align: top;\n",
       "    }\n",
       "\n",
       "    .dataframe thead th {\n",
       "        text-align: right;\n",
       "    }\n",
       "</style>\n",
       "<table border=\"1\" class=\"dataframe\">\n",
       "  <thead>\n",
       "    <tr style=\"text-align: right;\">\n",
       "      <th></th>\n",
       "      <th>dim_claim_id</th>\n",
       "      <th>bin</th>\n",
       "      <th>drug</th>\n",
       "      <th>reject_code</th>\n",
       "      <th>pharmacy_claim_approved</th>\n",
       "    </tr>\n",
       "  </thead>\n",
       "  <tbody>\n",
       "    <tr>\n",
       "      <th>0</th>\n",
       "      <td>1</td>\n",
       "      <td>417380</td>\n",
       "      <td>A</td>\n",
       "      <td>75.0</td>\n",
       "      <td>0</td>\n",
       "    </tr>\n",
       "    <tr>\n",
       "      <th>1</th>\n",
       "      <td>2</td>\n",
       "      <td>999001</td>\n",
       "      <td>A</td>\n",
       "      <td>NaN</td>\n",
       "      <td>1</td>\n",
       "    </tr>\n",
       "    <tr>\n",
       "      <th>2</th>\n",
       "      <td>3</td>\n",
       "      <td>417740</td>\n",
       "      <td>A</td>\n",
       "      <td>76.0</td>\n",
       "      <td>0</td>\n",
       "    </tr>\n",
       "    <tr>\n",
       "      <th>3</th>\n",
       "      <td>4</td>\n",
       "      <td>999001</td>\n",
       "      <td>A</td>\n",
       "      <td>NaN</td>\n",
       "      <td>1</td>\n",
       "    </tr>\n",
       "    <tr>\n",
       "      <th>4</th>\n",
       "      <td>5</td>\n",
       "      <td>417740</td>\n",
       "      <td>A</td>\n",
       "      <td>NaN</td>\n",
       "      <td>1</td>\n",
       "    </tr>\n",
       "    <tr>\n",
       "      <th>...</th>\n",
       "      <td>...</td>\n",
       "      <td>...</td>\n",
       "      <td>...</td>\n",
       "      <td>...</td>\n",
       "      <td>...</td>\n",
       "    </tr>\n",
       "    <tr>\n",
       "      <th>1335571</th>\n",
       "      <td>1335572</td>\n",
       "      <td>417740</td>\n",
       "      <td>C</td>\n",
       "      <td>75.0</td>\n",
       "      <td>0</td>\n",
       "    </tr>\n",
       "    <tr>\n",
       "      <th>1335572</th>\n",
       "      <td>1335573</td>\n",
       "      <td>999001</td>\n",
       "      <td>C</td>\n",
       "      <td>NaN</td>\n",
       "      <td>1</td>\n",
       "    </tr>\n",
       "    <tr>\n",
       "      <th>1335573</th>\n",
       "      <td>1335574</td>\n",
       "      <td>417380</td>\n",
       "      <td>C</td>\n",
       "      <td>70.0</td>\n",
       "      <td>0</td>\n",
       "    </tr>\n",
       "    <tr>\n",
       "      <th>1335574</th>\n",
       "      <td>1335575</td>\n",
       "      <td>999001</td>\n",
       "      <td>C</td>\n",
       "      <td>NaN</td>\n",
       "      <td>1</td>\n",
       "    </tr>\n",
       "    <tr>\n",
       "      <th>1335575</th>\n",
       "      <td>1335576</td>\n",
       "      <td>999001</td>\n",
       "      <td>C</td>\n",
       "      <td>NaN</td>\n",
       "      <td>1</td>\n",
       "    </tr>\n",
       "  </tbody>\n",
       "</table>\n",
       "<p>1335576 rows × 5 columns</p>\n",
       "</div>"
      ],
      "text/plain": [
       "         dim_claim_id     bin drug  reject_code  pharmacy_claim_approved\n",
       "0                   1  417380    A         75.0                        0\n",
       "1                   2  999001    A          NaN                        1\n",
       "2                   3  417740    A         76.0                        0\n",
       "3                   4  999001    A          NaN                        1\n",
       "4                   5  417740    A          NaN                        1\n",
       "...               ...     ...  ...          ...                      ...\n",
       "1335571       1335572  417740    C         75.0                        0\n",
       "1335572       1335573  999001    C          NaN                        1\n",
       "1335573       1335574  417380    C         70.0                        0\n",
       "1335574       1335575  999001    C          NaN                        1\n",
       "1335575       1335576  999001    C          NaN                        1\n",
       "\n",
       "[1335576 rows x 5 columns]"
      ]
     },
     "execution_count": 68,
     "metadata": {},
     "output_type": "execute_result"
    }
   ],
   "source": [
    "dim_claims"
   ]
  },
  {
   "cell_type": "code",
   "execution_count": 69,
   "metadata": {},
   "outputs": [
    {
     "data": {
      "text/html": [
       "<div>\n",
       "<style scoped>\n",
       "    .dataframe tbody tr th:only-of-type {\n",
       "        vertical-align: middle;\n",
       "    }\n",
       "\n",
       "    .dataframe tbody tr th {\n",
       "        vertical-align: top;\n",
       "    }\n",
       "\n",
       "    .dataframe thead th {\n",
       "        text-align: right;\n",
       "    }\n",
       "</style>\n",
       "<table border=\"1\" class=\"dataframe\">\n",
       "  <thead>\n",
       "    <tr style=\"text-align: right;\">\n",
       "      <th></th>\n",
       "      <th>dim_pa_id</th>\n",
       "      <th>correct_diagnosis</th>\n",
       "      <th>tried_and_failed</th>\n",
       "      <th>contraindication</th>\n",
       "      <th>pa_approved</th>\n",
       "    </tr>\n",
       "  </thead>\n",
       "  <tbody>\n",
       "    <tr>\n",
       "      <th>0</th>\n",
       "      <td>1</td>\n",
       "      <td>1</td>\n",
       "      <td>1</td>\n",
       "      <td>0</td>\n",
       "      <td>1</td>\n",
       "    </tr>\n",
       "    <tr>\n",
       "      <th>1</th>\n",
       "      <td>2</td>\n",
       "      <td>1</td>\n",
       "      <td>0</td>\n",
       "      <td>0</td>\n",
       "      <td>1</td>\n",
       "    </tr>\n",
       "    <tr>\n",
       "      <th>2</th>\n",
       "      <td>3</td>\n",
       "      <td>0</td>\n",
       "      <td>0</td>\n",
       "      <td>1</td>\n",
       "      <td>1</td>\n",
       "    </tr>\n",
       "    <tr>\n",
       "      <th>3</th>\n",
       "      <td>4</td>\n",
       "      <td>1</td>\n",
       "      <td>1</td>\n",
       "      <td>0</td>\n",
       "      <td>1</td>\n",
       "    </tr>\n",
       "    <tr>\n",
       "      <th>4</th>\n",
       "      <td>5</td>\n",
       "      <td>0</td>\n",
       "      <td>1</td>\n",
       "      <td>0</td>\n",
       "      <td>1</td>\n",
       "    </tr>\n",
       "    <tr>\n",
       "      <th>...</th>\n",
       "      <td>...</td>\n",
       "      <td>...</td>\n",
       "      <td>...</td>\n",
       "      <td>...</td>\n",
       "      <td>...</td>\n",
       "    </tr>\n",
       "    <tr>\n",
       "      <th>555946</th>\n",
       "      <td>555947</td>\n",
       "      <td>1</td>\n",
       "      <td>0</td>\n",
       "      <td>1</td>\n",
       "      <td>0</td>\n",
       "    </tr>\n",
       "    <tr>\n",
       "      <th>555947</th>\n",
       "      <td>555948</td>\n",
       "      <td>1</td>\n",
       "      <td>0</td>\n",
       "      <td>1</td>\n",
       "      <td>1</td>\n",
       "    </tr>\n",
       "    <tr>\n",
       "      <th>555948</th>\n",
       "      <td>555949</td>\n",
       "      <td>1</td>\n",
       "      <td>1</td>\n",
       "      <td>1</td>\n",
       "      <td>1</td>\n",
       "    </tr>\n",
       "    <tr>\n",
       "      <th>555949</th>\n",
       "      <td>555950</td>\n",
       "      <td>1</td>\n",
       "      <td>0</td>\n",
       "      <td>0</td>\n",
       "      <td>1</td>\n",
       "    </tr>\n",
       "    <tr>\n",
       "      <th>555950</th>\n",
       "      <td>555951</td>\n",
       "      <td>0</td>\n",
       "      <td>0</td>\n",
       "      <td>1</td>\n",
       "      <td>0</td>\n",
       "    </tr>\n",
       "  </tbody>\n",
       "</table>\n",
       "<p>555951 rows × 5 columns</p>\n",
       "</div>"
      ],
      "text/plain": [
       "        dim_pa_id  correct_diagnosis  tried_and_failed  contraindication  \\\n",
       "0               1                  1                 1                 0   \n",
       "1               2                  1                 0                 0   \n",
       "2               3                  0                 0                 1   \n",
       "3               4                  1                 1                 0   \n",
       "4               5                  0                 1                 0   \n",
       "...           ...                ...               ...               ...   \n",
       "555946     555947                  1                 0                 1   \n",
       "555947     555948                  1                 0                 1   \n",
       "555948     555949                  1                 1                 1   \n",
       "555949     555950                  1                 0                 0   \n",
       "555950     555951                  0                 0                 1   \n",
       "\n",
       "        pa_approved  \n",
       "0                 1  \n",
       "1                 1  \n",
       "2                 1  \n",
       "3                 1  \n",
       "4                 1  \n",
       "...             ...  \n",
       "555946            0  \n",
       "555947            1  \n",
       "555948            1  \n",
       "555949            1  \n",
       "555950            0  \n",
       "\n",
       "[555951 rows x 5 columns]"
      ]
     },
     "execution_count": 69,
     "metadata": {},
     "output_type": "execute_result"
    }
   ],
   "source": [
    "dim_pa"
   ]
  },
  {
   "cell_type": "code",
   "execution_count": 70,
   "metadata": {},
   "outputs": [
    {
     "data": {
      "text/html": [
       "<div>\n",
       "<style scoped>\n",
       "    .dataframe tbody tr th:only-of-type {\n",
       "        vertical-align: middle;\n",
       "    }\n",
       "\n",
       "    .dataframe tbody tr th {\n",
       "        vertical-align: top;\n",
       "    }\n",
       "\n",
       "    .dataframe thead th {\n",
       "        text-align: right;\n",
       "    }\n",
       "</style>\n",
       "<table border=\"1\" class=\"dataframe\">\n",
       "  <thead>\n",
       "    <tr style=\"text-align: right;\">\n",
       "      <th></th>\n",
       "      <th>dim_date_id</th>\n",
       "      <th>date_val</th>\n",
       "      <th>calendar_year</th>\n",
       "      <th>calendar_month</th>\n",
       "      <th>calendar_day</th>\n",
       "      <th>day_of_week</th>\n",
       "      <th>is_weekday</th>\n",
       "      <th>is_workday</th>\n",
       "      <th>is_holiday</th>\n",
       "    </tr>\n",
       "  </thead>\n",
       "  <tbody>\n",
       "    <tr>\n",
       "      <th>0</th>\n",
       "      <td>1</td>\n",
       "      <td>2017-01-01</td>\n",
       "      <td>2017</td>\n",
       "      <td>1</td>\n",
       "      <td>1</td>\n",
       "      <td>1</td>\n",
       "      <td>0</td>\n",
       "      <td>0</td>\n",
       "      <td>1</td>\n",
       "    </tr>\n",
       "    <tr>\n",
       "      <th>1</th>\n",
       "      <td>2</td>\n",
       "      <td>2017-01-02</td>\n",
       "      <td>2017</td>\n",
       "      <td>1</td>\n",
       "      <td>2</td>\n",
       "      <td>2</td>\n",
       "      <td>1</td>\n",
       "      <td>0</td>\n",
       "      <td>0</td>\n",
       "    </tr>\n",
       "    <tr>\n",
       "      <th>2</th>\n",
       "      <td>3</td>\n",
       "      <td>2017-01-03</td>\n",
       "      <td>2017</td>\n",
       "      <td>1</td>\n",
       "      <td>3</td>\n",
       "      <td>3</td>\n",
       "      <td>1</td>\n",
       "      <td>1</td>\n",
       "      <td>0</td>\n",
       "    </tr>\n",
       "    <tr>\n",
       "      <th>3</th>\n",
       "      <td>4</td>\n",
       "      <td>2017-01-04</td>\n",
       "      <td>2017</td>\n",
       "      <td>1</td>\n",
       "      <td>4</td>\n",
       "      <td>4</td>\n",
       "      <td>1</td>\n",
       "      <td>1</td>\n",
       "      <td>0</td>\n",
       "    </tr>\n",
       "    <tr>\n",
       "      <th>4</th>\n",
       "      <td>5</td>\n",
       "      <td>2017-01-05</td>\n",
       "      <td>2017</td>\n",
       "      <td>1</td>\n",
       "      <td>5</td>\n",
       "      <td>5</td>\n",
       "      <td>1</td>\n",
       "      <td>1</td>\n",
       "      <td>0</td>\n",
       "    </tr>\n",
       "    <tr>\n",
       "      <th>...</th>\n",
       "      <td>...</td>\n",
       "      <td>...</td>\n",
       "      <td>...</td>\n",
       "      <td>...</td>\n",
       "      <td>...</td>\n",
       "      <td>...</td>\n",
       "      <td>...</td>\n",
       "      <td>...</td>\n",
       "      <td>...</td>\n",
       "    </tr>\n",
       "    <tr>\n",
       "      <th>1515</th>\n",
       "      <td>1516</td>\n",
       "      <td>2021-02-24</td>\n",
       "      <td>2021</td>\n",
       "      <td>2</td>\n",
       "      <td>24</td>\n",
       "      <td>4</td>\n",
       "      <td>1</td>\n",
       "      <td>1</td>\n",
       "      <td>0</td>\n",
       "    </tr>\n",
       "    <tr>\n",
       "      <th>1516</th>\n",
       "      <td>1517</td>\n",
       "      <td>2021-02-25</td>\n",
       "      <td>2021</td>\n",
       "      <td>2</td>\n",
       "      <td>25</td>\n",
       "      <td>5</td>\n",
       "      <td>1</td>\n",
       "      <td>1</td>\n",
       "      <td>0</td>\n",
       "    </tr>\n",
       "    <tr>\n",
       "      <th>1517</th>\n",
       "      <td>1518</td>\n",
       "      <td>2021-02-26</td>\n",
       "      <td>2021</td>\n",
       "      <td>2</td>\n",
       "      <td>26</td>\n",
       "      <td>6</td>\n",
       "      <td>1</td>\n",
       "      <td>1</td>\n",
       "      <td>0</td>\n",
       "    </tr>\n",
       "    <tr>\n",
       "      <th>1518</th>\n",
       "      <td>1519</td>\n",
       "      <td>2021-02-27</td>\n",
       "      <td>2021</td>\n",
       "      <td>2</td>\n",
       "      <td>27</td>\n",
       "      <td>7</td>\n",
       "      <td>0</td>\n",
       "      <td>0</td>\n",
       "      <td>0</td>\n",
       "    </tr>\n",
       "    <tr>\n",
       "      <th>1519</th>\n",
       "      <td>1520</td>\n",
       "      <td>2021-02-28</td>\n",
       "      <td>2021</td>\n",
       "      <td>2</td>\n",
       "      <td>28</td>\n",
       "      <td>1</td>\n",
       "      <td>0</td>\n",
       "      <td>0</td>\n",
       "      <td>0</td>\n",
       "    </tr>\n",
       "  </tbody>\n",
       "</table>\n",
       "<p>1520 rows × 9 columns</p>\n",
       "</div>"
      ],
      "text/plain": [
       "      dim_date_id    date_val  calendar_year  calendar_month  calendar_day  \\\n",
       "0               1  2017-01-01           2017               1             1   \n",
       "1               2  2017-01-02           2017               1             2   \n",
       "2               3  2017-01-03           2017               1             3   \n",
       "3               4  2017-01-04           2017               1             4   \n",
       "4               5  2017-01-05           2017               1             5   \n",
       "...           ...         ...            ...             ...           ...   \n",
       "1515         1516  2021-02-24           2021               2            24   \n",
       "1516         1517  2021-02-25           2021               2            25   \n",
       "1517         1518  2021-02-26           2021               2            26   \n",
       "1518         1519  2021-02-27           2021               2            27   \n",
       "1519         1520  2021-02-28           2021               2            28   \n",
       "\n",
       "      day_of_week  is_weekday  is_workday  is_holiday  \n",
       "0               1           0           0           1  \n",
       "1               2           1           0           0  \n",
       "2               3           1           1           0  \n",
       "3               4           1           1           0  \n",
       "4               5           1           1           0  \n",
       "...           ...         ...         ...         ...  \n",
       "1515            4           1           1           0  \n",
       "1516            5           1           1           0  \n",
       "1517            6           1           1           0  \n",
       "1518            7           0           0           0  \n",
       "1519            1           0           0           0  \n",
       "\n",
       "[1520 rows x 9 columns]"
      ]
     },
     "execution_count": 70,
     "metadata": {},
     "output_type": "execute_result"
    }
   ],
   "source": [
    "dim_date"
   ]
  },
  {
   "cell_type": "code",
   "execution_count": 34,
   "metadata": {},
   "outputs": [
    {
     "data": {
      "text/plain": [
       "['A', 'B', 'C']"
      ]
     },
     "execution_count": 34,
     "metadata": {},
     "output_type": "execute_result"
    }
   ],
   "source": [
    "Drug = []\n",
    "for i in range(len(dim_claims.drug.unique())):\n",
    "    Drug.append(dim_claims.drug.unique()[i])\n",
    "Drug"
   ]
  },
  {
   "cell_type": "code",
   "execution_count": 35,
   "metadata": {},
   "outputs": [
    {
     "data": {
      "text/plain": [
       "[]"
      ]
     },
     "execution_count": 35,
     "metadata": {},
     "output_type": "execute_result"
    }
   ],
   "source": [
    "RCode = []\n",
    "for i in range(len(dim_claims.reject_code.unique())):\n",
    "    Drug.append(dim_claims.reject_code.unique()[i])\n",
    "RCode"
   ]
  },
  {
   "cell_type": "code",
   "execution_count": 36,
   "metadata": {},
   "outputs": [
    {
     "data": {
      "text/plain": [
       "[0.23, 0.9, 0.46, 0.21]"
      ]
     },
     "execution_count": 36,
     "metadata": {},
     "output_type": "execute_result"
    }
   ],
   "source": [
    "App_Rate_Company = []\n",
    "for i in range(len(Company)):\n",
    "    app = dim_claims[(dim_claims.bin==Company[i])]['pharmacy_claim_approved'].sum()\n",
    "    tot = dim_claims[(dim_claims.bin==Company[i])]['pharmacy_claim_approved'].count()\n",
    "    rate = round(app/tot,2)\n",
    "    App_Rate_Company.append(rate)\n",
    "App_Rate_Company"
   ]
  },
  {
   "cell_type": "code",
   "execution_count": 37,
   "metadata": {},
   "outputs": [
    {
     "name": "stdout",
     "output_type": "stream",
     "text": [
      "\n",
      " Summary for claim data of drug A with payer 417380\n",
      "pharmacy_claim_approved  reject_code\n",
      "0                        75.0           88486\n",
      "dtype: int64\n",
      "\n",
      " Summary for claim data of drug B with payer 417380\n",
      "pharmacy_claim_approved  reject_code\n",
      "1                        0.0            39952\n",
      "0                        76.0            4419\n",
      "dtype: int64\n",
      "\n",
      " Summary for claim data of drug C with payer 417380\n",
      "pharmacy_claim_approved  reject_code\n",
      "0                        70.0           40674\n",
      "dtype: int64\n",
      "\n",
      " Summary for claim data of drug A with payer 999001\n",
      "pharmacy_claim_approved  reject_code\n",
      "1                        0.0            293040\n",
      "0                        76.0            32492\n",
      "dtype: int64\n",
      "\n",
      " Summary for claim data of drug B with payer 999001\n",
      "pharmacy_claim_approved  reject_code\n",
      "1                        0.0            148286\n",
      "0                        76.0            16372\n",
      "dtype: int64\n",
      "\n",
      " Summary for claim data of drug C with payer 999001\n",
      "pharmacy_claim_approved  reject_code\n",
      "1                        0.0            135341\n",
      "0                        76.0            15209\n",
      "dtype: int64\n",
      "\n",
      " Summary for claim data of drug A with payer 417740\n",
      "pharmacy_claim_approved  reject_code\n",
      "1                        0.0            97951\n",
      "0                        76.0           10817\n",
      "dtype: int64\n",
      "\n",
      " Summary for claim data of drug B with payer 417740\n",
      "pharmacy_claim_approved  reject_code\n",
      "0                        70.0           55035\n",
      "dtype: int64\n",
      "\n",
      " Summary for claim data of drug C with payer 417740\n",
      "pharmacy_claim_approved  reject_code\n",
      "0                        75.0           50179\n",
      "dtype: int64\n",
      "\n",
      " Summary for claim data of drug A with payer 417614\n",
      "pharmacy_claim_approved  reject_code\n",
      "0                        70.0           156497\n",
      "dtype: int64\n",
      "\n",
      " Summary for claim data of drug B with payer 417614\n",
      "pharmacy_claim_approved  reject_code\n",
      "0                        75.0           78686\n",
      "dtype: int64\n",
      "\n",
      " Summary for claim data of drug C with payer 417614\n",
      "pharmacy_claim_approved  reject_code\n",
      "1                        0.0            65055\n",
      "0                        76.0            7085\n",
      "dtype: int64\n"
     ]
    }
   ],
   "source": [
    "#Claim data Summary\n",
    "for bin_id in dim_claims.bin.unique():\n",
    "    for drug in dim_claims.drug.unique():\n",
    "        claim_filtered = dim_claims.loc[(dim_claims['bin']==bin_id) & (dim_claims['drug']==drug)]\n",
    "        print(f\"\\n Summary for claim data of drug {drug} with payer {bin_id}\")\n",
    "        print(claim_filtered[['pharmacy_claim_approved', 'reject_code']].fillna(0).value_counts())"
   ]
  },
  {
   "cell_type": "code",
   "execution_count": 38,
   "metadata": {},
   "outputs": [],
   "source": [
    "result1 = pd.merge(bridge, dim_claims, how=\"inner\", on=[\"dim_claim_id\"])"
   ]
  },
  {
   "cell_type": "code",
   "execution_count": 39,
   "metadata": {},
   "outputs": [],
   "source": [
    "result2 = pd.merge(dim_pa,result1,how=\"left\", on=[\"dim_pa_id\"])"
   ]
  },
  {
   "cell_type": "code",
   "execution_count": 40,
   "metadata": {},
   "outputs": [
    {
     "data": {
      "text/html": [
       "<div>\n",
       "<style scoped>\n",
       "    .dataframe tbody tr th:only-of-type {\n",
       "        vertical-align: middle;\n",
       "    }\n",
       "\n",
       "    .dataframe tbody tr th {\n",
       "        vertical-align: top;\n",
       "    }\n",
       "\n",
       "    .dataframe thead th {\n",
       "        text-align: right;\n",
       "    }\n",
       "</style>\n",
       "<table border=\"1\" class=\"dataframe\">\n",
       "  <thead>\n",
       "    <tr style=\"text-align: right;\">\n",
       "      <th></th>\n",
       "      <th>dim_pa_id</th>\n",
       "      <th>correct_diagnosis</th>\n",
       "      <th>tried_and_failed</th>\n",
       "      <th>contraindication</th>\n",
       "      <th>pa_approved</th>\n",
       "      <th>dim_claim_id</th>\n",
       "      <th>dim_date_id</th>\n",
       "      <th>bin</th>\n",
       "      <th>drug</th>\n",
       "      <th>reject_code</th>\n",
       "      <th>pharmacy_claim_approved</th>\n",
       "    </tr>\n",
       "  </thead>\n",
       "  <tbody>\n",
       "    <tr>\n",
       "      <th>0</th>\n",
       "      <td>1</td>\n",
       "      <td>1</td>\n",
       "      <td>1</td>\n",
       "      <td>0</td>\n",
       "      <td>1</td>\n",
       "      <td>1</td>\n",
       "      <td>1</td>\n",
       "      <td>417380</td>\n",
       "      <td>A</td>\n",
       "      <td>75.0</td>\n",
       "      <td>0</td>\n",
       "    </tr>\n",
       "    <tr>\n",
       "      <th>1</th>\n",
       "      <td>2</td>\n",
       "      <td>1</td>\n",
       "      <td>0</td>\n",
       "      <td>0</td>\n",
       "      <td>1</td>\n",
       "      <td>3</td>\n",
       "      <td>1</td>\n",
       "      <td>417740</td>\n",
       "      <td>A</td>\n",
       "      <td>76.0</td>\n",
       "      <td>0</td>\n",
       "    </tr>\n",
       "    <tr>\n",
       "      <th>2</th>\n",
       "      <td>3</td>\n",
       "      <td>0</td>\n",
       "      <td>0</td>\n",
       "      <td>1</td>\n",
       "      <td>1</td>\n",
       "      <td>10</td>\n",
       "      <td>1</td>\n",
       "      <td>417380</td>\n",
       "      <td>A</td>\n",
       "      <td>75.0</td>\n",
       "      <td>0</td>\n",
       "    </tr>\n",
       "    <tr>\n",
       "      <th>3</th>\n",
       "      <td>4</td>\n",
       "      <td>1</td>\n",
       "      <td>1</td>\n",
       "      <td>0</td>\n",
       "      <td>1</td>\n",
       "      <td>11</td>\n",
       "      <td>1</td>\n",
       "      <td>999001</td>\n",
       "      <td>A</td>\n",
       "      <td>76.0</td>\n",
       "      <td>0</td>\n",
       "    </tr>\n",
       "    <tr>\n",
       "      <th>4</th>\n",
       "      <td>5</td>\n",
       "      <td>0</td>\n",
       "      <td>1</td>\n",
       "      <td>0</td>\n",
       "      <td>1</td>\n",
       "      <td>15</td>\n",
       "      <td>1</td>\n",
       "      <td>417614</td>\n",
       "      <td>A</td>\n",
       "      <td>70.0</td>\n",
       "      <td>0</td>\n",
       "    </tr>\n",
       "    <tr>\n",
       "      <th>...</th>\n",
       "      <td>...</td>\n",
       "      <td>...</td>\n",
       "      <td>...</td>\n",
       "      <td>...</td>\n",
       "      <td>...</td>\n",
       "      <td>...</td>\n",
       "      <td>...</td>\n",
       "      <td>...</td>\n",
       "      <td>...</td>\n",
       "      <td>...</td>\n",
       "      <td>...</td>\n",
       "    </tr>\n",
       "    <tr>\n",
       "      <th>555946</th>\n",
       "      <td>555947</td>\n",
       "      <td>1</td>\n",
       "      <td>0</td>\n",
       "      <td>1</td>\n",
       "      <td>0</td>\n",
       "      <td>1335557</td>\n",
       "      <td>1095</td>\n",
       "      <td>417380</td>\n",
       "      <td>C</td>\n",
       "      <td>70.0</td>\n",
       "      <td>0</td>\n",
       "    </tr>\n",
       "    <tr>\n",
       "      <th>555947</th>\n",
       "      <td>555948</td>\n",
       "      <td>1</td>\n",
       "      <td>0</td>\n",
       "      <td>1</td>\n",
       "      <td>1</td>\n",
       "      <td>1335558</td>\n",
       "      <td>1095</td>\n",
       "      <td>417740</td>\n",
       "      <td>C</td>\n",
       "      <td>75.0</td>\n",
       "      <td>0</td>\n",
       "    </tr>\n",
       "    <tr>\n",
       "      <th>555948</th>\n",
       "      <td>555949</td>\n",
       "      <td>1</td>\n",
       "      <td>1</td>\n",
       "      <td>1</td>\n",
       "      <td>1</td>\n",
       "      <td>1335559</td>\n",
       "      <td>1095</td>\n",
       "      <td>417740</td>\n",
       "      <td>C</td>\n",
       "      <td>75.0</td>\n",
       "      <td>0</td>\n",
       "    </tr>\n",
       "    <tr>\n",
       "      <th>555949</th>\n",
       "      <td>555950</td>\n",
       "      <td>1</td>\n",
       "      <td>0</td>\n",
       "      <td>0</td>\n",
       "      <td>1</td>\n",
       "      <td>1335572</td>\n",
       "      <td>1095</td>\n",
       "      <td>417740</td>\n",
       "      <td>C</td>\n",
       "      <td>75.0</td>\n",
       "      <td>0</td>\n",
       "    </tr>\n",
       "    <tr>\n",
       "      <th>555950</th>\n",
       "      <td>555951</td>\n",
       "      <td>0</td>\n",
       "      <td>0</td>\n",
       "      <td>1</td>\n",
       "      <td>0</td>\n",
       "      <td>1335574</td>\n",
       "      <td>1095</td>\n",
       "      <td>417380</td>\n",
       "      <td>C</td>\n",
       "      <td>70.0</td>\n",
       "      <td>0</td>\n",
       "    </tr>\n",
       "  </tbody>\n",
       "</table>\n",
       "<p>555951 rows × 11 columns</p>\n",
       "</div>"
      ],
      "text/plain": [
       "        dim_pa_id  correct_diagnosis  tried_and_failed  contraindication  \\\n",
       "0               1                  1                 1                 0   \n",
       "1               2                  1                 0                 0   \n",
       "2               3                  0                 0                 1   \n",
       "3               4                  1                 1                 0   \n",
       "4               5                  0                 1                 0   \n",
       "...           ...                ...               ...               ...   \n",
       "555946     555947                  1                 0                 1   \n",
       "555947     555948                  1                 0                 1   \n",
       "555948     555949                  1                 1                 1   \n",
       "555949     555950                  1                 0                 0   \n",
       "555950     555951                  0                 0                 1   \n",
       "\n",
       "        pa_approved  dim_claim_id  dim_date_id     bin drug  reject_code  \\\n",
       "0                 1             1            1  417380    A         75.0   \n",
       "1                 1             3            1  417740    A         76.0   \n",
       "2                 1            10            1  417380    A         75.0   \n",
       "3                 1            11            1  999001    A         76.0   \n",
       "4                 1            15            1  417614    A         70.0   \n",
       "...             ...           ...          ...     ...  ...          ...   \n",
       "555946            0       1335557         1095  417380    C         70.0   \n",
       "555947            1       1335558         1095  417740    C         75.0   \n",
       "555948            1       1335559         1095  417740    C         75.0   \n",
       "555949            1       1335572         1095  417740    C         75.0   \n",
       "555950            0       1335574         1095  417380    C         70.0   \n",
       "\n",
       "        pharmacy_claim_approved  \n",
       "0                             0  \n",
       "1                             0  \n",
       "2                             0  \n",
       "3                             0  \n",
       "4                             0  \n",
       "...                         ...  \n",
       "555946                        0  \n",
       "555947                        0  \n",
       "555948                        0  \n",
       "555949                        0  \n",
       "555950                        0  \n",
       "\n",
       "[555951 rows x 11 columns]"
      ]
     },
     "execution_count": 40,
     "metadata": {},
     "output_type": "execute_result"
    }
   ],
   "source": [
    "result2"
   ]
  },
  {
   "cell_type": "code",
   "execution_count": 71,
   "metadata": {},
   "outputs": [],
   "source": [
    "result3 = pd.merge(bridge, dim_date, how=\"inner\", on=[\"dim_date_id\"])"
   ]
  },
  {
   "cell_type": "code",
   "execution_count": 72,
   "metadata": {},
   "outputs": [
    {
     "data": {
      "text/html": [
       "<div>\n",
       "<style scoped>\n",
       "    .dataframe tbody tr th:only-of-type {\n",
       "        vertical-align: middle;\n",
       "    }\n",
       "\n",
       "    .dataframe tbody tr th {\n",
       "        vertical-align: top;\n",
       "    }\n",
       "\n",
       "    .dataframe thead th {\n",
       "        text-align: right;\n",
       "    }\n",
       "</style>\n",
       "<table border=\"1\" class=\"dataframe\">\n",
       "  <thead>\n",
       "    <tr style=\"text-align: right;\">\n",
       "      <th></th>\n",
       "      <th>dim_claim_id</th>\n",
       "      <th>dim_pa_id</th>\n",
       "      <th>dim_date_id</th>\n",
       "      <th>date_val</th>\n",
       "      <th>calendar_year</th>\n",
       "      <th>calendar_month</th>\n",
       "      <th>calendar_day</th>\n",
       "      <th>day_of_week</th>\n",
       "      <th>is_weekday</th>\n",
       "      <th>is_workday</th>\n",
       "      <th>is_holiday</th>\n",
       "    </tr>\n",
       "  </thead>\n",
       "  <tbody>\n",
       "    <tr>\n",
       "      <th>0</th>\n",
       "      <td>1</td>\n",
       "      <td>1.0</td>\n",
       "      <td>1</td>\n",
       "      <td>2017-01-01</td>\n",
       "      <td>2017</td>\n",
       "      <td>1</td>\n",
       "      <td>1</td>\n",
       "      <td>1</td>\n",
       "      <td>0</td>\n",
       "      <td>0</td>\n",
       "      <td>1</td>\n",
       "    </tr>\n",
       "    <tr>\n",
       "      <th>1</th>\n",
       "      <td>2</td>\n",
       "      <td>NaN</td>\n",
       "      <td>1</td>\n",
       "      <td>2017-01-01</td>\n",
       "      <td>2017</td>\n",
       "      <td>1</td>\n",
       "      <td>1</td>\n",
       "      <td>1</td>\n",
       "      <td>0</td>\n",
       "      <td>0</td>\n",
       "      <td>1</td>\n",
       "    </tr>\n",
       "    <tr>\n",
       "      <th>2</th>\n",
       "      <td>3</td>\n",
       "      <td>2.0</td>\n",
       "      <td>1</td>\n",
       "      <td>2017-01-01</td>\n",
       "      <td>2017</td>\n",
       "      <td>1</td>\n",
       "      <td>1</td>\n",
       "      <td>1</td>\n",
       "      <td>0</td>\n",
       "      <td>0</td>\n",
       "      <td>1</td>\n",
       "    </tr>\n",
       "    <tr>\n",
       "      <th>3</th>\n",
       "      <td>4</td>\n",
       "      <td>NaN</td>\n",
       "      <td>1</td>\n",
       "      <td>2017-01-01</td>\n",
       "      <td>2017</td>\n",
       "      <td>1</td>\n",
       "      <td>1</td>\n",
       "      <td>1</td>\n",
       "      <td>0</td>\n",
       "      <td>0</td>\n",
       "      <td>1</td>\n",
       "    </tr>\n",
       "    <tr>\n",
       "      <th>4</th>\n",
       "      <td>5</td>\n",
       "      <td>NaN</td>\n",
       "      <td>1</td>\n",
       "      <td>2017-01-01</td>\n",
       "      <td>2017</td>\n",
       "      <td>1</td>\n",
       "      <td>1</td>\n",
       "      <td>1</td>\n",
       "      <td>0</td>\n",
       "      <td>0</td>\n",
       "      <td>1</td>\n",
       "    </tr>\n",
       "    <tr>\n",
       "      <th>...</th>\n",
       "      <td>...</td>\n",
       "      <td>...</td>\n",
       "      <td>...</td>\n",
       "      <td>...</td>\n",
       "      <td>...</td>\n",
       "      <td>...</td>\n",
       "      <td>...</td>\n",
       "      <td>...</td>\n",
       "      <td>...</td>\n",
       "      <td>...</td>\n",
       "      <td>...</td>\n",
       "    </tr>\n",
       "    <tr>\n",
       "      <th>1335571</th>\n",
       "      <td>1335572</td>\n",
       "      <td>555950.0</td>\n",
       "      <td>1095</td>\n",
       "      <td>2019-12-31</td>\n",
       "      <td>2019</td>\n",
       "      <td>12</td>\n",
       "      <td>31</td>\n",
       "      <td>3</td>\n",
       "      <td>1</td>\n",
       "      <td>1</td>\n",
       "      <td>0</td>\n",
       "    </tr>\n",
       "    <tr>\n",
       "      <th>1335572</th>\n",
       "      <td>1335573</td>\n",
       "      <td>NaN</td>\n",
       "      <td>1095</td>\n",
       "      <td>2019-12-31</td>\n",
       "      <td>2019</td>\n",
       "      <td>12</td>\n",
       "      <td>31</td>\n",
       "      <td>3</td>\n",
       "      <td>1</td>\n",
       "      <td>1</td>\n",
       "      <td>0</td>\n",
       "    </tr>\n",
       "    <tr>\n",
       "      <th>1335573</th>\n",
       "      <td>1335574</td>\n",
       "      <td>555951.0</td>\n",
       "      <td>1095</td>\n",
       "      <td>2019-12-31</td>\n",
       "      <td>2019</td>\n",
       "      <td>12</td>\n",
       "      <td>31</td>\n",
       "      <td>3</td>\n",
       "      <td>1</td>\n",
       "      <td>1</td>\n",
       "      <td>0</td>\n",
       "    </tr>\n",
       "    <tr>\n",
       "      <th>1335574</th>\n",
       "      <td>1335575</td>\n",
       "      <td>NaN</td>\n",
       "      <td>1095</td>\n",
       "      <td>2019-12-31</td>\n",
       "      <td>2019</td>\n",
       "      <td>12</td>\n",
       "      <td>31</td>\n",
       "      <td>3</td>\n",
       "      <td>1</td>\n",
       "      <td>1</td>\n",
       "      <td>0</td>\n",
       "    </tr>\n",
       "    <tr>\n",
       "      <th>1335575</th>\n",
       "      <td>1335576</td>\n",
       "      <td>NaN</td>\n",
       "      <td>1095</td>\n",
       "      <td>2019-12-31</td>\n",
       "      <td>2019</td>\n",
       "      <td>12</td>\n",
       "      <td>31</td>\n",
       "      <td>3</td>\n",
       "      <td>1</td>\n",
       "      <td>1</td>\n",
       "      <td>0</td>\n",
       "    </tr>\n",
       "  </tbody>\n",
       "</table>\n",
       "<p>1335576 rows × 11 columns</p>\n",
       "</div>"
      ],
      "text/plain": [
       "         dim_claim_id  dim_pa_id  dim_date_id    date_val  calendar_year  \\\n",
       "0                   1        1.0            1  2017-01-01           2017   \n",
       "1                   2        NaN            1  2017-01-01           2017   \n",
       "2                   3        2.0            1  2017-01-01           2017   \n",
       "3                   4        NaN            1  2017-01-01           2017   \n",
       "4                   5        NaN            1  2017-01-01           2017   \n",
       "...               ...        ...          ...         ...            ...   \n",
       "1335571       1335572   555950.0         1095  2019-12-31           2019   \n",
       "1335572       1335573        NaN         1095  2019-12-31           2019   \n",
       "1335573       1335574   555951.0         1095  2019-12-31           2019   \n",
       "1335574       1335575        NaN         1095  2019-12-31           2019   \n",
       "1335575       1335576        NaN         1095  2019-12-31           2019   \n",
       "\n",
       "         calendar_month  calendar_day  day_of_week  is_weekday  is_workday  \\\n",
       "0                     1             1            1           0           0   \n",
       "1                     1             1            1           0           0   \n",
       "2                     1             1            1           0           0   \n",
       "3                     1             1            1           0           0   \n",
       "4                     1             1            1           0           0   \n",
       "...                 ...           ...          ...         ...         ...   \n",
       "1335571              12            31            3           1           1   \n",
       "1335572              12            31            3           1           1   \n",
       "1335573              12            31            3           1           1   \n",
       "1335574              12            31            3           1           1   \n",
       "1335575              12            31            3           1           1   \n",
       "\n",
       "         is_holiday  \n",
       "0                 1  \n",
       "1                 1  \n",
       "2                 1  \n",
       "3                 1  \n",
       "4                 1  \n",
       "...             ...  \n",
       "1335571           0  \n",
       "1335572           0  \n",
       "1335573           0  \n",
       "1335574           0  \n",
       "1335575           0  \n",
       "\n",
       "[1335576 rows x 11 columns]"
      ]
     },
     "execution_count": 72,
     "metadata": {},
     "output_type": "execute_result"
    }
   ],
   "source": [
    "result3"
   ]
  },
  {
   "cell_type": "code",
   "execution_count": 78,
   "metadata": {},
   "outputs": [],
   "source": [
    "result4 = pd.merge(result2,result3,how=\"left\", on=[\"dim_pa_id\"])"
   ]
  },
  {
   "cell_type": "code",
   "execution_count": 79,
   "metadata": {},
   "outputs": [
    {
     "data": {
      "text/html": [
       "<div>\n",
       "<style scoped>\n",
       "    .dataframe tbody tr th:only-of-type {\n",
       "        vertical-align: middle;\n",
       "    }\n",
       "\n",
       "    .dataframe tbody tr th {\n",
       "        vertical-align: top;\n",
       "    }\n",
       "\n",
       "    .dataframe thead th {\n",
       "        text-align: right;\n",
       "    }\n",
       "</style>\n",
       "<table border=\"1\" class=\"dataframe\">\n",
       "  <thead>\n",
       "    <tr style=\"text-align: right;\">\n",
       "      <th></th>\n",
       "      <th>dim_pa_id</th>\n",
       "      <th>correct_diagnosis</th>\n",
       "      <th>tried_and_failed</th>\n",
       "      <th>contraindication</th>\n",
       "      <th>pa_approved</th>\n",
       "      <th>dim_claim_id_x</th>\n",
       "      <th>dim_date_id_x</th>\n",
       "      <th>bin</th>\n",
       "      <th>drug</th>\n",
       "      <th>reject_code</th>\n",
       "      <th>...</th>\n",
       "      <th>dim_claim_id_y</th>\n",
       "      <th>dim_date_id_y</th>\n",
       "      <th>date_val</th>\n",
       "      <th>calendar_year</th>\n",
       "      <th>calendar_month</th>\n",
       "      <th>calendar_day</th>\n",
       "      <th>day_of_week</th>\n",
       "      <th>is_weekday</th>\n",
       "      <th>is_workday</th>\n",
       "      <th>is_holiday</th>\n",
       "    </tr>\n",
       "  </thead>\n",
       "  <tbody>\n",
       "    <tr>\n",
       "      <th>0</th>\n",
       "      <td>1</td>\n",
       "      <td>1</td>\n",
       "      <td>1</td>\n",
       "      <td>0</td>\n",
       "      <td>1</td>\n",
       "      <td>1</td>\n",
       "      <td>1</td>\n",
       "      <td>417380</td>\n",
       "      <td>A</td>\n",
       "      <td>75.0</td>\n",
       "      <td>...</td>\n",
       "      <td>1</td>\n",
       "      <td>1</td>\n",
       "      <td>2017-01-01</td>\n",
       "      <td>2017</td>\n",
       "      <td>1</td>\n",
       "      <td>1</td>\n",
       "      <td>1</td>\n",
       "      <td>0</td>\n",
       "      <td>0</td>\n",
       "      <td>1</td>\n",
       "    </tr>\n",
       "    <tr>\n",
       "      <th>1</th>\n",
       "      <td>2</td>\n",
       "      <td>1</td>\n",
       "      <td>0</td>\n",
       "      <td>0</td>\n",
       "      <td>1</td>\n",
       "      <td>3</td>\n",
       "      <td>1</td>\n",
       "      <td>417740</td>\n",
       "      <td>A</td>\n",
       "      <td>76.0</td>\n",
       "      <td>...</td>\n",
       "      <td>3</td>\n",
       "      <td>1</td>\n",
       "      <td>2017-01-01</td>\n",
       "      <td>2017</td>\n",
       "      <td>1</td>\n",
       "      <td>1</td>\n",
       "      <td>1</td>\n",
       "      <td>0</td>\n",
       "      <td>0</td>\n",
       "      <td>1</td>\n",
       "    </tr>\n",
       "    <tr>\n",
       "      <th>2</th>\n",
       "      <td>3</td>\n",
       "      <td>0</td>\n",
       "      <td>0</td>\n",
       "      <td>1</td>\n",
       "      <td>1</td>\n",
       "      <td>10</td>\n",
       "      <td>1</td>\n",
       "      <td>417380</td>\n",
       "      <td>A</td>\n",
       "      <td>75.0</td>\n",
       "      <td>...</td>\n",
       "      <td>10</td>\n",
       "      <td>1</td>\n",
       "      <td>2017-01-01</td>\n",
       "      <td>2017</td>\n",
       "      <td>1</td>\n",
       "      <td>1</td>\n",
       "      <td>1</td>\n",
       "      <td>0</td>\n",
       "      <td>0</td>\n",
       "      <td>1</td>\n",
       "    </tr>\n",
       "    <tr>\n",
       "      <th>3</th>\n",
       "      <td>4</td>\n",
       "      <td>1</td>\n",
       "      <td>1</td>\n",
       "      <td>0</td>\n",
       "      <td>1</td>\n",
       "      <td>11</td>\n",
       "      <td>1</td>\n",
       "      <td>999001</td>\n",
       "      <td>A</td>\n",
       "      <td>76.0</td>\n",
       "      <td>...</td>\n",
       "      <td>11</td>\n",
       "      <td>1</td>\n",
       "      <td>2017-01-01</td>\n",
       "      <td>2017</td>\n",
       "      <td>1</td>\n",
       "      <td>1</td>\n",
       "      <td>1</td>\n",
       "      <td>0</td>\n",
       "      <td>0</td>\n",
       "      <td>1</td>\n",
       "    </tr>\n",
       "    <tr>\n",
       "      <th>4</th>\n",
       "      <td>5</td>\n",
       "      <td>0</td>\n",
       "      <td>1</td>\n",
       "      <td>0</td>\n",
       "      <td>1</td>\n",
       "      <td>15</td>\n",
       "      <td>1</td>\n",
       "      <td>417614</td>\n",
       "      <td>A</td>\n",
       "      <td>70.0</td>\n",
       "      <td>...</td>\n",
       "      <td>15</td>\n",
       "      <td>1</td>\n",
       "      <td>2017-01-01</td>\n",
       "      <td>2017</td>\n",
       "      <td>1</td>\n",
       "      <td>1</td>\n",
       "      <td>1</td>\n",
       "      <td>0</td>\n",
       "      <td>0</td>\n",
       "      <td>1</td>\n",
       "    </tr>\n",
       "    <tr>\n",
       "      <th>...</th>\n",
       "      <td>...</td>\n",
       "      <td>...</td>\n",
       "      <td>...</td>\n",
       "      <td>...</td>\n",
       "      <td>...</td>\n",
       "      <td>...</td>\n",
       "      <td>...</td>\n",
       "      <td>...</td>\n",
       "      <td>...</td>\n",
       "      <td>...</td>\n",
       "      <td>...</td>\n",
       "      <td>...</td>\n",
       "      <td>...</td>\n",
       "      <td>...</td>\n",
       "      <td>...</td>\n",
       "      <td>...</td>\n",
       "      <td>...</td>\n",
       "      <td>...</td>\n",
       "      <td>...</td>\n",
       "      <td>...</td>\n",
       "      <td>...</td>\n",
       "    </tr>\n",
       "    <tr>\n",
       "      <th>555946</th>\n",
       "      <td>555947</td>\n",
       "      <td>1</td>\n",
       "      <td>0</td>\n",
       "      <td>1</td>\n",
       "      <td>0</td>\n",
       "      <td>1335557</td>\n",
       "      <td>1095</td>\n",
       "      <td>417380</td>\n",
       "      <td>C</td>\n",
       "      <td>70.0</td>\n",
       "      <td>...</td>\n",
       "      <td>1335557</td>\n",
       "      <td>1095</td>\n",
       "      <td>2019-12-31</td>\n",
       "      <td>2019</td>\n",
       "      <td>12</td>\n",
       "      <td>31</td>\n",
       "      <td>3</td>\n",
       "      <td>1</td>\n",
       "      <td>1</td>\n",
       "      <td>0</td>\n",
       "    </tr>\n",
       "    <tr>\n",
       "      <th>555947</th>\n",
       "      <td>555948</td>\n",
       "      <td>1</td>\n",
       "      <td>0</td>\n",
       "      <td>1</td>\n",
       "      <td>1</td>\n",
       "      <td>1335558</td>\n",
       "      <td>1095</td>\n",
       "      <td>417740</td>\n",
       "      <td>C</td>\n",
       "      <td>75.0</td>\n",
       "      <td>...</td>\n",
       "      <td>1335558</td>\n",
       "      <td>1095</td>\n",
       "      <td>2019-12-31</td>\n",
       "      <td>2019</td>\n",
       "      <td>12</td>\n",
       "      <td>31</td>\n",
       "      <td>3</td>\n",
       "      <td>1</td>\n",
       "      <td>1</td>\n",
       "      <td>0</td>\n",
       "    </tr>\n",
       "    <tr>\n",
       "      <th>555948</th>\n",
       "      <td>555949</td>\n",
       "      <td>1</td>\n",
       "      <td>1</td>\n",
       "      <td>1</td>\n",
       "      <td>1</td>\n",
       "      <td>1335559</td>\n",
       "      <td>1095</td>\n",
       "      <td>417740</td>\n",
       "      <td>C</td>\n",
       "      <td>75.0</td>\n",
       "      <td>...</td>\n",
       "      <td>1335559</td>\n",
       "      <td>1095</td>\n",
       "      <td>2019-12-31</td>\n",
       "      <td>2019</td>\n",
       "      <td>12</td>\n",
       "      <td>31</td>\n",
       "      <td>3</td>\n",
       "      <td>1</td>\n",
       "      <td>1</td>\n",
       "      <td>0</td>\n",
       "    </tr>\n",
       "    <tr>\n",
       "      <th>555949</th>\n",
       "      <td>555950</td>\n",
       "      <td>1</td>\n",
       "      <td>0</td>\n",
       "      <td>0</td>\n",
       "      <td>1</td>\n",
       "      <td>1335572</td>\n",
       "      <td>1095</td>\n",
       "      <td>417740</td>\n",
       "      <td>C</td>\n",
       "      <td>75.0</td>\n",
       "      <td>...</td>\n",
       "      <td>1335572</td>\n",
       "      <td>1095</td>\n",
       "      <td>2019-12-31</td>\n",
       "      <td>2019</td>\n",
       "      <td>12</td>\n",
       "      <td>31</td>\n",
       "      <td>3</td>\n",
       "      <td>1</td>\n",
       "      <td>1</td>\n",
       "      <td>0</td>\n",
       "    </tr>\n",
       "    <tr>\n",
       "      <th>555950</th>\n",
       "      <td>555951</td>\n",
       "      <td>0</td>\n",
       "      <td>0</td>\n",
       "      <td>1</td>\n",
       "      <td>0</td>\n",
       "      <td>1335574</td>\n",
       "      <td>1095</td>\n",
       "      <td>417380</td>\n",
       "      <td>C</td>\n",
       "      <td>70.0</td>\n",
       "      <td>...</td>\n",
       "      <td>1335574</td>\n",
       "      <td>1095</td>\n",
       "      <td>2019-12-31</td>\n",
       "      <td>2019</td>\n",
       "      <td>12</td>\n",
       "      <td>31</td>\n",
       "      <td>3</td>\n",
       "      <td>1</td>\n",
       "      <td>1</td>\n",
       "      <td>0</td>\n",
       "    </tr>\n",
       "  </tbody>\n",
       "</table>\n",
       "<p>555951 rows × 21 columns</p>\n",
       "</div>"
      ],
      "text/plain": [
       "        dim_pa_id  correct_diagnosis  tried_and_failed  contraindication  \\\n",
       "0               1                  1                 1                 0   \n",
       "1               2                  1                 0                 0   \n",
       "2               3                  0                 0                 1   \n",
       "3               4                  1                 1                 0   \n",
       "4               5                  0                 1                 0   \n",
       "...           ...                ...               ...               ...   \n",
       "555946     555947                  1                 0                 1   \n",
       "555947     555948                  1                 0                 1   \n",
       "555948     555949                  1                 1                 1   \n",
       "555949     555950                  1                 0                 0   \n",
       "555950     555951                  0                 0                 1   \n",
       "\n",
       "        pa_approved  dim_claim_id_x  dim_date_id_x     bin drug  reject_code  \\\n",
       "0                 1               1              1  417380    A         75.0   \n",
       "1                 1               3              1  417740    A         76.0   \n",
       "2                 1              10              1  417380    A         75.0   \n",
       "3                 1              11              1  999001    A         76.0   \n",
       "4                 1              15              1  417614    A         70.0   \n",
       "...             ...             ...            ...     ...  ...          ...   \n",
       "555946            0         1335557           1095  417380    C         70.0   \n",
       "555947            1         1335558           1095  417740    C         75.0   \n",
       "555948            1         1335559           1095  417740    C         75.0   \n",
       "555949            1         1335572           1095  417740    C         75.0   \n",
       "555950            0         1335574           1095  417380    C         70.0   \n",
       "\n",
       "        ...  dim_claim_id_y  dim_date_id_y    date_val calendar_year  \\\n",
       "0       ...               1              1  2017-01-01          2017   \n",
       "1       ...               3              1  2017-01-01          2017   \n",
       "2       ...              10              1  2017-01-01          2017   \n",
       "3       ...              11              1  2017-01-01          2017   \n",
       "4       ...              15              1  2017-01-01          2017   \n",
       "...     ...             ...            ...         ...           ...   \n",
       "555946  ...         1335557           1095  2019-12-31          2019   \n",
       "555947  ...         1335558           1095  2019-12-31          2019   \n",
       "555948  ...         1335559           1095  2019-12-31          2019   \n",
       "555949  ...         1335572           1095  2019-12-31          2019   \n",
       "555950  ...         1335574           1095  2019-12-31          2019   \n",
       "\n",
       "        calendar_month  calendar_day  day_of_week  is_weekday  is_workday  \\\n",
       "0                    1             1            1           0           0   \n",
       "1                    1             1            1           0           0   \n",
       "2                    1             1            1           0           0   \n",
       "3                    1             1            1           0           0   \n",
       "4                    1             1            1           0           0   \n",
       "...                ...           ...          ...         ...         ...   \n",
       "555946              12            31            3           1           1   \n",
       "555947              12            31            3           1           1   \n",
       "555948              12            31            3           1           1   \n",
       "555949              12            31            3           1           1   \n",
       "555950              12            31            3           1           1   \n",
       "\n",
       "        is_holiday  \n",
       "0                1  \n",
       "1                1  \n",
       "2                1  \n",
       "3                1  \n",
       "4                1  \n",
       "...            ...  \n",
       "555946           0  \n",
       "555947           0  \n",
       "555948           0  \n",
       "555949           0  \n",
       "555950           0  \n",
       "\n",
       "[555951 rows x 21 columns]"
      ]
     },
     "execution_count": 79,
     "metadata": {},
     "output_type": "execute_result"
    }
   ],
   "source": [
    "result4"
   ]
  },
  {
   "cell_type": "code",
   "execution_count": 80,
   "metadata": {},
   "outputs": [
    {
     "data": {
      "text/plain": [
       "[75.0, 76.0, 70.0]"
      ]
     },
     "execution_count": 80,
     "metadata": {},
     "output_type": "execute_result"
    }
   ],
   "source": [
    "RCode = []\n",
    "for i in range(len(result2.reject_code.unique())):\n",
    "    RCode.append(result2.reject_code.unique()[i])\n",
    "RCode"
   ]
  },
  {
   "cell_type": "code",
   "execution_count": 81,
   "metadata": {},
   "outputs": [
    {
     "data": {
      "text/plain": [
       "['A', 'B', 'C']"
      ]
     },
     "execution_count": 81,
     "metadata": {},
     "output_type": "execute_result"
    }
   ],
   "source": [
    "Drug = []\n",
    "for i in range(len(result2.drug.unique())):\n",
    "    Drug.append(result2.drug.unique()[i])\n",
    "Drug"
   ]
  },
  {
   "cell_type": "code",
   "execution_count": 82,
   "metadata": {},
   "outputs": [
    {
     "data": {
      "text/plain": [
       "[417380, 417740, 999001, 417614]"
      ]
     },
     "execution_count": 82,
     "metadata": {},
     "output_type": "execute_result"
    }
   ],
   "source": [
    "Company = []\n",
    "for i in range(len(result2.bin.unique())):\n",
    "    Company.append(result2.bin.unique()[i])\n",
    "Company"
   ]
  },
  {
   "cell_type": "code",
   "execution_count": 83,
   "metadata": {},
   "outputs": [
    {
     "data": {
      "image/png": "[encoded data removed]",
      "text/plain": [
       "<Figure size 864x576 with 1 Axes>"
      ]
     },
     "metadata": {},
     "output_type": "display_data"
    },
    {
     "name": "stdout",
     "output_type": "stream",
     "text": [
      "[[-0.1780369   0.17804767 -0.56896315  0.56897392  1.37771282 -1.37770205\n",
      "  -0.0249345   0.02494528]]\n"
     ]
    },
    {
     "data": {
      "image/png": "[encoded data removed]",
      "text/plain": [
       "<Figure size 864x576 with 1 Axes>"
      ]
     },
     "metadata": {},
     "output_type": "display_data"
    },
    {
     "name": "stdout",
     "output_type": "stream",
     "text": [
      "[[-0.17208048  0.17204009 -0.4881171   0.48807671  1.06703329 -1.06707368\n",
      "   0.03751407 -0.03755446]]\n"
     ]
    },
    {
     "data": {
      "image/png": "[encoded data removed]",
      "text/plain": [
       "<Figure size 864x576 with 1 Axes>"
      ]
     },
     "metadata": {},
     "output_type": "display_data"
    },
    {
     "name": "stdout",
     "output_type": "stream",
     "text": [
      "[[-0.20236994  0.20216788 -0.44319297  0.4429909   0.91331594 -0.913518\n",
      "  -0.01018278  0.00998072]]\n"
     ]
    },
    {
     "data": {
      "image/png": "[encoded data removed]",
      "text/plain": [
       "<Figure size 864x576 with 1 Axes>"
      ]
     },
     "metadata": {},
     "output_type": "display_data"
    },
    {
     "name": "stdout",
     "output_type": "stream",
     "text": [
      "[[-0.22103792  0.22102967 -0.49262423  0.49261597  0.96482533 -0.96483358\n",
      "  -0.01915002  0.01914177]]\n"
     ]
    },
    {
     "data": {
      "image/png": "[encoded data removed]",
      "text/plain": [
       "<Figure size 864x576 with 1 Axes>"
      ]
     },
     "metadata": {},
     "output_type": "display_data"
    },
    {
     "name": "stdout",
     "output_type": "stream",
     "text": [
      "[[-0.35947609 -0.04529593 -0.64347012  0.2386981   0.72309283 -1.12786486\n",
      "  -0.2214433  -0.18332872]]\n"
     ]
    },
    {
     "data": {
      "image/png": "[encoded data removed]",
      "text/plain": [
       "<Figure size 864x576 with 1 Axes>"
      ]
     },
     "metadata": {},
     "output_type": "display_data"
    },
    {
     "name": "stdout",
     "output_type": "stream",
     "text": [
      "[[-0.14857286  0.148723   -0.47602697  0.4761771   0.91647079 -0.91632065\n",
      "  -0.01253564  0.01268578]]\n"
     ]
    },
    {
     "data": {
      "image/png": "[encoded data removed]",
      "text/plain": [
       "<Figure size 864x576 with 1 Axes>"
      ]
     },
     "metadata": {},
     "output_type": "display_data"
    },
    {
     "name": "stdout",
     "output_type": "stream",
     "text": [
      "[[-0.11652464  0.11646845 -0.51458554  0.51452935  1.14945704 -1.14951323\n",
      "  -0.05421502  0.05415882]]\n"
     ]
    },
    {
     "data": {
      "image/png": "[encoded data removed]",
      "text/plain": [
       "<Figure size 864x576 with 1 Axes>"
      ]
     },
     "metadata": {},
     "output_type": "display_data"
    },
    {
     "name": "stdout",
     "output_type": "stream",
     "text": [
      "[[-0.09757431  0.09759499 -0.45998803  0.4600087   1.18428929 -1.18426861\n",
      "   0.04103939 -0.04101871]]\n"
     ]
    },
    {
     "data": {
      "image/png": "[encoded data removed]",
      "text/plain": [
       "<Figure size 864x576 with 1 Axes>"
      ]
     },
     "metadata": {},
     "output_type": "display_data"
    },
    {
     "name": "stdout",
     "output_type": "stream",
     "text": [
      "[[-0.12428717  0.12429508 -0.45472568  0.45473359  0.89474256 -0.89473465\n",
      "   0.06403901 -0.0640311 ]]\n"
     ]
    },
    {
     "data": {
      "image/png": "[encoded data removed]",
      "text/plain": [
       "<Figure size 864x576 with 1 Axes>"
      ]
     },
     "metadata": {},
     "output_type": "display_data"
    },
    {
     "name": "stdout",
     "output_type": "stream",
     "text": [
      "[[-0.19737191  0.10694468 -0.49719802  0.40677079  0.83232058 -0.92274781\n",
      "  -0.05319869 -0.03722854]]\n"
     ]
    },
    {
     "data": {
      "image/png": "[encoded data removed]",
      "text/plain": [
       "<Figure size 864x576 with 1 Axes>"
      ]
     },
     "metadata": {},
     "output_type": "display_data"
    },
    {
     "name": "stdout",
     "output_type": "stream",
     "text": [
      "[[-0.18253529  0.18255134 -0.520593    0.52060906  1.28944757 -1.28943151\n",
      "  -0.05260064  0.05261669]]\n"
     ]
    },
    {
     "data": {
      "image/png": "[encoded data removed]",
      "text/plain": [
       "<Figure size 864x576 with 1 Axes>"
      ]
     },
     "metadata": {},
     "output_type": "display_data"
    },
    {
     "name": "stdout",
     "output_type": "stream",
     "text": [
      "[[-0.16984318  0.15902904 -0.4931731   0.48235895  0.95104086 -0.961855\n",
      "  -0.03276685  0.02195271]]\n"
     ]
    }
   ],
   "source": [
    "from sklearn.model_selection import train_test_split\n",
    "from sklearn.linear_model import LogisticRegression\n",
    "from sklearn.metrics import accuracy_score\n",
    "accs = []\n",
    "for i in range(len(Company)):\n",
    "    for j in range(len(Drug)):\n",
    "        for k in range(len(RCode)):\n",
    "            \n",
    "            app = result4[(result4.bin==Company[i]) & (result4.drug==Drug[j]) & (result4.reject_code==RCode[k])]\n",
    "            if app.empty:\n",
    "                accs.append(-1)\n",
    "                \n",
    "            else:\n",
    "                X = pd.get_dummies(data=app[['correct_diagnosis','tried_and_failed','contraindication','is_workday']], columns=['correct_diagnosis','tried_and_failed','contraindication','is_workday']).to_numpy()\n",
    "                Y = app['pa_approved'].to_numpy()\n",
    "                X_train, X_test, Y_train, Y_test = train_test_split(X, Y, test_size=0.25, random_state=614, shuffle=True, stratify= Y)\n",
    "                log_reg = LogisticRegression()\n",
    "                log_reg.fit(X_train, Y_train)\n",
    "                X_train_prob = log_reg.predict_proba(X_train)[:,1]\n",
    "                Y_train_pred = 1*(X_train_prob>0.5)\n",
    "                for cutoff in cutoffs:\n",
    "                    Y_train_pred = 1*(X_train_prob>cutoff)\n",
    "                    accs.append(np.sum(Y_train_pred==Y_train)/len(Y_train))\n",
    "                plt.figure(figsize=(12,8))\n",
    "                plt.scatter(cutoffs,accs)\n",
    "                plt.xlabel(\"Cutoff\",fontsize=16)\n",
    "                plt.ylabel(\"Training Accuracy\",fontsize=16)\n",
    "                plt.show()\n",
    "                print(log_reg.coef_)\n",
    "            accs.clear()"
   ]
  },
  {
   "cell_type": "code",
   "execution_count": 49,
   "metadata": {},
   "outputs": [],
   "source": [
    "from sklearn.model_selection import train_test_split\n",
    "from sklearn.linear_model import LogisticRegression\n",
    "from sklearn.metrics import accuracy_score\n",
    "accs = []\n",
    "for i in range(len(Company)):\n",
    "    for j in range(len(Drug)):\n",
    "        for k in range(len(RCode)):\n",
    "            \n",
    "            app = result2[(result2.bin==Company[i]) & (result2.drug==Drug[j]) & (result2.reject_code==RCode[k])]\n",
    "            if app.empty:\n",
    "                accs.append(-1)\n",
    "                \n",
    "            else:\n",
    "                X = pd.get_dummies(data=app[['correct_diagnosis','tried_and_failed','contraindication']], columns=['correct_diagnosis','tried_and_failed','contraindication']).to_numpy()\n",
    "                Y = app['pa_approved'].to_numpy()\n",
    "                X_train, X_test, Y_train, Y_test = train_test_split(X, Y, test_size=0.25, random_state=614, shuffle=True, stratify= Y)\n",
    "                log_reg = LogisticRegression()\n",
    "                log_reg.fit(X_train, Y_train)\n",
    "                X_train_prob = log_reg.predict_proba(X_train)[:,1]\n",
    "                Y_train_pred = 1*(X_train_prob>0.5)\n",
    "                accs.append(np.sum(Y_train_pred==Y_train)/len(Y_train))"
   ]
  },
  {
   "cell_type": "code",
   "execution_count": 50,
   "metadata": {},
   "outputs": [
    {
     "data": {
      "text/plain": [
       "[0.9903260804050389,\n",
       " -1,\n",
       " -1,\n",
       " -1,\n",
       " 0.9064574532287266,\n",
       " -1,\n",
       " -1,\n",
       " -1,\n",
       " 0.6728077364366497,\n",
       " -1,\n",
       " 0.9011341222879684,\n",
       " -1,\n",
       " -1,\n",
       " -1,\n",
       " 0.6590270375036341,\n",
       " 0.8362916511664984,\n",
       " -1,\n",
       " -1,\n",
       " -1,\n",
       " 0.9623702244655095,\n",
       " -1,\n",
       " -1,\n",
       " 0.9304503624073621,\n",
       " -1,\n",
       " -1,\n",
       " 0.7859021567596002,\n",
       " -1,\n",
       " -1,\n",
       " -1,\n",
       " 0.6751439866407661,\n",
       " 0.973158911444742,\n",
       " -1,\n",
       " -1,\n",
       " -1,\n",
       " 0.7212497647280256,\n",
       " -1]"
      ]
     },
     "execution_count": 50,
     "metadata": {},
     "output_type": "execute_result"
    }
   ],
   "source": [
    "accs"
   ]
  },
  {
   "cell_type": "code",
   "execution_count": 66,
   "metadata": {},
   "outputs": [
    {
     "data": {
      "image/png": "[encoded data removed]",
      "text/plain": [
       "<Figure size 864x576 with 1 Axes>"
      ]
     },
     "metadata": {},
     "output_type": "display_data"
    },
    {
     "name": "stdout",
     "output_type": "stream",
     "text": [
      "[[-0.17795907  0.17784422 -0.5689445   0.56882964  1.37755958 -1.37767444]]\n"
     ]
    },
    {
     "data": {
      "image/png": "[encoded data removed]",
      "text/plain": [
       "<Figure size 864x576 with 1 Axes>"
      ]
     },
     "metadata": {},
     "output_type": "display_data"
    },
    {
     "name": "stdout",
     "output_type": "stream",
     "text": [
      "[[-0.17227899  0.17225898 -0.48768103  0.48766103  1.06632297 -1.06634298]]\n"
     ]
    },
    {
     "data": {
      "image/png": "[encoded data removed]",
      "text/plain": [
       "<Figure size 864x576 with 1 Axes>"
      ]
     },
     "metadata": {},
     "output_type": "display_data"
    },
    {
     "name": "stdout",
     "output_type": "stream",
     "text": [
      "[[-0.20229783  0.20217596 -0.44321461  0.44309274  0.91324197 -0.91336384]]\n"
     ]
    },
    {
     "data": {
      "image/png": "[encoded data removed]",
      "text/plain": [
       "<Figure size 864x576 with 1 Axes>"
      ]
     },
     "metadata": {},
     "output_type": "display_data"
    },
    {
     "name": "stdout",
     "output_type": "stream",
     "text": [
      "[[-0.22082471  0.22084393 -0.49246736  0.49248659  0.96472759 -0.96470837]]\n"
     ]
    },
    {
     "data": {
      "image/png": "[encoded data removed]",
      "text/plain": [
       "<Figure size 864x576 with 1 Axes>"
      ]
     },
     "metadata": {},
     "output_type": "display_data"
    },
    {
     "name": "stdout",
     "output_type": "stream",
     "text": [
      "[[-0.15709385  0.15712403 -0.44104744  0.44107762  0.92544658 -0.9254164 ]]\n"
     ]
    },
    {
     "data": {
      "image/png": "[encoded data removed]",
      "text/plain": [
       "<Figure size 864x576 with 1 Axes>"
      ]
     },
     "metadata": {},
     "output_type": "display_data"
    },
    {
     "name": "stdout",
     "output_type": "stream",
     "text": [
      "[[-0.1486765   0.14858176 -0.47605145  0.4759567   0.91630126 -0.91639601]]\n"
     ]
    },
    {
     "data": {
      "image/png": "[encoded data removed]",
      "text/plain": [
       "<Figure size 864x576 with 1 Axes>"
      ]
     },
     "metadata": {},
     "output_type": "display_data"
    },
    {
     "name": "stdout",
     "output_type": "stream",
     "text": [
      "[[-0.11571369  0.11572416 -0.51453702  0.5145475   1.14950981 -1.14949933]]\n"
     ]
    },
    {
     "data": {
      "image/png": "[encoded data removed]",
      "text/plain": [
       "<Figure size 864x576 with 1 Axes>"
      ]
     },
     "metadata": {},
     "output_type": "display_data"
    },
    {
     "name": "stdout",
     "output_type": "stream",
     "text": [
      "[[-0.0972019   0.09710664 -0.46021207  0.46011681  1.18393543 -1.18403069]]\n"
     ]
    },
    {
     "data": {
      "image/png": "[encoded data removed]",
      "text/plain": [
       "<Figure size 864x576 with 1 Axes>"
      ]
     },
     "metadata": {},
     "output_type": "display_data"
    },
    {
     "name": "stdout",
     "output_type": "stream",
     "text": [
      "[[-0.12454445  0.12453336 -0.45503945  0.45502837  0.89489183 -0.89490291]]\n"
     ]
    },
    {
     "data": {
      "image/png": "[encoded data removed]",
      "text/plain": [
       "<Figure size 864x576 with 1 Axes>"
      ]
     },
     "metadata": {},
     "output_type": "display_data"
    },
    {
     "name": "stdout",
     "output_type": "stream",
     "text": [
      "[[-0.20524731  0.09906939 -0.50503755  0.39885963  0.82440054 -0.93057846]]\n"
     ]
    },
    {
     "data": {
      "image/png": "[encoded data removed]",
      "text/plain": [
       "<Figure size 864x576 with 1 Axes>"
      ]
     },
     "metadata": {},
     "output_type": "display_data"
    },
    {
     "name": "stdout",
     "output_type": "stream",
     "text": [
      "[[-0.18261947  0.18261953 -0.52047642  0.52047648  1.28917096 -1.28917089]]\n"
     ]
    },
    {
     "data": {
      "image/png": "[encoded data removed]",
      "text/plain": [
       "<Figure size 864x576 with 1 Axes>"
      ]
     },
     "metadata": {},
     "output_type": "display_data"
    },
    {
     "name": "stdout",
     "output_type": "stream",
     "text": [
      "[[-0.16740732  0.16242998 -0.49028075  0.48530341  0.95349031 -0.95846764]]\n"
     ]
    }
   ],
   "source": [
    "from sklearn.model_selection import train_test_split\n",
    "from sklearn.linear_model import LogisticRegression\n",
    "from sklearn.metrics import accuracy_score\n",
    "accs = []\n",
    "for i in range(len(Company)):\n",
    "    for j in range(len(Drug)):\n",
    "        for k in range(len(RCode)):\n",
    "            \n",
    "            app = result2[(result2.bin==Company[i]) & (result2.drug==Drug[j]) & (result2.reject_code==RCode[k])]\n",
    "            if app.empty:\n",
    "                accs.append(-1)\n",
    "                \n",
    "            else:\n",
    "                X = pd.get_dummies(data=app[['correct_diagnosis','tried_and_failed','contraindication']], columns=['correct_diagnosis','tried_and_failed','contraindication']).to_numpy()\n",
    "                Y = app['pa_approved'].to_numpy()\n",
    "                X_train, X_test, Y_train, Y_test = train_test_split(X, Y, test_size=0.25, random_state=614, shuffle=True, stratify= Y)\n",
    "                log_reg = LogisticRegression()\n",
    "                log_reg.fit(X_train, Y_train)\n",
    "                X_train_prob = log_reg.predict_proba(X_train)[:,1]\n",
    "                Y_train_pred = 1*(X_train_prob>0.5)\n",
    "                for cutoff in cutoffs:\n",
    "                    Y_train_pred = 1*(X_train_prob>cutoff)\n",
    "                    accs.append(np.sum(Y_train_pred==Y_train)/len(Y_train))\n",
    "                plt.figure(figsize=(12,8))\n",
    "                plt.scatter(cutoffs,accs)\n",
    "                plt.xlabel(\"Cutoff\",fontsize=16)\n",
    "                plt.ylabel(\"Training Accuracy\",fontsize=16)\n",
    "                plt.show()\n",
    "                print(log_reg.coef_)\n",
    "            accs.clear()"
   ]
  },
  {
   "cell_type": "code",
   "execution_count": null,
   "metadata": {},
   "outputs": [],
   "source": []
  },
  {
   "cell_type": "code",
   "execution_count": 62,
   "metadata": {},
   "outputs": [
    {
     "data": {
      "text/plain": [
       "36"
      ]
     },
     "execution_count": 62,
     "metadata": {},
     "output_type": "execute_result"
    }
   ],
   "source": [
    "len(accs)"
   ]
  },
  {
   "cell_type": "code",
   "execution_count": 63,
   "metadata": {},
   "outputs": [
    {
     "data": {
      "text/plain": [
       "[0.9903260804050389,\n",
       " -1,\n",
       " -1,\n",
       " -1,\n",
       " 0.9064574532287266,\n",
       " -1,\n",
       " -1,\n",
       " -1,\n",
       " 0.6728077364366497,\n",
       " -1,\n",
       " 0.9011341222879684,\n",
       " -1,\n",
       " -1,\n",
       " -1,\n",
       " 0.6590270375036341,\n",
       " 0.8362916511664984,\n",
       " -1,\n",
       " -1,\n",
       " -1,\n",
       " 0.9623702244655095,\n",
       " -1,\n",
       " -1,\n",
       " 0.9304503624073621,\n",
       " -1,\n",
       " -1,\n",
       " 0.7859021567596002,\n",
       " -1,\n",
       " -1,\n",
       " -1,\n",
       " 0.6751439866407661,\n",
       " 0.973158911444742,\n",
       " -1,\n",
       " -1,\n",
       " -1,\n",
       " 0.7212497647280256,\n",
       " -1]"
      ]
     },
     "execution_count": 63,
     "metadata": {},
     "output_type": "execute_result"
    }
   ],
   "source": [
    "accs"
   ]
  },
  {
   "cell_type": "code",
   "execution_count": 56,
   "metadata": {},
   "outputs": [],
   "source": [
    "X = pd.get_dummies(data=result2[['correct_diagnosis','tried_and_failed','contraindication']], columns=['correct_diagnosis','tried_and_failed','contraindication']).to_numpy()\n",
    "Y = result2['pa_approved'].to_numpy()"
   ]
  },
  {
   "cell_type": "code",
   "execution_count": 45,
   "metadata": {},
   "outputs": [],
   "source": [
    "X_train, X_test, Y_train, Y_test = train_test_split(X, Y, test_size=0.25, random_state=614, shuffle=True, stratify= Y)"
   ]
  },
  {
   "cell_type": "code",
   "execution_count": 46,
   "metadata": {},
   "outputs": [],
   "source": [
    "from sklearn.linear_model import LogisticRegression"
   ]
  },
  {
   "cell_type": "code",
   "execution_count": 47,
   "metadata": {},
   "outputs": [],
   "source": [
    "log_reg = LogisticRegression()"
   ]
  },
  {
   "cell_type": "code",
   "execution_count": 48,
   "metadata": {},
   "outputs": [
    {
     "data": {
      "text/plain": [
       "LogisticRegression()"
      ]
     },
     "execution_count": 48,
     "metadata": {},
     "output_type": "execute_result"
    }
   ],
   "source": [
    "log_reg.fit(X_train, Y_train)"
   ]
  },
  {
   "cell_type": "code",
   "execution_count": 49,
   "metadata": {},
   "outputs": [],
   "source": [
    "from sklearn.metrics import accuracy_score\n",
    "X_train_prob = log_reg.predict_proba(X_train)[:,1]"
   ]
  },
  {
   "cell_type": "code",
   "execution_count": 25,
   "metadata": {},
   "outputs": [],
   "source": [
    "cutoffs =  np.arange(0,1.01,.01)\n",
    "accs = []\n",
    "\n",
    "for cutoff in cutoffs:\n",
    "    Y_train_pred = 1*(X_train_prob>cutoff)\n",
    "    accs.append(np.sum(Y_train_pred==Y_train)/len(Y_train))"
   ]
  },
  {
   "cell_type": "code",
   "execution_count": null,
   "metadata": {},
   "outputs": [],
   "source": [
    "plt.figure(figsize=(12,8))\n",
    "\n",
    "plt.scatter(cutoffs,accs)\n",
    "\n",
    "plt.xlabel(\"Cutoff\",fontsize=16)\n",
    "plt.ylabel(\"Training Accuracy\",fontsize=16)\n",
    "\n",
    "plt.show()\n"
   ]
  },
  {
   "cell_type": "code",
   "execution_count": null,
   "metadata": {},
   "outputs": [],
   "source": []
  }
 ],
 "metadata": {
  "kernelspec": {
   "display_name": "Python 3",
   "language": "python",
   "name": "python3"
  },
  "language_info": {
   "codemirror_mode": {
    "name": "ipython",
    "version": 3
   },
   "file_extension": ".py",
   "mimetype": "text/x-python",
   "name": "python",
   "nbconvert_exporter": "python",
   "pygments_lexer": "ipython3",
   "version": "3.8.5"
  }
 },
 "nbformat": 4,
 "nbformat_minor": 4
}
