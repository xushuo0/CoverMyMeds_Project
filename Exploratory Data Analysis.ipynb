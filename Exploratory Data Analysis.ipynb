{
 "cells": [
  {
   "cell_type": "markdown",
   "metadata": {},
   "source": [
    "# Exploratory Data Analysis\n",
    "### Author: Shuo Xu"
   ]
  },
  {
   "cell_type": "markdown",
   "metadata": {},
   "source": [
    "#### Import packages"
   ]
  },
  {
   "cell_type": "code",
   "execution_count": 1,
   "metadata": {},
   "outputs": [],
   "source": [
    "import pandas as pd\n",
    "import numpy as np\n",
    "from datetime import datetime\n",
    "import matplotlib.pyplot as plt\n",
    "import seaborn as sns\n",
    "sns.set_style(\"whitegrid\")"
   ]
  },
  {
   "cell_type": "markdown",
   "metadata": {},
   "source": [
    "#### Import data"
   ]
  },
  {
   "cell_type": "code",
   "execution_count": 2,
   "metadata": {},
   "outputs": [],
   "source": [
    "df_bridge = pd.read_csv('bridge.csv')\n",
    "df_claims = pd.read_csv('dim_claims.csv')\n",
    "df_date = pd.read_csv('dim_date.csv')\n",
    "df_pa = pd.read_csv('dim_pa.csv')"
   ]
  },
  {
   "cell_type": "code",
   "execution_count": 3,
   "metadata": {},
   "outputs": [
    {
     "data": {
      "text/html": [
       "<div>\n",
       "<style scoped>\n",
       "    .dataframe tbody tr th:only-of-type {\n",
       "        vertical-align: middle;\n",
       "    }\n",
       "\n",
       "    .dataframe tbody tr th {\n",
       "        vertical-align: top;\n",
       "    }\n",
       "\n",
       "    .dataframe thead th {\n",
       "        text-align: right;\n",
       "    }\n",
       "</style>\n",
       "<table border=\"1\" class=\"dataframe\">\n",
       "  <thead>\n",
       "    <tr style=\"text-align: right;\">\n",
       "      <th></th>\n",
       "      <th>dim_claim_id</th>\n",
       "      <th>dim_pa_id</th>\n",
       "      <th>dim_date_id</th>\n",
       "    </tr>\n",
       "  </thead>\n",
       "  <tbody>\n",
       "    <tr>\n",
       "      <th>0</th>\n",
       "      <td>1</td>\n",
       "      <td>1.0</td>\n",
       "      <td>1</td>\n",
       "    </tr>\n",
       "    <tr>\n",
       "      <th>1</th>\n",
       "      <td>2</td>\n",
       "      <td>NaN</td>\n",
       "      <td>1</td>\n",
       "    </tr>\n",
       "    <tr>\n",
       "      <th>2</th>\n",
       "      <td>3</td>\n",
       "      <td>2.0</td>\n",
       "      <td>1</td>\n",
       "    </tr>\n",
       "    <tr>\n",
       "      <th>3</th>\n",
       "      <td>4</td>\n",
       "      <td>NaN</td>\n",
       "      <td>1</td>\n",
       "    </tr>\n",
       "    <tr>\n",
       "      <th>4</th>\n",
       "      <td>5</td>\n",
       "      <td>NaN</td>\n",
       "      <td>1</td>\n",
       "    </tr>\n",
       "  </tbody>\n",
       "</table>\n",
       "</div>"
      ],
      "text/plain": [
       "   dim_claim_id  dim_pa_id  dim_date_id\n",
       "0             1        1.0            1\n",
       "1             2        NaN            1\n",
       "2             3        2.0            1\n",
       "3             4        NaN            1\n",
       "4             5        NaN            1"
      ]
     },
     "execution_count": 3,
     "metadata": {},
     "output_type": "execute_result"
    }
   ],
   "source": [
    "df_bridge.head()"
   ]
  },
  {
   "cell_type": "code",
   "execution_count": 4,
   "metadata": {},
   "outputs": [
    {
     "name": "stdout",
     "output_type": "stream",
     "text": [
      "<class 'pandas.core.frame.DataFrame'>\n",
      "RangeIndex: 1335576 entries, 0 to 1335575\n",
      "Data columns (total 3 columns):\n",
      " #   Column        Non-Null Count    Dtype  \n",
      "---  ------        --------------    -----  \n",
      " 0   dim_claim_id  1335576 non-null  int64  \n",
      " 1   dim_pa_id     555951 non-null   float64\n",
      " 2   dim_date_id   1335576 non-null  int64  \n",
      "dtypes: float64(1), int64(2)\n",
      "memory usage: 30.6 MB\n"
     ]
    }
   ],
   "source": [
    "df_bridge.info()"
   ]
  },
  {
   "cell_type": "code",
   "execution_count": 5,
   "metadata": {},
   "outputs": [
    {
     "data": {
      "text/html": [
       "<div>\n",
       "<style scoped>\n",
       "    .dataframe tbody tr th:only-of-type {\n",
       "        vertical-align: middle;\n",
       "    }\n",
       "\n",
       "    .dataframe tbody tr th {\n",
       "        vertical-align: top;\n",
       "    }\n",
       "\n",
       "    .dataframe thead th {\n",
       "        text-align: right;\n",
       "    }\n",
       "</style>\n",
       "<table border=\"1\" class=\"dataframe\">\n",
       "  <thead>\n",
       "    <tr style=\"text-align: right;\">\n",
       "      <th></th>\n",
       "      <th>dim_claim_id</th>\n",
       "      <th>bin</th>\n",
       "      <th>drug</th>\n",
       "      <th>reject_code</th>\n",
       "      <th>pharmacy_claim_approved</th>\n",
       "    </tr>\n",
       "  </thead>\n",
       "  <tbody>\n",
       "    <tr>\n",
       "      <th>0</th>\n",
       "      <td>1</td>\n",
       "      <td>417380</td>\n",
       "      <td>A</td>\n",
       "      <td>75.0</td>\n",
       "      <td>0</td>\n",
       "    </tr>\n",
       "    <tr>\n",
       "      <th>1</th>\n",
       "      <td>2</td>\n",
       "      <td>999001</td>\n",
       "      <td>A</td>\n",
       "      <td>NaN</td>\n",
       "      <td>1</td>\n",
       "    </tr>\n",
       "    <tr>\n",
       "      <th>2</th>\n",
       "      <td>3</td>\n",
       "      <td>417740</td>\n",
       "      <td>A</td>\n",
       "      <td>76.0</td>\n",
       "      <td>0</td>\n",
       "    </tr>\n",
       "    <tr>\n",
       "      <th>3</th>\n",
       "      <td>4</td>\n",
       "      <td>999001</td>\n",
       "      <td>A</td>\n",
       "      <td>NaN</td>\n",
       "      <td>1</td>\n",
       "    </tr>\n",
       "    <tr>\n",
       "      <th>4</th>\n",
       "      <td>5</td>\n",
       "      <td>417740</td>\n",
       "      <td>A</td>\n",
       "      <td>NaN</td>\n",
       "      <td>1</td>\n",
       "    </tr>\n",
       "  </tbody>\n",
       "</table>\n",
       "</div>"
      ],
      "text/plain": [
       "   dim_claim_id     bin drug  reject_code  pharmacy_claim_approved\n",
       "0             1  417380    A         75.0                        0\n",
       "1             2  999001    A          NaN                        1\n",
       "2             3  417740    A         76.0                        0\n",
       "3             4  999001    A          NaN                        1\n",
       "4             5  417740    A          NaN                        1"
      ]
     },
     "execution_count": 5,
     "metadata": {},
     "output_type": "execute_result"
    }
   ],
   "source": [
    "df_claims.head()"
   ]
  },
  {
   "cell_type": "code",
   "execution_count": 6,
   "metadata": {},
   "outputs": [
    {
     "name": "stdout",
     "output_type": "stream",
     "text": [
      "<class 'pandas.core.frame.DataFrame'>\n",
      "RangeIndex: 1335576 entries, 0 to 1335575\n",
      "Data columns (total 5 columns):\n",
      " #   Column                   Non-Null Count    Dtype  \n",
      "---  ------                   --------------    -----  \n",
      " 0   dim_claim_id             1335576 non-null  int64  \n",
      " 1   bin                      1335576 non-null  int64  \n",
      " 2   drug                     1335576 non-null  object \n",
      " 3   reject_code              555951 non-null   float64\n",
      " 4   pharmacy_claim_approved  1335576 non-null  int64  \n",
      "dtypes: float64(1), int64(3), object(1)\n",
      "memory usage: 50.9+ MB\n"
     ]
    }
   ],
   "source": [
    "df_claims.info()"
   ]
  },
  {
   "cell_type": "code",
   "execution_count": 7,
   "metadata": {},
   "outputs": [
    {
     "data": {
      "text/html": [
       "<div>\n",
       "<style scoped>\n",
       "    .dataframe tbody tr th:only-of-type {\n",
       "        vertical-align: middle;\n",
       "    }\n",
       "\n",
       "    .dataframe tbody tr th {\n",
       "        vertical-align: top;\n",
       "    }\n",
       "\n",
       "    .dataframe thead th {\n",
       "        text-align: right;\n",
       "    }\n",
       "</style>\n",
       "<table border=\"1\" class=\"dataframe\">\n",
       "  <thead>\n",
       "    <tr style=\"text-align: right;\">\n",
       "      <th></th>\n",
       "      <th>dim_pa_id</th>\n",
       "      <th>correct_diagnosis</th>\n",
       "      <th>tried_and_failed</th>\n",
       "      <th>contraindication</th>\n",
       "      <th>pa_approved</th>\n",
       "    </tr>\n",
       "  </thead>\n",
       "  <tbody>\n",
       "    <tr>\n",
       "      <th>0</th>\n",
       "      <td>1</td>\n",
       "      <td>1</td>\n",
       "      <td>1</td>\n",
       "      <td>0</td>\n",
       "      <td>1</td>\n",
       "    </tr>\n",
       "    <tr>\n",
       "      <th>1</th>\n",
       "      <td>2</td>\n",
       "      <td>1</td>\n",
       "      <td>0</td>\n",
       "      <td>0</td>\n",
       "      <td>1</td>\n",
       "    </tr>\n",
       "    <tr>\n",
       "      <th>2</th>\n",
       "      <td>3</td>\n",
       "      <td>0</td>\n",
       "      <td>0</td>\n",
       "      <td>1</td>\n",
       "      <td>1</td>\n",
       "    </tr>\n",
       "    <tr>\n",
       "      <th>3</th>\n",
       "      <td>4</td>\n",
       "      <td>1</td>\n",
       "      <td>1</td>\n",
       "      <td>0</td>\n",
       "      <td>1</td>\n",
       "    </tr>\n",
       "    <tr>\n",
       "      <th>4</th>\n",
       "      <td>5</td>\n",
       "      <td>0</td>\n",
       "      <td>1</td>\n",
       "      <td>0</td>\n",
       "      <td>1</td>\n",
       "    </tr>\n",
       "  </tbody>\n",
       "</table>\n",
       "</div>"
      ],
      "text/plain": [
       "   dim_pa_id  correct_diagnosis  tried_and_failed  contraindication  \\\n",
       "0          1                  1                 1                 0   \n",
       "1          2                  1                 0                 0   \n",
       "2          3                  0                 0                 1   \n",
       "3          4                  1                 1                 0   \n",
       "4          5                  0                 1                 0   \n",
       "\n",
       "   pa_approved  \n",
       "0            1  \n",
       "1            1  \n",
       "2            1  \n",
       "3            1  \n",
       "4            1  "
      ]
     },
     "execution_count": 7,
     "metadata": {},
     "output_type": "execute_result"
    }
   ],
   "source": [
    "df_pa.head()"
   ]
  },
  {
   "cell_type": "code",
   "execution_count": 8,
   "metadata": {},
   "outputs": [
    {
     "name": "stdout",
     "output_type": "stream",
     "text": [
      "<class 'pandas.core.frame.DataFrame'>\n",
      "RangeIndex: 555951 entries, 0 to 555950\n",
      "Data columns (total 5 columns):\n",
      " #   Column             Non-Null Count   Dtype\n",
      "---  ------             --------------   -----\n",
      " 0   dim_pa_id          555951 non-null  int64\n",
      " 1   correct_diagnosis  555951 non-null  int64\n",
      " 2   tried_and_failed   555951 non-null  int64\n",
      " 3   contraindication   555951 non-null  int64\n",
      " 4   pa_approved        555951 non-null  int64\n",
      "dtypes: int64(5)\n",
      "memory usage: 21.2 MB\n"
     ]
    }
   ],
   "source": [
    "df_pa.info()"
   ]
  },
  {
   "cell_type": "code",
   "execution_count": 9,
   "metadata": {},
   "outputs": [
    {
     "data": {
      "text/html": [
       "<div>\n",
       "<style scoped>\n",
       "    .dataframe tbody tr th:only-of-type {\n",
       "        vertical-align: middle;\n",
       "    }\n",
       "\n",
       "    .dataframe tbody tr th {\n",
       "        vertical-align: top;\n",
       "    }\n",
       "\n",
       "    .dataframe thead th {\n",
       "        text-align: right;\n",
       "    }\n",
       "</style>\n",
       "<table border=\"1\" class=\"dataframe\">\n",
       "  <thead>\n",
       "    <tr style=\"text-align: right;\">\n",
       "      <th></th>\n",
       "      <th>dim_date_id</th>\n",
       "      <th>date_val</th>\n",
       "      <th>calendar_year</th>\n",
       "      <th>calendar_month</th>\n",
       "      <th>calendar_day</th>\n",
       "      <th>day_of_week</th>\n",
       "      <th>is_weekday</th>\n",
       "      <th>is_workday</th>\n",
       "      <th>is_holiday</th>\n",
       "    </tr>\n",
       "  </thead>\n",
       "  <tbody>\n",
       "    <tr>\n",
       "      <th>0</th>\n",
       "      <td>1</td>\n",
       "      <td>2017-01-01</td>\n",
       "      <td>2017</td>\n",
       "      <td>1</td>\n",
       "      <td>1</td>\n",
       "      <td>1</td>\n",
       "      <td>0</td>\n",
       "      <td>0</td>\n",
       "      <td>1</td>\n",
       "    </tr>\n",
       "    <tr>\n",
       "      <th>1</th>\n",
       "      <td>2</td>\n",
       "      <td>2017-01-02</td>\n",
       "      <td>2017</td>\n",
       "      <td>1</td>\n",
       "      <td>2</td>\n",
       "      <td>2</td>\n",
       "      <td>1</td>\n",
       "      <td>0</td>\n",
       "      <td>0</td>\n",
       "    </tr>\n",
       "    <tr>\n",
       "      <th>2</th>\n",
       "      <td>3</td>\n",
       "      <td>2017-01-03</td>\n",
       "      <td>2017</td>\n",
       "      <td>1</td>\n",
       "      <td>3</td>\n",
       "      <td>3</td>\n",
       "      <td>1</td>\n",
       "      <td>1</td>\n",
       "      <td>0</td>\n",
       "    </tr>\n",
       "    <tr>\n",
       "      <th>3</th>\n",
       "      <td>4</td>\n",
       "      <td>2017-01-04</td>\n",
       "      <td>2017</td>\n",
       "      <td>1</td>\n",
       "      <td>4</td>\n",
       "      <td>4</td>\n",
       "      <td>1</td>\n",
       "      <td>1</td>\n",
       "      <td>0</td>\n",
       "    </tr>\n",
       "    <tr>\n",
       "      <th>4</th>\n",
       "      <td>5</td>\n",
       "      <td>2017-01-05</td>\n",
       "      <td>2017</td>\n",
       "      <td>1</td>\n",
       "      <td>5</td>\n",
       "      <td>5</td>\n",
       "      <td>1</td>\n",
       "      <td>1</td>\n",
       "      <td>0</td>\n",
       "    </tr>\n",
       "  </tbody>\n",
       "</table>\n",
       "</div>"
      ],
      "text/plain": [
       "   dim_date_id    date_val  calendar_year  calendar_month  calendar_day  \\\n",
       "0            1  2017-01-01           2017               1             1   \n",
       "1            2  2017-01-02           2017               1             2   \n",
       "2            3  2017-01-03           2017               1             3   \n",
       "3            4  2017-01-04           2017               1             4   \n",
       "4            5  2017-01-05           2017               1             5   \n",
       "\n",
       "   day_of_week  is_weekday  is_workday  is_holiday  \n",
       "0            1           0           0           1  \n",
       "1            2           1           0           0  \n",
       "2            3           1           1           0  \n",
       "3            4           1           1           0  \n",
       "4            5           1           1           0  "
      ]
     },
     "execution_count": 9,
     "metadata": {},
     "output_type": "execute_result"
    }
   ],
   "source": [
    "df_date.head()"
   ]
  },
  {
   "cell_type": "code",
   "execution_count": 20,
   "metadata": {},
   "outputs": [
    {
     "name": "stdout",
     "output_type": "stream",
     "text": [
      "<class 'pandas.core.frame.DataFrame'>\n",
      "RangeIndex: 1520 entries, 0 to 1519\n",
      "Data columns (total 9 columns):\n",
      " #   Column          Non-Null Count  Dtype \n",
      "---  ------          --------------  ----- \n",
      " 0   dim_date_id     1520 non-null   int64 \n",
      " 1   date_val        1520 non-null   object\n",
      " 2   calendar_year   1520 non-null   int64 \n",
      " 3   calendar_month  1520 non-null   int64 \n",
      " 4   calendar_day    1520 non-null   int64 \n",
      " 5   day_of_week     1520 non-null   int64 \n",
      " 6   is_weekday      1520 non-null   int64 \n",
      " 7   is_workday      1520 non-null   int64 \n",
      " 8   is_holiday      1520 non-null   int64 \n",
      "dtypes: int64(8), object(1)\n",
      "memory usage: 107.0+ KB\n"
     ]
    }
   ],
   "source": [
    "df_date.info()"
   ]
  },
  {
   "cell_type": "markdown",
   "metadata": {},
   "source": [
    "#### Time Series of Claims"
   ]
  },
  {
   "cell_type": "code",
   "execution_count": 44,
   "metadata": {},
   "outputs": [],
   "source": [
    "result1 = pd.merge(df_bridge, df_claims, how=\"inner\", on=[\"dim_claim_id\"])\n",
    "df_claims_ts = pd.merge(result1, df_date, how = \"inner\", on = [\"dim_date_id\"])"
   ]
  },
  {
   "cell_type": "code",
   "execution_count": 45,
   "metadata": {},
   "outputs": [
    {
     "data": {
      "text/html": [
       "<div>\n",
       "<style scoped>\n",
       "    .dataframe tbody tr th:only-of-type {\n",
       "        vertical-align: middle;\n",
       "    }\n",
       "\n",
       "    .dataframe tbody tr th {\n",
       "        vertical-align: top;\n",
       "    }\n",
       "\n",
       "    .dataframe thead th {\n",
       "        text-align: right;\n",
       "    }\n",
       "</style>\n",
       "<table border=\"1\" class=\"dataframe\">\n",
       "  <thead>\n",
       "    <tr style=\"text-align: right;\">\n",
       "      <th></th>\n",
       "      <th>dim_claim_id</th>\n",
       "      <th>dim_pa_id</th>\n",
       "      <th>dim_date_id</th>\n",
       "      <th>bin</th>\n",
       "      <th>drug</th>\n",
       "      <th>reject_code</th>\n",
       "      <th>pharmacy_claim_approved</th>\n",
       "      <th>date_val</th>\n",
       "      <th>calendar_year</th>\n",
       "      <th>calendar_month</th>\n",
       "      <th>calendar_day</th>\n",
       "      <th>day_of_week</th>\n",
       "      <th>is_weekday</th>\n",
       "      <th>is_workday</th>\n",
       "      <th>is_holiday</th>\n",
       "    </tr>\n",
       "  </thead>\n",
       "  <tbody>\n",
       "    <tr>\n",
       "      <th>0</th>\n",
       "      <td>1</td>\n",
       "      <td>1.0</td>\n",
       "      <td>1</td>\n",
       "      <td>417380</td>\n",
       "      <td>A</td>\n",
       "      <td>75.0</td>\n",
       "      <td>0</td>\n",
       "      <td>2017-01-01</td>\n",
       "      <td>2017</td>\n",
       "      <td>1</td>\n",
       "      <td>1</td>\n",
       "      <td>1</td>\n",
       "      <td>0</td>\n",
       "      <td>0</td>\n",
       "      <td>1</td>\n",
       "    </tr>\n",
       "    <tr>\n",
       "      <th>1</th>\n",
       "      <td>2</td>\n",
       "      <td>NaN</td>\n",
       "      <td>1</td>\n",
       "      <td>999001</td>\n",
       "      <td>A</td>\n",
       "      <td>NaN</td>\n",
       "      <td>1</td>\n",
       "      <td>2017-01-01</td>\n",
       "      <td>2017</td>\n",
       "      <td>1</td>\n",
       "      <td>1</td>\n",
       "      <td>1</td>\n",
       "      <td>0</td>\n",
       "      <td>0</td>\n",
       "      <td>1</td>\n",
       "    </tr>\n",
       "    <tr>\n",
       "      <th>2</th>\n",
       "      <td>3</td>\n",
       "      <td>2.0</td>\n",
       "      <td>1</td>\n",
       "      <td>417740</td>\n",
       "      <td>A</td>\n",
       "      <td>76.0</td>\n",
       "      <td>0</td>\n",
       "      <td>2017-01-01</td>\n",
       "      <td>2017</td>\n",
       "      <td>1</td>\n",
       "      <td>1</td>\n",
       "      <td>1</td>\n",
       "      <td>0</td>\n",
       "      <td>0</td>\n",
       "      <td>1</td>\n",
       "    </tr>\n",
       "    <tr>\n",
       "      <th>3</th>\n",
       "      <td>4</td>\n",
       "      <td>NaN</td>\n",
       "      <td>1</td>\n",
       "      <td>999001</td>\n",
       "      <td>A</td>\n",
       "      <td>NaN</td>\n",
       "      <td>1</td>\n",
       "      <td>2017-01-01</td>\n",
       "      <td>2017</td>\n",
       "      <td>1</td>\n",
       "      <td>1</td>\n",
       "      <td>1</td>\n",
       "      <td>0</td>\n",
       "      <td>0</td>\n",
       "      <td>1</td>\n",
       "    </tr>\n",
       "    <tr>\n",
       "      <th>4</th>\n",
       "      <td>5</td>\n",
       "      <td>NaN</td>\n",
       "      <td>1</td>\n",
       "      <td>417740</td>\n",
       "      <td>A</td>\n",
       "      <td>NaN</td>\n",
       "      <td>1</td>\n",
       "      <td>2017-01-01</td>\n",
       "      <td>2017</td>\n",
       "      <td>1</td>\n",
       "      <td>1</td>\n",
       "      <td>1</td>\n",
       "      <td>0</td>\n",
       "      <td>0</td>\n",
       "      <td>1</td>\n",
       "    </tr>\n",
       "  </tbody>\n",
       "</table>\n",
       "</div>"
      ],
      "text/plain": [
       "   dim_claim_id  dim_pa_id  dim_date_id     bin drug  reject_code  \\\n",
       "0             1        1.0            1  417380    A         75.0   \n",
       "1             2        NaN            1  999001    A          NaN   \n",
       "2             3        2.0            1  417740    A         76.0   \n",
       "3             4        NaN            1  999001    A          NaN   \n",
       "4             5        NaN            1  417740    A          NaN   \n",
       "\n",
       "   pharmacy_claim_approved    date_val  calendar_year  calendar_month  \\\n",
       "0                        0  2017-01-01           2017               1   \n",
       "1                        1  2017-01-01           2017               1   \n",
       "2                        0  2017-01-01           2017               1   \n",
       "3                        1  2017-01-01           2017               1   \n",
       "4                        1  2017-01-01           2017               1   \n",
       "\n",
       "   calendar_day  day_of_week  is_weekday  is_workday  is_holiday  \n",
       "0             1            1           0           0           1  \n",
       "1             1            1           0           0           1  \n",
       "2             1            1           0           0           1  \n",
       "3             1            1           0           0           1  \n",
       "4             1            1           0           0           1  "
      ]
     },
     "execution_count": 45,
     "metadata": {},
     "output_type": "execute_result"
    }
   ],
   "source": [
    "df_claims_ts.head()"
   ]
  },
  {
   "cell_type": "code",
   "execution_count": 46,
   "metadata": {},
   "outputs": [],
   "source": [
    "df_claims_ts.to_csv(r'C:\\Users\\xushu\\Downloads\\CoverMyMeds_data-20210503T170046Z-001\\CoverMyMeds_data\\Claims_Time_Series.csv', index = False)"
   ]
  },
  {
   "cell_type": "markdown",
   "metadata": {},
   "source": [
    "#### Time Series of PA"
   ]
  },
  {
   "cell_type": "code",
   "execution_count": 47,
   "metadata": {},
   "outputs": [],
   "source": [
    "result2 = pd.merge(df_bridge, df_pa, how=\"inner\", on=[\"dim_pa_id\"])\n",
    "df_pa_ts = pd.merge(result2, df_date, how = \"inner\", on = [\"dim_date_id\"])"
   ]
  },
  {
   "cell_type": "code",
   "execution_count": 48,
   "metadata": {},
   "outputs": [
    {
     "data": {
      "text/html": [
       "<div>\n",
       "<style scoped>\n",
       "    .dataframe tbody tr th:only-of-type {\n",
       "        vertical-align: middle;\n",
       "    }\n",
       "\n",
       "    .dataframe tbody tr th {\n",
       "        vertical-align: top;\n",
       "    }\n",
       "\n",
       "    .dataframe thead th {\n",
       "        text-align: right;\n",
       "    }\n",
       "</style>\n",
       "<table border=\"1\" class=\"dataframe\">\n",
       "  <thead>\n",
       "    <tr style=\"text-align: right;\">\n",
       "      <th></th>\n",
       "      <th>dim_claim_id</th>\n",
       "      <th>dim_pa_id</th>\n",
       "      <th>dim_date_id</th>\n",
       "      <th>correct_diagnosis</th>\n",
       "      <th>tried_and_failed</th>\n",
       "      <th>contraindication</th>\n",
       "      <th>pa_approved</th>\n",
       "      <th>date_val</th>\n",
       "      <th>calendar_year</th>\n",
       "      <th>calendar_month</th>\n",
       "      <th>calendar_day</th>\n",
       "      <th>day_of_week</th>\n",
       "      <th>is_weekday</th>\n",
       "      <th>is_workday</th>\n",
       "      <th>is_holiday</th>\n",
       "    </tr>\n",
       "  </thead>\n",
       "  <tbody>\n",
       "    <tr>\n",
       "      <th>0</th>\n",
       "      <td>1</td>\n",
       "      <td>1.0</td>\n",
       "      <td>1</td>\n",
       "      <td>1</td>\n",
       "      <td>1</td>\n",
       "      <td>0</td>\n",
       "      <td>1</td>\n",
       "      <td>2017-01-01</td>\n",
       "      <td>2017</td>\n",
       "      <td>1</td>\n",
       "      <td>1</td>\n",
       "      <td>1</td>\n",
       "      <td>0</td>\n",
       "      <td>0</td>\n",
       "      <td>1</td>\n",
       "    </tr>\n",
       "    <tr>\n",
       "      <th>1</th>\n",
       "      <td>3</td>\n",
       "      <td>2.0</td>\n",
       "      <td>1</td>\n",
       "      <td>1</td>\n",
       "      <td>0</td>\n",
       "      <td>0</td>\n",
       "      <td>1</td>\n",
       "      <td>2017-01-01</td>\n",
       "      <td>2017</td>\n",
       "      <td>1</td>\n",
       "      <td>1</td>\n",
       "      <td>1</td>\n",
       "      <td>0</td>\n",
       "      <td>0</td>\n",
       "      <td>1</td>\n",
       "    </tr>\n",
       "    <tr>\n",
       "      <th>2</th>\n",
       "      <td>10</td>\n",
       "      <td>3.0</td>\n",
       "      <td>1</td>\n",
       "      <td>0</td>\n",
       "      <td>0</td>\n",
       "      <td>1</td>\n",
       "      <td>1</td>\n",
       "      <td>2017-01-01</td>\n",
       "      <td>2017</td>\n",
       "      <td>1</td>\n",
       "      <td>1</td>\n",
       "      <td>1</td>\n",
       "      <td>0</td>\n",
       "      <td>0</td>\n",
       "      <td>1</td>\n",
       "    </tr>\n",
       "    <tr>\n",
       "      <th>3</th>\n",
       "      <td>11</td>\n",
       "      <td>4.0</td>\n",
       "      <td>1</td>\n",
       "      <td>1</td>\n",
       "      <td>1</td>\n",
       "      <td>0</td>\n",
       "      <td>1</td>\n",
       "      <td>2017-01-01</td>\n",
       "      <td>2017</td>\n",
       "      <td>1</td>\n",
       "      <td>1</td>\n",
       "      <td>1</td>\n",
       "      <td>0</td>\n",
       "      <td>0</td>\n",
       "      <td>1</td>\n",
       "    </tr>\n",
       "    <tr>\n",
       "      <th>4</th>\n",
       "      <td>15</td>\n",
       "      <td>5.0</td>\n",
       "      <td>1</td>\n",
       "      <td>0</td>\n",
       "      <td>1</td>\n",
       "      <td>0</td>\n",
       "      <td>1</td>\n",
       "      <td>2017-01-01</td>\n",
       "      <td>2017</td>\n",
       "      <td>1</td>\n",
       "      <td>1</td>\n",
       "      <td>1</td>\n",
       "      <td>0</td>\n",
       "      <td>0</td>\n",
       "      <td>1</td>\n",
       "    </tr>\n",
       "  </tbody>\n",
       "</table>\n",
       "</div>"
      ],
      "text/plain": [
       "   dim_claim_id  dim_pa_id  dim_date_id  correct_diagnosis  tried_and_failed  \\\n",
       "0             1        1.0            1                  1                 1   \n",
       "1             3        2.0            1                  1                 0   \n",
       "2            10        3.0            1                  0                 0   \n",
       "3            11        4.0            1                  1                 1   \n",
       "4            15        5.0            1                  0                 1   \n",
       "\n",
       "   contraindication  pa_approved    date_val  calendar_year  calendar_month  \\\n",
       "0                 0            1  2017-01-01           2017               1   \n",
       "1                 0            1  2017-01-01           2017               1   \n",
       "2                 1            1  2017-01-01           2017               1   \n",
       "3                 0            1  2017-01-01           2017               1   \n",
       "4                 0            1  2017-01-01           2017               1   \n",
       "\n",
       "   calendar_day  day_of_week  is_weekday  is_workday  is_holiday  \n",
       "0             1            1           0           0           1  \n",
       "1             1            1           0           0           1  \n",
       "2             1            1           0           0           1  \n",
       "3             1            1           0           0           1  \n",
       "4             1            1           0           0           1  "
      ]
     },
     "execution_count": 48,
     "metadata": {},
     "output_type": "execute_result"
    }
   ],
   "source": [
    "df_pa_ts.head()"
   ]
  },
  {
   "cell_type": "code",
   "execution_count": 49,
   "metadata": {},
   "outputs": [],
   "source": [
    "df_pa_ts.to_csv(r'C:\\Users\\xushu\\Downloads\\CoverMyMeds_data-20210503T170046Z-001\\CoverMyMeds_data\\PA_Time_Series.csv', index = False)"
   ]
  },
  {
   "cell_type": "markdown",
   "metadata": {},
   "source": [
    "#### Time Series of All"
   ]
  },
  {
   "cell_type": "code",
   "execution_count": 50,
   "metadata": {},
   "outputs": [],
   "source": [
    "df = pd.merge(df_claims_ts, df_pa, how = \"left\", on = [\"dim_pa_id\"])"
   ]
  },
  {
   "cell_type": "code",
   "execution_count": 51,
   "metadata": {},
   "outputs": [
    {
     "data": {
      "text/html": [
       "<div>\n",
       "<style scoped>\n",
       "    .dataframe tbody tr th:only-of-type {\n",
       "        vertical-align: middle;\n",
       "    }\n",
       "\n",
       "    .dataframe tbody tr th {\n",
       "        vertical-align: top;\n",
       "    }\n",
       "\n",
       "    .dataframe thead th {\n",
       "        text-align: right;\n",
       "    }\n",
       "</style>\n",
       "<table border=\"1\" class=\"dataframe\">\n",
       "  <thead>\n",
       "    <tr style=\"text-align: right;\">\n",
       "      <th></th>\n",
       "      <th>dim_claim_id</th>\n",
       "      <th>dim_pa_id</th>\n",
       "      <th>dim_date_id</th>\n",
       "      <th>bin</th>\n",
       "      <th>drug</th>\n",
       "      <th>reject_code</th>\n",
       "      <th>pharmacy_claim_approved</th>\n",
       "      <th>date_val</th>\n",
       "      <th>calendar_year</th>\n",
       "      <th>calendar_month</th>\n",
       "      <th>calendar_day</th>\n",
       "      <th>day_of_week</th>\n",
       "      <th>is_weekday</th>\n",
       "      <th>is_workday</th>\n",
       "      <th>is_holiday</th>\n",
       "      <th>correct_diagnosis</th>\n",
       "      <th>tried_and_failed</th>\n",
       "      <th>contraindication</th>\n",
       "      <th>pa_approved</th>\n",
       "    </tr>\n",
       "  </thead>\n",
       "  <tbody>\n",
       "    <tr>\n",
       "      <th>0</th>\n",
       "      <td>1</td>\n",
       "      <td>1.0</td>\n",
       "      <td>1</td>\n",
       "      <td>417380</td>\n",
       "      <td>A</td>\n",
       "      <td>75.0</td>\n",
       "      <td>0</td>\n",
       "      <td>2017-01-01</td>\n",
       "      <td>2017</td>\n",
       "      <td>1</td>\n",
       "      <td>1</td>\n",
       "      <td>1</td>\n",
       "      <td>0</td>\n",
       "      <td>0</td>\n",
       "      <td>1</td>\n",
       "      <td>1.0</td>\n",
       "      <td>1.0</td>\n",
       "      <td>0.0</td>\n",
       "      <td>1.0</td>\n",
       "    </tr>\n",
       "    <tr>\n",
       "      <th>1</th>\n",
       "      <td>2</td>\n",
       "      <td>NaN</td>\n",
       "      <td>1</td>\n",
       "      <td>999001</td>\n",
       "      <td>A</td>\n",
       "      <td>NaN</td>\n",
       "      <td>1</td>\n",
       "      <td>2017-01-01</td>\n",
       "      <td>2017</td>\n",
       "      <td>1</td>\n",
       "      <td>1</td>\n",
       "      <td>1</td>\n",
       "      <td>0</td>\n",
       "      <td>0</td>\n",
       "      <td>1</td>\n",
       "      <td>NaN</td>\n",
       "      <td>NaN</td>\n",
       "      <td>NaN</td>\n",
       "      <td>NaN</td>\n",
       "    </tr>\n",
       "    <tr>\n",
       "      <th>2</th>\n",
       "      <td>3</td>\n",
       "      <td>2.0</td>\n",
       "      <td>1</td>\n",
       "      <td>417740</td>\n",
       "      <td>A</td>\n",
       "      <td>76.0</td>\n",
       "      <td>0</td>\n",
       "      <td>2017-01-01</td>\n",
       "      <td>2017</td>\n",
       "      <td>1</td>\n",
       "      <td>1</td>\n",
       "      <td>1</td>\n",
       "      <td>0</td>\n",
       "      <td>0</td>\n",
       "      <td>1</td>\n",
       "      <td>1.0</td>\n",
       "      <td>0.0</td>\n",
       "      <td>0.0</td>\n",
       "      <td>1.0</td>\n",
       "    </tr>\n",
       "    <tr>\n",
       "      <th>3</th>\n",
       "      <td>4</td>\n",
       "      <td>NaN</td>\n",
       "      <td>1</td>\n",
       "      <td>999001</td>\n",
       "      <td>A</td>\n",
       "      <td>NaN</td>\n",
       "      <td>1</td>\n",
       "      <td>2017-01-01</td>\n",
       "      <td>2017</td>\n",
       "      <td>1</td>\n",
       "      <td>1</td>\n",
       "      <td>1</td>\n",
       "      <td>0</td>\n",
       "      <td>0</td>\n",
       "      <td>1</td>\n",
       "      <td>NaN</td>\n",
       "      <td>NaN</td>\n",
       "      <td>NaN</td>\n",
       "      <td>NaN</td>\n",
       "    </tr>\n",
       "    <tr>\n",
       "      <th>4</th>\n",
       "      <td>5</td>\n",
       "      <td>NaN</td>\n",
       "      <td>1</td>\n",
       "      <td>417740</td>\n",
       "      <td>A</td>\n",
       "      <td>NaN</td>\n",
       "      <td>1</td>\n",
       "      <td>2017-01-01</td>\n",
       "      <td>2017</td>\n",
       "      <td>1</td>\n",
       "      <td>1</td>\n",
       "      <td>1</td>\n",
       "      <td>0</td>\n",
       "      <td>0</td>\n",
       "      <td>1</td>\n",
       "      <td>NaN</td>\n",
       "      <td>NaN</td>\n",
       "      <td>NaN</td>\n",
       "      <td>NaN</td>\n",
       "    </tr>\n",
       "  </tbody>\n",
       "</table>\n",
       "</div>"
      ],
      "text/plain": [
       "   dim_claim_id  dim_pa_id  dim_date_id     bin drug  reject_code  \\\n",
       "0             1        1.0            1  417380    A         75.0   \n",
       "1             2        NaN            1  999001    A          NaN   \n",
       "2             3        2.0            1  417740    A         76.0   \n",
       "3             4        NaN            1  999001    A          NaN   \n",
       "4             5        NaN            1  417740    A          NaN   \n",
       "\n",
       "   pharmacy_claim_approved    date_val  calendar_year  calendar_month  \\\n",
       "0                        0  2017-01-01           2017               1   \n",
       "1                        1  2017-01-01           2017               1   \n",
       "2                        0  2017-01-01           2017               1   \n",
       "3                        1  2017-01-01           2017               1   \n",
       "4                        1  2017-01-01           2017               1   \n",
       "\n",
       "   calendar_day  day_of_week  is_weekday  is_workday  is_holiday  \\\n",
       "0             1            1           0           0           1   \n",
       "1             1            1           0           0           1   \n",
       "2             1            1           0           0           1   \n",
       "3             1            1           0           0           1   \n",
       "4             1            1           0           0           1   \n",
       "\n",
       "   correct_diagnosis  tried_and_failed  contraindication  pa_approved  \n",
       "0                1.0               1.0               0.0          1.0  \n",
       "1                NaN               NaN               NaN          NaN  \n",
       "2                1.0               0.0               0.0          1.0  \n",
       "3                NaN               NaN               NaN          NaN  \n",
       "4                NaN               NaN               NaN          NaN  "
      ]
     },
     "execution_count": 51,
     "metadata": {},
     "output_type": "execute_result"
    }
   ],
   "source": [
    "df.head()"
   ]
  },
  {
   "cell_type": "code",
   "execution_count": 52,
   "metadata": {},
   "outputs": [],
   "source": [
    "df.to_csv(r'C:\\Users\\xushu\\Downloads\\CoverMyMeds_data-20210503T170046Z-001\\CoverMyMeds_data\\All_Time_Series.csv', index = False)"
   ]
  },
  {
   "cell_type": "markdown",
   "metadata": {},
   "source": [
    "## Exploratory Analysis"
   ]
  },
  {
   "cell_type": "code",
   "execution_count": 53,
   "metadata": {},
   "outputs": [
    {
     "data": {
      "text/html": [
       "<div>\n",
       "<style scoped>\n",
       "    .dataframe tbody tr th:only-of-type {\n",
       "        vertical-align: middle;\n",
       "    }\n",
       "\n",
       "    .dataframe tbody tr th {\n",
       "        vertical-align: top;\n",
       "    }\n",
       "\n",
       "    .dataframe thead th {\n",
       "        text-align: right;\n",
       "    }\n",
       "</style>\n",
       "<table border=\"1\" class=\"dataframe\">\n",
       "  <thead>\n",
       "    <tr style=\"text-align: right;\">\n",
       "      <th></th>\n",
       "      <th>dim_claim_id</th>\n",
       "      <th>dim_pa_id</th>\n",
       "      <th>dim_date_id</th>\n",
       "      <th>bin</th>\n",
       "      <th>drug</th>\n",
       "      <th>reject_code</th>\n",
       "      <th>pharmacy_claim_approved</th>\n",
       "      <th>date_val</th>\n",
       "      <th>calendar_year</th>\n",
       "      <th>calendar_month</th>\n",
       "      <th>calendar_day</th>\n",
       "      <th>day_of_week</th>\n",
       "      <th>is_weekday</th>\n",
       "      <th>is_workday</th>\n",
       "      <th>is_holiday</th>\n",
       "      <th>correct_diagnosis</th>\n",
       "      <th>tried_and_failed</th>\n",
       "      <th>contraindication</th>\n",
       "      <th>pa_approved</th>\n",
       "    </tr>\n",
       "  </thead>\n",
       "  <tbody>\n",
       "    <tr>\n",
       "      <th>0</th>\n",
       "      <td>1</td>\n",
       "      <td>1.0</td>\n",
       "      <td>1</td>\n",
       "      <td>417380</td>\n",
       "      <td>A</td>\n",
       "      <td>75.0</td>\n",
       "      <td>0</td>\n",
       "      <td>2017-01-01</td>\n",
       "      <td>2017</td>\n",
       "      <td>1</td>\n",
       "      <td>1</td>\n",
       "      <td>1</td>\n",
       "      <td>0</td>\n",
       "      <td>0</td>\n",
       "      <td>1</td>\n",
       "      <td>1.0</td>\n",
       "      <td>1.0</td>\n",
       "      <td>0.0</td>\n",
       "      <td>1.0</td>\n",
       "    </tr>\n",
       "    <tr>\n",
       "      <th>1</th>\n",
       "      <td>2</td>\n",
       "      <td>NaN</td>\n",
       "      <td>1</td>\n",
       "      <td>999001</td>\n",
       "      <td>A</td>\n",
       "      <td>NaN</td>\n",
       "      <td>1</td>\n",
       "      <td>2017-01-01</td>\n",
       "      <td>2017</td>\n",
       "      <td>1</td>\n",
       "      <td>1</td>\n",
       "      <td>1</td>\n",
       "      <td>0</td>\n",
       "      <td>0</td>\n",
       "      <td>1</td>\n",
       "      <td>NaN</td>\n",
       "      <td>NaN</td>\n",
       "      <td>NaN</td>\n",
       "      <td>NaN</td>\n",
       "    </tr>\n",
       "    <tr>\n",
       "      <th>2</th>\n",
       "      <td>3</td>\n",
       "      <td>2.0</td>\n",
       "      <td>1</td>\n",
       "      <td>417740</td>\n",
       "      <td>A</td>\n",
       "      <td>76.0</td>\n",
       "      <td>0</td>\n",
       "      <td>2017-01-01</td>\n",
       "      <td>2017</td>\n",
       "      <td>1</td>\n",
       "      <td>1</td>\n",
       "      <td>1</td>\n",
       "      <td>0</td>\n",
       "      <td>0</td>\n",
       "      <td>1</td>\n",
       "      <td>1.0</td>\n",
       "      <td>0.0</td>\n",
       "      <td>0.0</td>\n",
       "      <td>1.0</td>\n",
       "    </tr>\n",
       "    <tr>\n",
       "      <th>3</th>\n",
       "      <td>4</td>\n",
       "      <td>NaN</td>\n",
       "      <td>1</td>\n",
       "      <td>999001</td>\n",
       "      <td>A</td>\n",
       "      <td>NaN</td>\n",
       "      <td>1</td>\n",
       "      <td>2017-01-01</td>\n",
       "      <td>2017</td>\n",
       "      <td>1</td>\n",
       "      <td>1</td>\n",
       "      <td>1</td>\n",
       "      <td>0</td>\n",
       "      <td>0</td>\n",
       "      <td>1</td>\n",
       "      <td>NaN</td>\n",
       "      <td>NaN</td>\n",
       "      <td>NaN</td>\n",
       "      <td>NaN</td>\n",
       "    </tr>\n",
       "    <tr>\n",
       "      <th>4</th>\n",
       "      <td>5</td>\n",
       "      <td>NaN</td>\n",
       "      <td>1</td>\n",
       "      <td>417740</td>\n",
       "      <td>A</td>\n",
       "      <td>NaN</td>\n",
       "      <td>1</td>\n",
       "      <td>2017-01-01</td>\n",
       "      <td>2017</td>\n",
       "      <td>1</td>\n",
       "      <td>1</td>\n",
       "      <td>1</td>\n",
       "      <td>0</td>\n",
       "      <td>0</td>\n",
       "      <td>1</td>\n",
       "      <td>NaN</td>\n",
       "      <td>NaN</td>\n",
       "      <td>NaN</td>\n",
       "      <td>NaN</td>\n",
       "    </tr>\n",
       "  </tbody>\n",
       "</table>\n",
       "</div>"
      ],
      "text/plain": [
       "   dim_claim_id  dim_pa_id  dim_date_id     bin drug  reject_code  \\\n",
       "0             1        1.0            1  417380    A         75.0   \n",
       "1             2        NaN            1  999001    A          NaN   \n",
       "2             3        2.0            1  417740    A         76.0   \n",
       "3             4        NaN            1  999001    A          NaN   \n",
       "4             5        NaN            1  417740    A          NaN   \n",
       "\n",
       "   pharmacy_claim_approved    date_val  calendar_year  calendar_month  \\\n",
       "0                        0  2017-01-01           2017               1   \n",
       "1                        1  2017-01-01           2017               1   \n",
       "2                        0  2017-01-01           2017               1   \n",
       "3                        1  2017-01-01           2017               1   \n",
       "4                        1  2017-01-01           2017               1   \n",
       "\n",
       "   calendar_day  day_of_week  is_weekday  is_workday  is_holiday  \\\n",
       "0             1            1           0           0           1   \n",
       "1             1            1           0           0           1   \n",
       "2             1            1           0           0           1   \n",
       "3             1            1           0           0           1   \n",
       "4             1            1           0           0           1   \n",
       "\n",
       "   correct_diagnosis  tried_and_failed  contraindication  pa_approved  \n",
       "0                1.0               1.0               0.0          1.0  \n",
       "1                NaN               NaN               NaN          NaN  \n",
       "2                1.0               0.0               0.0          1.0  \n",
       "3                NaN               NaN               NaN          NaN  \n",
       "4                NaN               NaN               NaN          NaN  "
      ]
     },
     "execution_count": 53,
     "metadata": {},
     "output_type": "execute_result"
    }
   ],
   "source": [
    "df.head()"
   ]
  },
  {
   "cell_type": "code",
   "execution_count": 54,
   "metadata": {},
   "outputs": [
    {
     "name": "stdout",
     "output_type": "stream",
     "text": [
      "<class 'pandas.core.frame.DataFrame'>\n",
      "Int64Index: 1335576 entries, 0 to 1335575\n",
      "Data columns (total 19 columns):\n",
      " #   Column                   Non-Null Count    Dtype  \n",
      "---  ------                   --------------    -----  \n",
      " 0   dim_claim_id             1335576 non-null  int64  \n",
      " 1   dim_pa_id                555951 non-null   float64\n",
      " 2   dim_date_id              1335576 non-null  int64  \n",
      " 3   bin                      1335576 non-null  int64  \n",
      " 4   drug                     1335576 non-null  object \n",
      " 5   reject_code              555951 non-null   float64\n",
      " 6   pharmacy_claim_approved  1335576 non-null  int64  \n",
      " 7   date_val                 1335576 non-null  object \n",
      " 8   calendar_year            1335576 non-null  int64  \n",
      " 9   calendar_month           1335576 non-null  int64  \n",
      " 10  calendar_day             1335576 non-null  int64  \n",
      " 11  day_of_week              1335576 non-null  int64  \n",
      " 12  is_weekday               1335576 non-null  int64  \n",
      " 13  is_workday               1335576 non-null  int64  \n",
      " 14  is_holiday               1335576 non-null  int64  \n",
      " 15  correct_diagnosis        555951 non-null   float64\n",
      " 16  tried_and_failed         555951 non-null   float64\n",
      " 17  contraindication         555951 non-null   float64\n",
      " 18  pa_approved              555951 non-null   float64\n",
      "dtypes: float64(6), int64(11), object(2)\n",
      "memory usage: 203.8+ MB\n"
     ]
    }
   ],
   "source": [
    "df.info()"
   ]
  },
  {
   "cell_type": "markdown",
   "metadata": {},
   "source": [
    "#### Get the list of Companies"
   ]
  },
  {
   "cell_type": "code",
   "execution_count": 55,
   "metadata": {},
   "outputs": [
    {
     "data": {
      "text/plain": [
       "['417380', '999001', '417740', '417614']"
      ]
     },
     "execution_count": 55,
     "metadata": {},
     "output_type": "execute_result"
    }
   ],
   "source": [
    "Companies = []\n",
    "for i in range(len(df.bin.unique())):\n",
    "    Companies.append(str(df.bin.unique()[i]))\n",
    "Companies"
   ]
  },
  {
   "cell_type": "markdown",
   "metadata": {},
   "source": [
    "#### Get the list of Drugs"
   ]
  },
  {
   "cell_type": "code",
   "execution_count": 56,
   "metadata": {},
   "outputs": [
    {
     "data": {
      "text/plain": [
       "['A', 'B', 'C']"
      ]
     },
     "execution_count": 56,
     "metadata": {},
     "output_type": "execute_result"
    }
   ],
   "source": [
    "Drugs = []\n",
    "for i in range(len(df.drug.unique())):\n",
    "    Drugs.append(df.drug.unique()[i])\n",
    "Drugs"
   ]
  },
  {
   "cell_type": "markdown",
   "metadata": {},
   "source": [
    "#### Get the list of Rejection Codes."
   ]
  },
  {
   "cell_type": "code",
   "execution_count": 57,
   "metadata": {},
   "outputs": [
    {
     "data": {
      "text/plain": [
       "[75.0, 76.0, 70.0]"
      ]
     },
     "execution_count": 57,
     "metadata": {},
     "output_type": "execute_result"
    }
   ],
   "source": [
    "Rej_Codes = []\n",
    "for i in range(len(df.reject_code.unique())):\n",
    "    Rej_Codes.append(df.reject_code.unique()[i])\n",
    "Rej_Codes = list(filter(lambda x: str(x) != 'nan', Rej_Codes))\n",
    "Rej_Codes"
   ]
  },
  {
   "cell_type": "markdown",
   "metadata": {},
   "source": [
    "#### Get the Years"
   ]
  },
  {
   "cell_type": "code",
   "execution_count": 58,
   "metadata": {},
   "outputs": [
    {
     "data": {
      "text/plain": [
       "[2017, 2018, 2019]"
      ]
     },
     "execution_count": 58,
     "metadata": {},
     "output_type": "execute_result"
    }
   ],
   "source": [
    "Years = []\n",
    "for i in range(len(df.calendar_year.unique())):\n",
    "    Years.append(df.calendar_year.unique()[i])\n",
    "Years"
   ]
  },
  {
   "cell_type": "markdown",
   "metadata": {},
   "source": [
    "## Graphs"
   ]
  },
  {
   "cell_type": "markdown",
   "metadata": {},
   "source": [
    "#### Graph the claim approval rates for each drug."
   ]
  },
  {
   "cell_type": "code",
   "execution_count": 59,
   "metadata": {},
   "outputs": [
    {
     "data": {
      "text/plain": [
       "[0.58, 0.55, 0.64]"
      ]
     },
     "execution_count": 59,
     "metadata": {},
     "output_type": "execute_result"
    }
   ],
   "source": [
    "App_Rate_Drugs = []\n",
    "for i in range(len(Drugs)):\n",
    "    app = df[(df.drug==Drugs[i])]['pharmacy_claim_approved'].sum()\n",
    "    tot = df[(df.drug==Drugs[i])]['pharmacy_claim_approved'].count()\n",
    "    rate = round(app/tot,2)\n",
    "    App_Rate_Drugs.append(rate)\n",
    "App_Rate_Drugs"
   ]
  },
  {
   "cell_type": "code",
   "execution_count": 60,
   "metadata": {},
   "outputs": [
    {
     "data": {
      "image/png": "[encoded data removed]",
      "text/plain": [
       "<Figure size 432x288 with 1 Axes>"
      ]
     },
     "metadata": {},
     "output_type": "display_data"
    }
   ],
   "source": [
    "plt.bar(Drugs, App_Rate_Drugs)\n",
    "plt.show()"
   ]
  },
  {
   "cell_type": "markdown",
   "metadata": {},
   "source": [
    "#### Graph the approval rates for each insurance company."
   ]
  },
  {
   "cell_type": "code",
   "execution_count": 61,
   "metadata": {},
   "outputs": [
    {
     "data": {
      "text/plain": [
       "[0.23, 0.9, 0.46, 0.21]"
      ]
     },
     "execution_count": 61,
     "metadata": {},
     "output_type": "execute_result"
    }
   ],
   "source": [
    "App_Rate_Companies = []\n",
    "for i in range(len(Companies)):\n",
    "    app = df[(df.bin==int(Companies[i]))]['pharmacy_claim_approved'].sum()\n",
    "    tot = df[(df.bin==int(Companies[i]))]['pharmacy_claim_approved'].count()\n",
    "    rate = round(app/tot,2)\n",
    "    App_Rate_Companies.append(rate)\n",
    "App_Rate_Companies"
   ]
  },
  {
   "cell_type": "code",
   "execution_count": 62,
   "metadata": {},
   "outputs": [
    {
     "data": {
      "image/png": "[encoded data removed]",
      "text/plain": [
       "<Figure size 432x288 with 1 Axes>"
      ]
     },
     "metadata": {},
     "output_type": "display_data"
    }
   ],
   "source": [
    "plt.bar(Companies, App_Rate_Companies)\n",
    "plt.show()"
   ]
  },
  {
   "cell_type": "markdown",
   "metadata": {},
   "source": [
    "#### Get the pa approval rates for each diagnosis status."
   ]
  },
  {
   "cell_type": "markdown",
   "metadata": {},
   "source": [
    "#### Get the list of diagnosis status."
   ]
  },
  {
   "cell_type": "code",
   "execution_count": 63,
   "metadata": {},
   "outputs": [
    {
     "data": {
      "text/plain": [
       "['1.0', '0.0']"
      ]
     },
     "execution_count": 63,
     "metadata": {},
     "output_type": "execute_result"
    }
   ],
   "source": [
    "Diag_Statuses = []\n",
    "for i in range(len(df.correct_diagnosis.unique())):\n",
    "    Diag_Statuses.append(str(df.correct_diagnosis.unique()[i]))\n",
    "Diag_Statuses = list(filter(lambda x: str(x) != 'nan', Diag_Statuses))\n",
    "Diag_Statuses"
   ]
  },
  {
   "cell_type": "code",
   "execution_count": 64,
   "metadata": {},
   "outputs": [
    {
     "data": {
      "text/plain": [
       "[0.74, 0.7]"
      ]
     },
     "execution_count": 64,
     "metadata": {},
     "output_type": "execute_result"
    }
   ],
   "source": [
    "App_Rate_Diags = []\n",
    "for i in range(len(Diag_Statuses)):\n",
    "    app = df[(df.correct_diagnosis==float(Diag_Statuses[i]))]['pa_approved'].sum()\n",
    "    tot = df[(df.correct_diagnosis==float(Diag_Statuses[i]))]['pa_approved'].count()\n",
    "    rate = round(app/tot,2)\n",
    "    App_Rate_Diags.append(rate)\n",
    "App_Rate_Diags"
   ]
  },
  {
   "cell_type": "code",
   "execution_count": 65,
   "metadata": {},
   "outputs": [
    {
     "data": {
      "image/png": "[encoded data removed]",
      "text/plain": [
       "<Figure size 432x288 with 1 Axes>"
      ]
     },
     "metadata": {},
     "output_type": "display_data"
    }
   ],
   "source": [
    "plt.bar(Diag_Statuses, App_Rate_Diags)\n",
    "plt.show()"
   ]
  },
  {
   "cell_type": "markdown",
   "metadata": {},
   "source": [
    "#### Get the pa approval rate for each tried_and_failed status."
   ]
  },
  {
   "cell_type": "markdown",
   "metadata": {},
   "source": [
    "#### Get the list of tried and failed status."
   ]
  },
  {
   "cell_type": "code",
   "execution_count": 66,
   "metadata": {},
   "outputs": [
    {
     "data": {
      "text/plain": [
       "['1.0', '0.0']"
      ]
     },
     "execution_count": 66,
     "metadata": {},
     "output_type": "execute_result"
    }
   ],
   "source": [
    "TF_Statuses = []\n",
    "for i in range(len(df.tried_and_failed.unique())):\n",
    "    TF_Statuses.append(str(df.tried_and_failed.unique()[i]))\n",
    "TF_Statuses = list(filter(lambda x: str(x) != 'nan', TF_Statuses))\n",
    "TF_Statuses"
   ]
  },
  {
   "cell_type": "code",
   "execution_count": 67,
   "metadata": {},
   "outputs": [],
   "source": [
    "test = df_pa.groupby('tried_and_failed')[\"pa_approved\"].sum()/df_pa.tried_and_failed.value_counts()\n",
    "test = test.to_numpy()"
   ]
  },
  {
   "cell_type": "code",
   "execution_count": 68,
   "metadata": {},
   "outputs": [
    {
     "data": {
      "image/png": "[encoded data removed]",
      "text/plain": [
       "<Figure size 432x288 with 1 Axes>"
      ]
     },
     "metadata": {},
     "output_type": "display_data"
    }
   ],
   "source": [
    "plt.bar(TF_Statuses, test)\n",
    "plt.show()"
   ]
  },
  {
   "cell_type": "markdown",
   "metadata": {},
   "source": [
    "#### Get the pa approval rate for each contraindiction status."
   ]
  },
  {
   "cell_type": "code",
   "execution_count": 69,
   "metadata": {},
   "outputs": [
    {
     "data": {
      "text/plain": [
       "['0.0', '1.0']"
      ]
     },
     "execution_count": 69,
     "metadata": {},
     "output_type": "execute_result"
    }
   ],
   "source": [
    "Contra_Statuses = []\n",
    "for i in range(len(df.contraindication.unique())):\n",
    "    Contra_Statuses.append(str(df.contraindication.unique()[i]))\n",
    "Contra_Statuses = list(filter(lambda x: str(x) != 'nan', Contra_Statuses))\n",
    "Contra_Statuses"
   ]
  },
  {
   "cell_type": "code",
   "execution_count": 70,
   "metadata": {},
   "outputs": [],
   "source": [
    "test = df_pa.groupby('contraindication')[\"pa_approved\"].sum()/df_pa.contraindication.value_counts()\n",
    "test = test.to_numpy()"
   ]
  },
  {
   "cell_type": "code",
   "execution_count": 71,
   "metadata": {},
   "outputs": [
    {
     "data": {
      "image/png": "[encoded data removed]",
      "text/plain": [
       "<Figure size 432x288 with 1 Axes>"
      ]
     },
     "metadata": {},
     "output_type": "display_data"
    }
   ],
   "source": [
    "plt.bar(Contra_Statuses, test)\n",
    "plt.show()"
   ]
  },
  {
   "cell_type": "markdown",
   "metadata": {},
   "source": [
    "#### Get the pa approval rates for each rejection code. We need to join the claim table and the pa table."
   ]
  },
  {
   "cell_type": "code",
   "execution_count": 72,
   "metadata": {},
   "outputs": [],
   "source": [
    "result1 = pd.merge(df_bridge, df_claims, how=\"inner\", on=[\"dim_claim_id\"])"
   ]
  },
  {
   "cell_type": "code",
   "execution_count": 73,
   "metadata": {},
   "outputs": [
    {
     "data": {
      "text/html": [
       "<div>\n",
       "<style scoped>\n",
       "    .dataframe tbody tr th:only-of-type {\n",
       "        vertical-align: middle;\n",
       "    }\n",
       "\n",
       "    .dataframe tbody tr th {\n",
       "        vertical-align: top;\n",
       "    }\n",
       "\n",
       "    .dataframe thead th {\n",
       "        text-align: right;\n",
       "    }\n",
       "</style>\n",
       "<table border=\"1\" class=\"dataframe\">\n",
       "  <thead>\n",
       "    <tr style=\"text-align: right;\">\n",
       "      <th></th>\n",
       "      <th>dim_claim_id</th>\n",
       "      <th>dim_pa_id</th>\n",
       "      <th>dim_date_id</th>\n",
       "      <th>bin</th>\n",
       "      <th>drug</th>\n",
       "      <th>reject_code</th>\n",
       "      <th>pharmacy_claim_approved</th>\n",
       "    </tr>\n",
       "  </thead>\n",
       "  <tbody>\n",
       "    <tr>\n",
       "      <th>0</th>\n",
       "      <td>1</td>\n",
       "      <td>1.0</td>\n",
       "      <td>1</td>\n",
       "      <td>417380</td>\n",
       "      <td>A</td>\n",
       "      <td>75.0</td>\n",
       "      <td>0</td>\n",
       "    </tr>\n",
       "    <tr>\n",
       "      <th>1</th>\n",
       "      <td>2</td>\n",
       "      <td>NaN</td>\n",
       "      <td>1</td>\n",
       "      <td>999001</td>\n",
       "      <td>A</td>\n",
       "      <td>NaN</td>\n",
       "      <td>1</td>\n",
       "    </tr>\n",
       "    <tr>\n",
       "      <th>2</th>\n",
       "      <td>3</td>\n",
       "      <td>2.0</td>\n",
       "      <td>1</td>\n",
       "      <td>417740</td>\n",
       "      <td>A</td>\n",
       "      <td>76.0</td>\n",
       "      <td>0</td>\n",
       "    </tr>\n",
       "    <tr>\n",
       "      <th>3</th>\n",
       "      <td>4</td>\n",
       "      <td>NaN</td>\n",
       "      <td>1</td>\n",
       "      <td>999001</td>\n",
       "      <td>A</td>\n",
       "      <td>NaN</td>\n",
       "      <td>1</td>\n",
       "    </tr>\n",
       "    <tr>\n",
       "      <th>4</th>\n",
       "      <td>5</td>\n",
       "      <td>NaN</td>\n",
       "      <td>1</td>\n",
       "      <td>417740</td>\n",
       "      <td>A</td>\n",
       "      <td>NaN</td>\n",
       "      <td>1</td>\n",
       "    </tr>\n",
       "  </tbody>\n",
       "</table>\n",
       "</div>"
      ],
      "text/plain": [
       "   dim_claim_id  dim_pa_id  dim_date_id     bin drug  reject_code  \\\n",
       "0             1        1.0            1  417380    A         75.0   \n",
       "1             2        NaN            1  999001    A          NaN   \n",
       "2             3        2.0            1  417740    A         76.0   \n",
       "3             4        NaN            1  999001    A          NaN   \n",
       "4             5        NaN            1  417740    A          NaN   \n",
       "\n",
       "   pharmacy_claim_approved  \n",
       "0                        0  \n",
       "1                        1  \n",
       "2                        0  \n",
       "3                        1  \n",
       "4                        1  "
      ]
     },
     "execution_count": 73,
     "metadata": {},
     "output_type": "execute_result"
    }
   ],
   "source": [
    "result1.head()"
   ]
  },
  {
   "cell_type": "code",
   "execution_count": 74,
   "metadata": {},
   "outputs": [],
   "source": [
    "result2 = pd.merge(df_pa,result1,how=\"left\", on=[\"dim_pa_id\"])"
   ]
  },
  {
   "cell_type": "code",
   "execution_count": 75,
   "metadata": {},
   "outputs": [
    {
     "data": {
      "text/html": [
       "<div>\n",
       "<style scoped>\n",
       "    .dataframe tbody tr th:only-of-type {\n",
       "        vertical-align: middle;\n",
       "    }\n",
       "\n",
       "    .dataframe tbody tr th {\n",
       "        vertical-align: top;\n",
       "    }\n",
       "\n",
       "    .dataframe thead th {\n",
       "        text-align: right;\n",
       "    }\n",
       "</style>\n",
       "<table border=\"1\" class=\"dataframe\">\n",
       "  <thead>\n",
       "    <tr style=\"text-align: right;\">\n",
       "      <th></th>\n",
       "      <th>dim_pa_id</th>\n",
       "      <th>correct_diagnosis</th>\n",
       "      <th>tried_and_failed</th>\n",
       "      <th>contraindication</th>\n",
       "      <th>pa_approved</th>\n",
       "      <th>dim_claim_id</th>\n",
       "      <th>dim_date_id</th>\n",
       "      <th>bin</th>\n",
       "      <th>drug</th>\n",
       "      <th>reject_code</th>\n",
       "      <th>pharmacy_claim_approved</th>\n",
       "    </tr>\n",
       "  </thead>\n",
       "  <tbody>\n",
       "    <tr>\n",
       "      <th>0</th>\n",
       "      <td>1</td>\n",
       "      <td>1</td>\n",
       "      <td>1</td>\n",
       "      <td>0</td>\n",
       "      <td>1</td>\n",
       "      <td>1</td>\n",
       "      <td>1</td>\n",
       "      <td>417380</td>\n",
       "      <td>A</td>\n",
       "      <td>75.0</td>\n",
       "      <td>0</td>\n",
       "    </tr>\n",
       "    <tr>\n",
       "      <th>1</th>\n",
       "      <td>2</td>\n",
       "      <td>1</td>\n",
       "      <td>0</td>\n",
       "      <td>0</td>\n",
       "      <td>1</td>\n",
       "      <td>3</td>\n",
       "      <td>1</td>\n",
       "      <td>417740</td>\n",
       "      <td>A</td>\n",
       "      <td>76.0</td>\n",
       "      <td>0</td>\n",
       "    </tr>\n",
       "    <tr>\n",
       "      <th>2</th>\n",
       "      <td>3</td>\n",
       "      <td>0</td>\n",
       "      <td>0</td>\n",
       "      <td>1</td>\n",
       "      <td>1</td>\n",
       "      <td>10</td>\n",
       "      <td>1</td>\n",
       "      <td>417380</td>\n",
       "      <td>A</td>\n",
       "      <td>75.0</td>\n",
       "      <td>0</td>\n",
       "    </tr>\n",
       "    <tr>\n",
       "      <th>3</th>\n",
       "      <td>4</td>\n",
       "      <td>1</td>\n",
       "      <td>1</td>\n",
       "      <td>0</td>\n",
       "      <td>1</td>\n",
       "      <td>11</td>\n",
       "      <td>1</td>\n",
       "      <td>999001</td>\n",
       "      <td>A</td>\n",
       "      <td>76.0</td>\n",
       "      <td>0</td>\n",
       "    </tr>\n",
       "    <tr>\n",
       "      <th>4</th>\n",
       "      <td>5</td>\n",
       "      <td>0</td>\n",
       "      <td>1</td>\n",
       "      <td>0</td>\n",
       "      <td>1</td>\n",
       "      <td>15</td>\n",
       "      <td>1</td>\n",
       "      <td>417614</td>\n",
       "      <td>A</td>\n",
       "      <td>70.0</td>\n",
       "      <td>0</td>\n",
       "    </tr>\n",
       "  </tbody>\n",
       "</table>\n",
       "</div>"
      ],
      "text/plain": [
       "   dim_pa_id  correct_diagnosis  tried_and_failed  contraindication  \\\n",
       "0          1                  1                 1                 0   \n",
       "1          2                  1                 0                 0   \n",
       "2          3                  0                 0                 1   \n",
       "3          4                  1                 1                 0   \n",
       "4          5                  0                 1                 0   \n",
       "\n",
       "   pa_approved  dim_claim_id  dim_date_id     bin drug  reject_code  \\\n",
       "0            1             1            1  417380    A         75.0   \n",
       "1            1             3            1  417740    A         76.0   \n",
       "2            1            10            1  417380    A         75.0   \n",
       "3            1            11            1  999001    A         76.0   \n",
       "4            1            15            1  417614    A         70.0   \n",
       "\n",
       "   pharmacy_claim_approved  \n",
       "0                        0  \n",
       "1                        0  \n",
       "2                        0  \n",
       "3                        0  \n",
       "4                        0  "
      ]
     },
     "execution_count": 75,
     "metadata": {},
     "output_type": "execute_result"
    }
   ],
   "source": [
    "result2.head()"
   ]
  },
  {
   "cell_type": "code",
   "execution_count": 76,
   "metadata": {},
   "outputs": [],
   "source": [
    "test = result2.groupby('reject_code')[\"pa_approved\"].sum()/result2.reject_code.value_counts()\n",
    "test = test.to_numpy()"
   ]
  },
  {
   "cell_type": "code",
   "execution_count": 77,
   "metadata": {},
   "outputs": [
    {
     "data": {
      "text/plain": [
       "70.0    252206\n",
       "75.0    217351\n",
       "76.0     86394\n",
       "Name: reject_code, dtype: int64"
      ]
     },
     "execution_count": 77,
     "metadata": {},
     "output_type": "execute_result"
    }
   ],
   "source": [
    "result2.reject_code.value_counts()"
   ]
  },
  {
   "cell_type": "code",
   "execution_count": 78,
   "metadata": {},
   "outputs": [
    {
     "data": {
      "image/png": "[encoded data removed]",
      "text/plain": [
       "<Figure size 432x288 with 1 Axes>"
      ]
     },
     "metadata": {},
     "output_type": "display_data"
    }
   ],
   "source": [
    "plt.bar(['70','75','76'], test)\n",
    "plt.show()"
   ]
  },
  {
   "cell_type": "markdown",
   "metadata": {},
   "source": [
    "#### Get the pa approval rate for each company"
   ]
  },
  {
   "cell_type": "code",
   "execution_count": 79,
   "metadata": {},
   "outputs": [],
   "source": [
    "test = result2.groupby('bin')[\"pa_approved\"].sum()/result2.bin.value_counts()\n",
    "test = test.to_numpy()"
   ]
  },
  {
   "cell_type": "code",
   "execution_count": 80,
   "metadata": {},
   "outputs": [
    {
     "data": {
      "text/plain": [
       "417614    242268\n",
       "417380    133579\n",
       "417740    116031\n",
       "999001     64073\n",
       "Name: bin, dtype: int64"
      ]
     },
     "execution_count": 80,
     "metadata": {},
     "output_type": "execute_result"
    }
   ],
   "source": [
    "result2.bin.value_counts()"
   ]
  },
  {
   "cell_type": "code",
   "execution_count": 81,
   "metadata": {},
   "outputs": [
    {
     "data": {
      "image/png": "[encoded data removed]",
      "text/plain": [
       "<Figure size 432x288 with 1 Axes>"
      ]
     },
     "metadata": {},
     "output_type": "display_data"
    }
   ],
   "source": [
    "plt.bar(Companies, test)\n",
    "plt.show()"
   ]
  },
  {
   "cell_type": "markdown",
   "metadata": {},
   "source": [
    "#### Get the pa approval rate for each drug"
   ]
  },
  {
   "cell_type": "code",
   "execution_count": 82,
   "metadata": {},
   "outputs": [],
   "source": [
    "test = result2.groupby('drug')[\"pa_approved\"].sum()/result2.drug.value_counts()\n",
    "test = test.to_numpy()"
   ]
  },
  {
   "cell_type": "code",
   "execution_count": 83,
   "metadata": {},
   "outputs": [
    {
     "data": {
      "text/plain": [
       "A    288292\n",
       "B    154512\n",
       "C    113147\n",
       "Name: drug, dtype: int64"
      ]
     },
     "execution_count": 83,
     "metadata": {},
     "output_type": "execute_result"
    }
   ],
   "source": [
    "result2.drug.value_counts()"
   ]
  },
  {
   "cell_type": "code",
   "execution_count": 84,
   "metadata": {},
   "outputs": [
    {
     "data": {
      "image/png": "[encoded data removed]",
      "text/plain": [
       "<Figure size 432x288 with 1 Axes>"
      ]
     },
     "metadata": {},
     "output_type": "display_data"
    }
   ],
   "source": [
    "plt.bar(Drugs, test)\n",
    "plt.show()"
   ]
  },
  {
   "cell_type": "markdown",
   "metadata": {},
   "source": [
    "## Times Series Graphs"
   ]
  },
  {
   "cell_type": "markdown",
   "metadata": {},
   "source": [
    "#### Variation of Claims Approval Rates over Time:"
   ]
  },
  {
   "cell_type": "code",
   "execution_count": 85,
   "metadata": {},
   "outputs": [],
   "source": [
    "Claims_rates = np.zeros((len(Companies),len(Drugs),len(Years)))"
   ]
  },
  {
   "cell_type": "code",
   "execution_count": 86,
   "metadata": {},
   "outputs": [],
   "source": [
    "for i in range(len(Companies)):\n",
    "    for j in range(len(Drugs)):\n",
    "        for k in range(len(Years)):\n",
    "            app = df_claims_ts[(df_claims_ts.bin == int(Companies[i])) & (df_claims_ts.drug==Drugs[j]) & (df_claims_ts.calendar_year == Years[k])]['pharmacy_claim_approved'].sum()\n",
    "            tot = df_claims_ts[(df_claims_ts.bin == int(Companies[i])) & (df_claims_ts.drug==Drugs[j]) & (df_claims_ts.calendar_year == Years[k])]['pharmacy_claim_approved'].count()\n",
    "            rate = round(app/tot,2)\n",
    "            Claims_rates[i][j][k] = rate"
   ]
  },
  {
   "cell_type": "code",
   "execution_count": 87,
   "metadata": {},
   "outputs": [
    {
     "data": {
      "text/plain": [
       "array([[[0. , 0. , 0. ],\n",
       "        [0.9, 0.9, 0.9],\n",
       "        [0. , 0. , 0. ]],\n",
       "\n",
       "       [[0.9, 0.9, 0.9],\n",
       "        [0.9, 0.9, 0.9],\n",
       "        [0.9, 0.9, 0.9]],\n",
       "\n",
       "       [[0.9, 0.9, 0.9],\n",
       "        [0. , 0. , 0. ],\n",
       "        [0. , 0. , 0. ]],\n",
       "\n",
       "       [[0. , 0. , 0. ],\n",
       "        [0. , 0. , 0. ],\n",
       "        [0.9, 0.9, 0.9]]])"
      ]
     },
     "execution_count": 87,
     "metadata": {},
     "output_type": "execute_result"
    }
   ],
   "source": [
    "Claims_rates"
   ]
  },
  {
   "cell_type": "markdown",
   "metadata": {},
   "source": [
    "##### It seems that the Pharmacy Claims policies for each insurance company and each insurance drug are the same over the years."
   ]
  },
  {
   "cell_type": "markdown",
   "metadata": {},
   "source": [
    "#### Let's plot some time series data of the claim approval rates over time. First, we convert date to date object."
   ]
  },
  {
   "cell_type": "code",
   "execution_count": 88,
   "metadata": {},
   "outputs": [],
   "source": [
    "df_claims_ts['date_val'] = pd.to_datetime(df_claims_ts['date_val'])"
   ]
  },
  {
   "cell_type": "markdown",
   "metadata": {},
   "source": [
    "#### Time Series in Years"
   ]
  },
  {
   "cell_type": "code",
   "execution_count": 89,
   "metadata": {},
   "outputs": [],
   "source": [
    "def claim_ts_y(company: int, drug: str, year: int):\n",
    "    df1 = df_claims_ts.loc[(df_claims_ts['bin']==company) & (df_claims_ts['drug']==drug)]\n",
    "    df2 = df1.loc[(df1['calendar_year']==year)]\n",
    "    df3 = df2[['date_val','pharmacy_claim_approved']]\n",
    "    df4 = df3.groupby(['date_val']).sum()\n",
    "    df4.rename(columns = {'pharmacy_claim_approved' : 'app'}, inplace = True)\n",
    "    df5 = df3.groupby(['date_val']).count()\n",
    "    df5.rename(columns = {'pharmacy_claim_approved' : 'tot'}, inplace = True)\n",
    "    df6 = df4.join(df5, how='outer')\n",
    "    df6['rate'] = df6['app']/df6['tot']\n",
    "    df7 = df6['rate']\n",
    "    plt.plot(df7)\n",
    "    plt.xlabel(\"Day\", fontsize=16)\n",
    "    plt.ylabel(\"Claim Approval Rate\", fontsize=16)\n",
    "    plt.show()"
   ]
  },
  {
   "cell_type": "code",
   "execution_count": 90,
   "metadata": {},
   "outputs": [
    {
     "data": {
      "image/png": "[encoded data removed]",
      "text/plain": [
       "<Figure size 432x288 with 1 Axes>"
      ]
     },
     "metadata": {},
     "output_type": "display_data"
    }
   ],
   "source": [
    "claim_ts_y(417740,'A',2017)"
   ]
  },
  {
   "cell_type": "markdown",
   "metadata": {},
   "source": [
    "#### Time Series in Months"
   ]
  },
  {
   "cell_type": "code",
   "execution_count": 91,
   "metadata": {},
   "outputs": [],
   "source": [
    "def claim_ts_y_m(company: int, drug: str, year: int,month:int):\n",
    "    df1 = df_claims_ts.loc[(df_claims_ts['bin']==company) & (df_claims_ts['drug']==drug)]\n",
    "    df2 = df1.loc[(df1['calendar_year']==year) & (df1['calendar_month']==month)]\n",
    "    df3 = df2[['date_val','pharmacy_claim_approved']]\n",
    "    df4 = df3.groupby(['date_val']).sum()\n",
    "    df4.rename(columns = {'pharmacy_claim_approved' : 'app'}, inplace = True)\n",
    "    df5 = df3.groupby(['date_val']).count()\n",
    "    df5.rename(columns = {'pharmacy_claim_approved' : 'tot'}, inplace = True)\n",
    "    df6 = df4.join(df5, how='outer')\n",
    "    df6['rate'] = df6['app']/df6['tot']\n",
    "    df7 = df6['rate']\n",
    "    plt.plot(df7)\n",
    "    plt.xlabel(\"Day\", fontsize=16)\n",
    "    plt.ylabel(\"Claim Approval Rate\", fontsize=16)\n",
    "    plt.show()"
   ]
  },
  {
   "cell_type": "code",
   "execution_count": 92,
   "metadata": {},
   "outputs": [
    {
     "data": {
      "image/png": "[encoded data removed]",
      "text/plain": [
       "<Figure size 432x288 with 1 Axes>"
      ]
     },
     "metadata": {},
     "output_type": "display_data"
    }
   ],
   "source": [
    "claim_ts_y_m(417740,'A',2017,1)"
   ]
  },
  {
   "cell_type": "markdown",
   "metadata": {},
   "source": [
    "#### Time Series on/off Workdays"
   ]
  },
  {
   "cell_type": "code",
   "execution_count": 93,
   "metadata": {},
   "outputs": [],
   "source": [
    "def claim_ts_y_m_w(company: int, drug: str, year: int,month:int,isworkday:int):\n",
    "    df1 = df_claims_ts.loc[(df_claims_ts['bin']==company) & (df_claims_ts['drug']==drug)]\n",
    "    df2 = df1.loc[(df1['calendar_year']==year) & (df1['calendar_month']==month) & (df1['is_workday']==isworkday)]\n",
    "    df3 = df2[['date_val','pharmacy_claim_approved']]\n",
    "    df4 = df3.groupby(['date_val']).sum()\n",
    "    df4.rename(columns = {'pharmacy_claim_approved' : 'app'}, inplace = True)\n",
    "    df5 = df3.groupby(['date_val']).count()\n",
    "    df5.rename(columns = {'pharmacy_claim_approved' : 'tot'}, inplace = True)\n",
    "    df6 = df4.join(df5, how='outer')\n",
    "    df6['rate'] = df6['app']/df6['tot']\n",
    "    df7 = df6['rate']\n",
    "    plt.plot(df7)\n",
    "    plt.xlabel(\"Day\", fontsize=16)\n",
    "    plt.ylabel(\"Claim Approval Rate\", fontsize=16)\n",
    "    plt.show()"
   ]
  },
  {
   "cell_type": "code",
   "execution_count": 94,
   "metadata": {},
   "outputs": [
    {
     "data": {
      "image/png": "[encoded data removed]",
      "text/plain": [
       "<Figure size 432x288 with 1 Axes>"
      ]
     },
     "metadata": {},
     "output_type": "display_data"
    }
   ],
   "source": [
    "claim_ts_y_m_w(417740,'A',2017,1,1)"
   ]
  },
  {
   "cell_type": "code",
   "execution_count": 95,
   "metadata": {},
   "outputs": [
    {
     "data": {
      "image/png": "[encoded data removed]",
      "text/plain": [
       "<Figure size 432x288 with 1 Axes>"
      ]
     },
     "metadata": {},
     "output_type": "display_data"
    }
   ],
   "source": [
    "claim_ts_y_m_w(417740,'A',2017,1,0)"
   ]
  },
  {
   "cell_type": "markdown",
   "metadata": {},
   "source": [
    "#### Variation of PA Approval Rates Over Time"
   ]
  },
  {
   "cell_type": "code",
   "execution_count": 96,
   "metadata": {},
   "outputs": [],
   "source": [
    "PA_rates = np.zeros((len(Companies),len(Drugs),len(Rej_Codes),len(Years)))"
   ]
  },
  {
   "cell_type": "code",
   "execution_count": 97,
   "metadata": {},
   "outputs": [],
   "source": [
    "for i in range(len(Companies)):\n",
    "    for j in range(len(Drugs)):\n",
    "        for k in range(len(Rej_Codes)):\n",
    "            for t in range(len(Years)):\n",
    "                app = df[(df.bin == int(Companies[i])) & (df.drug==Drugs[j]) & (df.reject_code==Rej_Codes[k]) & (df.calendar_year == Years[t])]['pa_approved'].sum()\n",
    "                tot = df[(df.bin == int(Companies[i])) & (df.drug==Drugs[j]) & (df.reject_code==Rej_Codes[k]) & (df.calendar_year == Years[t])]['pa_approved'].count()\n",
    "                if not tot:\n",
    "                    PA_rates[i][j][k][t]=-1\n",
    "                else:\n",
    "                    rate = round(app/tot,2)\n",
    "                    PA_rates[i][j][k][t] = rate"
   ]
  },
  {
   "cell_type": "code",
   "execution_count": 98,
   "metadata": {},
   "outputs": [
    {
     "data": {
      "text/plain": [
       "array([[[[ 0.99,  0.99,  0.99],\n",
       "         [-1.  , -1.  , -1.  ],\n",
       "         [-1.  , -1.  , -1.  ]],\n",
       "\n",
       "        [[-1.  , -1.  , -1.  ],\n",
       "         [ 0.9 ,  0.91,  0.91],\n",
       "         [-1.  , -1.  , -1.  ]],\n",
       "\n",
       "        [[-1.  , -1.  , -1.  ],\n",
       "         [-1.  , -1.  , -1.  ],\n",
       "         [ 0.33,  0.32,  0.33]]],\n",
       "\n",
       "\n",
       "       [[[-1.  , -1.  , -1.  ],\n",
       "         [ 0.96,  0.96,  0.96],\n",
       "         [-1.  , -1.  , -1.  ]],\n",
       "\n",
       "        [[-1.  , -1.  , -1.  ],\n",
       "         [ 0.93,  0.93,  0.94],\n",
       "         [-1.  , -1.  , -1.  ]],\n",
       "\n",
       "        [[-1.  , -1.  , -1.  ],\n",
       "         [ 0.76,  0.77,  0.75],\n",
       "         [-1.  , -1.  , -1.  ]]],\n",
       "\n",
       "\n",
       "       [[[-1.  , -1.  , -1.  ],\n",
       "         [ 0.9 ,  0.9 ,  0.9 ],\n",
       "         [-1.  , -1.  , -1.  ]],\n",
       "\n",
       "        [[-1.  , -1.  , -1.  ],\n",
       "         [-1.  , -1.  , -1.  ],\n",
       "         [ 0.39,  0.39,  0.39]],\n",
       "\n",
       "        [[ 0.83,  0.84,  0.83],\n",
       "         [-1.  , -1.  , -1.  ],\n",
       "         [-1.  , -1.  , -1.  ]]],\n",
       "\n",
       "\n",
       "       [[[-1.  , -1.  , -1.  ],\n",
       "         [-1.  , -1.  , -1.  ],\n",
       "         [ 0.58,  0.58,  0.59]],\n",
       "\n",
       "        [[ 0.97,  0.97,  0.97],\n",
       "         [-1.  , -1.  , -1.  ],\n",
       "         [-1.  , -1.  , -1.  ]],\n",
       "\n",
       "        [[-1.  , -1.  , -1.  ],\n",
       "         [ 0.65,  0.63,  0.64],\n",
       "         [-1.  , -1.  , -1.  ]]]])"
      ]
     },
     "execution_count": 98,
     "metadata": {},
     "output_type": "execute_result"
    }
   ],
   "source": [
    "PA_rates"
   ]
  },
  {
   "cell_type": "markdown",
   "metadata": {},
   "source": [
    "##### It seems that some companies change their pa approval policies over the years."
   ]
  },
  {
   "cell_type": "code",
   "execution_count": 99,
   "metadata": {},
   "outputs": [
    {
     "name": "stdout",
     "output_type": "stream",
     "text": [
      "<class 'pandas.core.frame.DataFrame'>\n",
      "Int64Index: 1335576 entries, 0 to 1335575\n",
      "Data columns (total 19 columns):\n",
      " #   Column                   Non-Null Count    Dtype  \n",
      "---  ------                   --------------    -----  \n",
      " 0   dim_claim_id             1335576 non-null  int64  \n",
      " 1   dim_pa_id                555951 non-null   float64\n",
      " 2   dim_date_id              1335576 non-null  int64  \n",
      " 3   bin                      1335576 non-null  int64  \n",
      " 4   drug                     1335576 non-null  object \n",
      " 5   reject_code              555951 non-null   float64\n",
      " 6   pharmacy_claim_approved  1335576 non-null  int64  \n",
      " 7   date_val                 1335576 non-null  object \n",
      " 8   calendar_year            1335576 non-null  int64  \n",
      " 9   calendar_month           1335576 non-null  int64  \n",
      " 10  calendar_day             1335576 non-null  int64  \n",
      " 11  day_of_week              1335576 non-null  int64  \n",
      " 12  is_weekday               1335576 non-null  int64  \n",
      " 13  is_workday               1335576 non-null  int64  \n",
      " 14  is_holiday               1335576 non-null  int64  \n",
      " 15  correct_diagnosis        555951 non-null   float64\n",
      " 16  tried_and_failed         555951 non-null   float64\n",
      " 17  contraindication         555951 non-null   float64\n",
      " 18  pa_approved              555951 non-null   float64\n",
      "dtypes: float64(6), int64(11), object(2)\n",
      "memory usage: 203.8+ MB\n"
     ]
    }
   ],
   "source": [
    "df.info()"
   ]
  },
  {
   "cell_type": "code",
   "execution_count": 100,
   "metadata": {},
   "outputs": [],
   "source": [
    "def pa_ts_y_m_w(company: int, drug: str, rejcode: float, year: int,month:int,isworkday:int):\n",
    "    df1 = df.loc[(df['bin']==company) & (df['drug']==drug) & (df['reject_code']==rejcode)]\n",
    "    df2 = df1.loc[(df1['calendar_year']==year) & (df1['calendar_month']==month) & (df1['is_workday']==isworkday)]\n",
    "    df3 = df2[['date_val','pharmacy_claim_approved']]\n",
    "    df4 = df3.groupby(['date_val']).sum()\n",
    "    df4.rename(columns = {'pharmacy_claim_approved' : 'app'}, inplace = True)\n",
    "    df5 = df3.groupby(['date_val']).count()\n",
    "    df5.rename(columns = {'pharmacy_claim_approved' : 'tot'}, inplace = True)\n",
    "    df6 = df4.join(df5, how='outer')\n",
    "    df6['rate'] = df6['app']/df6['tot']\n",
    "    df7 = df6['rate']\n",
    "    plt.plot(df7)\n",
    "    plt.xlabel(\"Day\", fontsize=16)\n",
    "    plt.ylabel(\"Claim Approval Rate\", fontsize=16)\n",
    "    plt.show()"
   ]
  },
  {
   "cell_type": "code",
   "execution_count": 101,
   "metadata": {},
   "outputs": [
    {
     "data": {
      "image/png": "[encoded data removed]",
      "text/plain": [
       "<Figure size 432x288 with 1 Axes>"
      ]
     },
     "metadata": {},
     "output_type": "display_data"
    }
   ],
   "source": [
    "pa_ts_y_m_w(417614,'B',70.0, 2017,10,0)"
   ]
  },
  {
   "cell_type": "code",
   "execution_count": 102,
   "metadata": {},
   "outputs": [],
   "source": [
    "def pa_ts_y_m(company: int, drug: str, rejcode: float, year: int,month:int):\n",
    "    df1 = df.loc[(df['bin']==company) & (df['drug']==drug) & (df['reject_code']==rejcode)]\n",
    "    df2 = df1.loc[(df1['calendar_year']==year) & (df1['calendar_month']==month)]\n",
    "    df3 = df2[['date_val','pharmacy_claim_approved']]\n",
    "    df4 = df3.groupby(['date_val']).sum()\n",
    "    df4.rename(columns = {'pharmacy_claim_approved' : 'app'}, inplace = True)\n",
    "    df5 = df3.groupby(['date_val']).count()\n",
    "    df5.rename(columns = {'pharmacy_claim_approved' : 'tot'}, inplace = True)\n",
    "    df6 = df4.join(df5, how='outer')\n",
    "    df6['rate'] = df6['app']/df6['tot']\n",
    "    df7 = df6['rate']\n",
    "    plt.plot(df7)\n",
    "    plt.xlabel(\"Day\", fontsize=16)\n",
    "    plt.ylabel(\"Claim Approval Rate\", fontsize=16)\n",
    "    plt.show()"
   ]
  },
  {
   "cell_type": "code",
   "execution_count": 103,
   "metadata": {},
   "outputs": [
    {
     "data": {
      "image/png": "[encoded data removed]",
      "text/plain": [
       "<Figure size 432x288 with 1 Axes>"
      ]
     },
     "metadata": {},
     "output_type": "display_data"
    }
   ],
   "source": [
    "pa_ts_y_m(417614,'C',76.0, 2017,10)"
   ]
  },
  {
   "cell_type": "code",
   "execution_count": 104,
   "metadata": {},
   "outputs": [
    {
     "data": {
      "image/png": "[encoded data removed]",
      "text/plain": [
       "<Figure size 432x288 with 1 Axes>"
      ]
     },
     "metadata": {},
     "output_type": "display_data"
    }
   ],
   "source": [
    "        df1 = df.loc[(df['bin']==417380) & (df['drug']=='A') & (df['reject_code']==75.0)]\n",
    "        df2 = df1.loc[(df1['calendar_year']==2017) & (df1['is_weekday']==1)]\n",
    "        df3 = df2[['date_val','pa_approved']]\n",
    "        df4 = df3.groupby(['date_val']).sum()\n",
    "        df4.rename(columns = {'pa_approved' : 'app'}, inplace = True)\n",
    "        df5 = df3.groupby(['date_val']).count()\n",
    "        df5.rename(columns = {'pa_approved' : 'tot'}, inplace = True)\n",
    "        df6 = df4.join(df5, how='outer')\n",
    "        df6['rate'] = df6['app']/df6['tot']\n",
    "        df7 = df6['rate']\n",
    "        plt.plot(df7)\n",
    "        plt.xlabel(\"Day\", fontsize=16)\n",
    "        plt.ylabel(\"PA Approval Rate\", fontsize=16)\n",
    "        plt.show()"
   ]
  },
  {
   "cell_type": "code",
   "execution_count": 106,
   "metadata": {},
   "outputs": [
    {
     "data": {
      "text/plain": [
       "<AxesSubplot:xlabel='calendar_year,calendar_month'>"
      ]
     },
     "execution_count": 106,
     "metadata": {},
     "output_type": "execute_result"
    },
    {
     "data": {
      "image/png": "[encoded data removed]",
      "text/plain": [
       "<Figure size 432x288 with 1 Axes>"
      ]
     },
     "metadata": {},
     "output_type": "display_data"
    }
   ],
   "source": [
    "        df3 = df[['dim_pa_id','calendar_year','calendar_month']]\n",
    "        df4 = df3.groupby(['calendar_year','calendar_month']).count()\n",
    "        df4.plot()"
   ]
  }
 ],
 "metadata": {
  "kernelspec": {
   "display_name": "Python 3",
   "language": "python",
   "name": "python3"
  },
  "language_info": {
   "codemirror_mode": {
    "name": "ipython",
    "version": 3
   },
   "file_extension": ".py",
   "mimetype": "text/x-python",
   "name": "python",
   "nbconvert_exporter": "python",
   "pygments_lexer": "ipython3",
   "version": "3.8.5"
  }
 },
 "nbformat": 4,
 "nbformat_minor": 4
}
