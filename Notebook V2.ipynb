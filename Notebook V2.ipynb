{
 "cells": [
  {
   "cell_type": "markdown",
   "metadata": {},
   "source": [
    "# CoverMyMeds Project\n",
    "### Authors: Shuo Xu"
   ]
  },
  {
   "cell_type": "markdown",
   "metadata": {},
   "source": [
    "### Abstract"
   ]
  },
  {
   "cell_type": "markdown",
   "metadata": {},
   "source": [
    "#### Import packages"
   ]
  },
  {
   "cell_type": "code",
   "execution_count": 1,
   "metadata": {},
   "outputs": [],
   "source": [
    "import pandas as pd\n",
    "import numpy as np\n",
    "from datetime import datetime\n",
    "import matplotlib.pyplot as plt\n",
    "import seaborn as sns\n",
    "sns.set_style(\"whitegrid\")"
   ]
  },
  {
   "cell_type": "markdown",
   "metadata": {},
   "source": [
    "#### Import data"
   ]
  },
  {
   "cell_type": "code",
   "execution_count": 2,
   "metadata": {},
   "outputs": [],
   "source": [
    "df_bridge = pd.read_csv('bridge.csv')\n",
    "df_claims = pd.read_csv('dim_claims.csv')\n",
    "df_date = pd.read_csv('dim_date.csv')\n",
    "df_pa = pd.read_csv('dim_pa.csv')"
   ]
  },
  {
   "cell_type": "code",
   "execution_count": 3,
   "metadata": {},
   "outputs": [
    {
     "data": {
      "text/html": [
       "<div>\n",
       "<style scoped>\n",
       "    .dataframe tbody tr th:only-of-type {\n",
       "        vertical-align: middle;\n",
       "    }\n",
       "\n",
       "    .dataframe tbody tr th {\n",
       "        vertical-align: top;\n",
       "    }\n",
       "\n",
       "    .dataframe thead th {\n",
       "        text-align: right;\n",
       "    }\n",
       "</style>\n",
       "<table border=\"1\" class=\"dataframe\">\n",
       "  <thead>\n",
       "    <tr style=\"text-align: right;\">\n",
       "      <th></th>\n",
       "      <th>dim_claim_id</th>\n",
       "      <th>dim_pa_id</th>\n",
       "      <th>dim_date_id</th>\n",
       "    </tr>\n",
       "  </thead>\n",
       "  <tbody>\n",
       "    <tr>\n",
       "      <th>0</th>\n",
       "      <td>1</td>\n",
       "      <td>1.0</td>\n",
       "      <td>1</td>\n",
       "    </tr>\n",
       "    <tr>\n",
       "      <th>1</th>\n",
       "      <td>2</td>\n",
       "      <td>NaN</td>\n",
       "      <td>1</td>\n",
       "    </tr>\n",
       "    <tr>\n",
       "      <th>2</th>\n",
       "      <td>3</td>\n",
       "      <td>2.0</td>\n",
       "      <td>1</td>\n",
       "    </tr>\n",
       "    <tr>\n",
       "      <th>3</th>\n",
       "      <td>4</td>\n",
       "      <td>NaN</td>\n",
       "      <td>1</td>\n",
       "    </tr>\n",
       "    <tr>\n",
       "      <th>4</th>\n",
       "      <td>5</td>\n",
       "      <td>NaN</td>\n",
       "      <td>1</td>\n",
       "    </tr>\n",
       "  </tbody>\n",
       "</table>\n",
       "</div>"
      ],
      "text/plain": [
       "   dim_claim_id  dim_pa_id  dim_date_id\n",
       "0             1        1.0            1\n",
       "1             2        NaN            1\n",
       "2             3        2.0            1\n",
       "3             4        NaN            1\n",
       "4             5        NaN            1"
      ]
     },
     "execution_count": 3,
     "metadata": {},
     "output_type": "execute_result"
    }
   ],
   "source": [
    "df_bridge.head()"
   ]
  },
  {
   "cell_type": "code",
   "execution_count": 4,
   "metadata": {},
   "outputs": [
    {
     "name": "stdout",
     "output_type": "stream",
     "text": [
      "<class 'pandas.core.frame.DataFrame'>\n",
      "RangeIndex: 1335576 entries, 0 to 1335575\n",
      "Data columns (total 3 columns):\n",
      " #   Column        Non-Null Count    Dtype  \n",
      "---  ------        --------------    -----  \n",
      " 0   dim_claim_id  1335576 non-null  int64  \n",
      " 1   dim_pa_id     555951 non-null   float64\n",
      " 2   dim_date_id   1335576 non-null  int64  \n",
      "dtypes: float64(1), int64(2)\n",
      "memory usage: 30.6 MB\n"
     ]
    }
   ],
   "source": [
    "df_bridge.info()"
   ]
  },
  {
   "cell_type": "code",
   "execution_count": 5,
   "metadata": {},
   "outputs": [
    {
     "data": {
      "text/html": [
       "<div>\n",
       "<style scoped>\n",
       "    .dataframe tbody tr th:only-of-type {\n",
       "        vertical-align: middle;\n",
       "    }\n",
       "\n",
       "    .dataframe tbody tr th {\n",
       "        vertical-align: top;\n",
       "    }\n",
       "\n",
       "    .dataframe thead th {\n",
       "        text-align: right;\n",
       "    }\n",
       "</style>\n",
       "<table border=\"1\" class=\"dataframe\">\n",
       "  <thead>\n",
       "    <tr style=\"text-align: right;\">\n",
       "      <th></th>\n",
       "      <th>dim_claim_id</th>\n",
       "      <th>bin</th>\n",
       "      <th>drug</th>\n",
       "      <th>reject_code</th>\n",
       "      <th>pharmacy_claim_approved</th>\n",
       "    </tr>\n",
       "  </thead>\n",
       "  <tbody>\n",
       "    <tr>\n",
       "      <th>0</th>\n",
       "      <td>1</td>\n",
       "      <td>417380</td>\n",
       "      <td>A</td>\n",
       "      <td>75.0</td>\n",
       "      <td>0</td>\n",
       "    </tr>\n",
       "    <tr>\n",
       "      <th>1</th>\n",
       "      <td>2</td>\n",
       "      <td>999001</td>\n",
       "      <td>A</td>\n",
       "      <td>NaN</td>\n",
       "      <td>1</td>\n",
       "    </tr>\n",
       "    <tr>\n",
       "      <th>2</th>\n",
       "      <td>3</td>\n",
       "      <td>417740</td>\n",
       "      <td>A</td>\n",
       "      <td>76.0</td>\n",
       "      <td>0</td>\n",
       "    </tr>\n",
       "    <tr>\n",
       "      <th>3</th>\n",
       "      <td>4</td>\n",
       "      <td>999001</td>\n",
       "      <td>A</td>\n",
       "      <td>NaN</td>\n",
       "      <td>1</td>\n",
       "    </tr>\n",
       "    <tr>\n",
       "      <th>4</th>\n",
       "      <td>5</td>\n",
       "      <td>417740</td>\n",
       "      <td>A</td>\n",
       "      <td>NaN</td>\n",
       "      <td>1</td>\n",
       "    </tr>\n",
       "  </tbody>\n",
       "</table>\n",
       "</div>"
      ],
      "text/plain": [
       "   dim_claim_id     bin drug  reject_code  pharmacy_claim_approved\n",
       "0             1  417380    A         75.0                        0\n",
       "1             2  999001    A          NaN                        1\n",
       "2             3  417740    A         76.0                        0\n",
       "3             4  999001    A          NaN                        1\n",
       "4             5  417740    A          NaN                        1"
      ]
     },
     "execution_count": 5,
     "metadata": {},
     "output_type": "execute_result"
    }
   ],
   "source": [
    "df_claims.head()"
   ]
  },
  {
   "cell_type": "code",
   "execution_count": 6,
   "metadata": {},
   "outputs": [
    {
     "name": "stdout",
     "output_type": "stream",
     "text": [
      "<class 'pandas.core.frame.DataFrame'>\n",
      "RangeIndex: 1335576 entries, 0 to 1335575\n",
      "Data columns (total 5 columns):\n",
      " #   Column                   Non-Null Count    Dtype  \n",
      "---  ------                   --------------    -----  \n",
      " 0   dim_claim_id             1335576 non-null  int64  \n",
      " 1   bin                      1335576 non-null  int64  \n",
      " 2   drug                     1335576 non-null  object \n",
      " 3   reject_code              555951 non-null   float64\n",
      " 4   pharmacy_claim_approved  1335576 non-null  int64  \n",
      "dtypes: float64(1), int64(3), object(1)\n",
      "memory usage: 50.9+ MB\n"
     ]
    }
   ],
   "source": [
    "df_claims.info()"
   ]
  },
  {
   "cell_type": "code",
   "execution_count": 7,
   "metadata": {},
   "outputs": [
    {
     "data": {
      "text/html": [
       "<div>\n",
       "<style scoped>\n",
       "    .dataframe tbody tr th:only-of-type {\n",
       "        vertical-align: middle;\n",
       "    }\n",
       "\n",
       "    .dataframe tbody tr th {\n",
       "        vertical-align: top;\n",
       "    }\n",
       "\n",
       "    .dataframe thead th {\n",
       "        text-align: right;\n",
       "    }\n",
       "</style>\n",
       "<table border=\"1\" class=\"dataframe\">\n",
       "  <thead>\n",
       "    <tr style=\"text-align: right;\">\n",
       "      <th></th>\n",
       "      <th>dim_pa_id</th>\n",
       "      <th>correct_diagnosis</th>\n",
       "      <th>tried_and_failed</th>\n",
       "      <th>contraindication</th>\n",
       "      <th>pa_approved</th>\n",
       "    </tr>\n",
       "  </thead>\n",
       "  <tbody>\n",
       "    <tr>\n",
       "      <th>0</th>\n",
       "      <td>1</td>\n",
       "      <td>1</td>\n",
       "      <td>1</td>\n",
       "      <td>0</td>\n",
       "      <td>1</td>\n",
       "    </tr>\n",
       "    <tr>\n",
       "      <th>1</th>\n",
       "      <td>2</td>\n",
       "      <td>1</td>\n",
       "      <td>0</td>\n",
       "      <td>0</td>\n",
       "      <td>1</td>\n",
       "    </tr>\n",
       "    <tr>\n",
       "      <th>2</th>\n",
       "      <td>3</td>\n",
       "      <td>0</td>\n",
       "      <td>0</td>\n",
       "      <td>1</td>\n",
       "      <td>1</td>\n",
       "    </tr>\n",
       "    <tr>\n",
       "      <th>3</th>\n",
       "      <td>4</td>\n",
       "      <td>1</td>\n",
       "      <td>1</td>\n",
       "      <td>0</td>\n",
       "      <td>1</td>\n",
       "    </tr>\n",
       "    <tr>\n",
       "      <th>4</th>\n",
       "      <td>5</td>\n",
       "      <td>0</td>\n",
       "      <td>1</td>\n",
       "      <td>0</td>\n",
       "      <td>1</td>\n",
       "    </tr>\n",
       "  </tbody>\n",
       "</table>\n",
       "</div>"
      ],
      "text/plain": [
       "   dim_pa_id  correct_diagnosis  tried_and_failed  contraindication  \\\n",
       "0          1                  1                 1                 0   \n",
       "1          2                  1                 0                 0   \n",
       "2          3                  0                 0                 1   \n",
       "3          4                  1                 1                 0   \n",
       "4          5                  0                 1                 0   \n",
       "\n",
       "   pa_approved  \n",
       "0            1  \n",
       "1            1  \n",
       "2            1  \n",
       "3            1  \n",
       "4            1  "
      ]
     },
     "execution_count": 7,
     "metadata": {},
     "output_type": "execute_result"
    }
   ],
   "source": [
    "df_pa.head()"
   ]
  },
  {
   "cell_type": "code",
   "execution_count": 8,
   "metadata": {},
   "outputs": [
    {
     "name": "stdout",
     "output_type": "stream",
     "text": [
      "<class 'pandas.core.frame.DataFrame'>\n",
      "RangeIndex: 555951 entries, 0 to 555950\n",
      "Data columns (total 5 columns):\n",
      " #   Column             Non-Null Count   Dtype\n",
      "---  ------             --------------   -----\n",
      " 0   dim_pa_id          555951 non-null  int64\n",
      " 1   correct_diagnosis  555951 non-null  int64\n",
      " 2   tried_and_failed   555951 non-null  int64\n",
      " 3   contraindication   555951 non-null  int64\n",
      " 4   pa_approved        555951 non-null  int64\n",
      "dtypes: int64(5)\n",
      "memory usage: 21.2 MB\n"
     ]
    }
   ],
   "source": [
    "df_pa.info()"
   ]
  },
  {
   "cell_type": "code",
   "execution_count": 9,
   "metadata": {},
   "outputs": [
    {
     "data": {
      "text/html": [
       "<div>\n",
       "<style scoped>\n",
       "    .dataframe tbody tr th:only-of-type {\n",
       "        vertical-align: middle;\n",
       "    }\n",
       "\n",
       "    .dataframe tbody tr th {\n",
       "        vertical-align: top;\n",
       "    }\n",
       "\n",
       "    .dataframe thead th {\n",
       "        text-align: right;\n",
       "    }\n",
       "</style>\n",
       "<table border=\"1\" class=\"dataframe\">\n",
       "  <thead>\n",
       "    <tr style=\"text-align: right;\">\n",
       "      <th></th>\n",
       "      <th>dim_date_id</th>\n",
       "      <th>date_val</th>\n",
       "      <th>calendar_year</th>\n",
       "      <th>calendar_month</th>\n",
       "      <th>calendar_day</th>\n",
       "      <th>day_of_week</th>\n",
       "      <th>is_weekday</th>\n",
       "      <th>is_workday</th>\n",
       "      <th>is_holiday</th>\n",
       "    </tr>\n",
       "  </thead>\n",
       "  <tbody>\n",
       "    <tr>\n",
       "      <th>0</th>\n",
       "      <td>1</td>\n",
       "      <td>2017-01-01</td>\n",
       "      <td>2017</td>\n",
       "      <td>1</td>\n",
       "      <td>1</td>\n",
       "      <td>1</td>\n",
       "      <td>0</td>\n",
       "      <td>0</td>\n",
       "      <td>1</td>\n",
       "    </tr>\n",
       "    <tr>\n",
       "      <th>1</th>\n",
       "      <td>2</td>\n",
       "      <td>2017-01-02</td>\n",
       "      <td>2017</td>\n",
       "      <td>1</td>\n",
       "      <td>2</td>\n",
       "      <td>2</td>\n",
       "      <td>1</td>\n",
       "      <td>0</td>\n",
       "      <td>0</td>\n",
       "    </tr>\n",
       "    <tr>\n",
       "      <th>2</th>\n",
       "      <td>3</td>\n",
       "      <td>2017-01-03</td>\n",
       "      <td>2017</td>\n",
       "      <td>1</td>\n",
       "      <td>3</td>\n",
       "      <td>3</td>\n",
       "      <td>1</td>\n",
       "      <td>1</td>\n",
       "      <td>0</td>\n",
       "    </tr>\n",
       "    <tr>\n",
       "      <th>3</th>\n",
       "      <td>4</td>\n",
       "      <td>2017-01-04</td>\n",
       "      <td>2017</td>\n",
       "      <td>1</td>\n",
       "      <td>4</td>\n",
       "      <td>4</td>\n",
       "      <td>1</td>\n",
       "      <td>1</td>\n",
       "      <td>0</td>\n",
       "    </tr>\n",
       "    <tr>\n",
       "      <th>4</th>\n",
       "      <td>5</td>\n",
       "      <td>2017-01-05</td>\n",
       "      <td>2017</td>\n",
       "      <td>1</td>\n",
       "      <td>5</td>\n",
       "      <td>5</td>\n",
       "      <td>1</td>\n",
       "      <td>1</td>\n",
       "      <td>0</td>\n",
       "    </tr>\n",
       "  </tbody>\n",
       "</table>\n",
       "</div>"
      ],
      "text/plain": [
       "   dim_date_id    date_val  calendar_year  calendar_month  calendar_day  \\\n",
       "0            1  2017-01-01           2017               1             1   \n",
       "1            2  2017-01-02           2017               1             2   \n",
       "2            3  2017-01-03           2017               1             3   \n",
       "3            4  2017-01-04           2017               1             4   \n",
       "4            5  2017-01-05           2017               1             5   \n",
       "\n",
       "   day_of_week  is_weekday  is_workday  is_holiday  \n",
       "0            1           0           0           1  \n",
       "1            2           1           0           0  \n",
       "2            3           1           1           0  \n",
       "3            4           1           1           0  \n",
       "4            5           1           1           0  "
      ]
     },
     "execution_count": 9,
     "metadata": {},
     "output_type": "execute_result"
    }
   ],
   "source": [
    "df_date.head()"
   ]
  },
  {
   "cell_type": "code",
   "execution_count": 10,
   "metadata": {},
   "outputs": [
    {
     "name": "stdout",
     "output_type": "stream",
     "text": [
      "<class 'pandas.core.frame.DataFrame'>\n",
      "RangeIndex: 1520 entries, 0 to 1519\n",
      "Data columns (total 9 columns):\n",
      " #   Column          Non-Null Count  Dtype \n",
      "---  ------          --------------  ----- \n",
      " 0   dim_date_id     1520 non-null   int64 \n",
      " 1   date_val        1520 non-null   object\n",
      " 2   calendar_year   1520 non-null   int64 \n",
      " 3   calendar_month  1520 non-null   int64 \n",
      " 4   calendar_day    1520 non-null   int64 \n",
      " 5   day_of_week     1520 non-null   int64 \n",
      " 6   is_weekday      1520 non-null   int64 \n",
      " 7   is_workday      1520 non-null   int64 \n",
      " 8   is_holiday      1520 non-null   int64 \n",
      "dtypes: int64(8), object(1)\n",
      "memory usage: 107.0+ KB\n"
     ]
    }
   ],
   "source": [
    "df_date.info()"
   ]
  },
  {
   "cell_type": "markdown",
   "metadata": {},
   "source": [
    "#### Time Series of Claims"
   ]
  },
  {
   "cell_type": "code",
   "execution_count": 11,
   "metadata": {},
   "outputs": [],
   "source": [
    "result1 = pd.merge(df_bridge, df_claims, how=\"inner\", on=[\"dim_claim_id\"])\n",
    "df_claims_ts = pd.merge(result1, df_date, how = \"inner\", on = [\"dim_date_id\"])"
   ]
  },
  {
   "cell_type": "code",
   "execution_count": 12,
   "metadata": {},
   "outputs": [
    {
     "data": {
      "text/html": [
       "<div>\n",
       "<style scoped>\n",
       "    .dataframe tbody tr th:only-of-type {\n",
       "        vertical-align: middle;\n",
       "    }\n",
       "\n",
       "    .dataframe tbody tr th {\n",
       "        vertical-align: top;\n",
       "    }\n",
       "\n",
       "    .dataframe thead th {\n",
       "        text-align: right;\n",
       "    }\n",
       "</style>\n",
       "<table border=\"1\" class=\"dataframe\">\n",
       "  <thead>\n",
       "    <tr style=\"text-align: right;\">\n",
       "      <th></th>\n",
       "      <th>dim_claim_id</th>\n",
       "      <th>dim_pa_id</th>\n",
       "      <th>dim_date_id</th>\n",
       "      <th>bin</th>\n",
       "      <th>drug</th>\n",
       "      <th>reject_code</th>\n",
       "      <th>pharmacy_claim_approved</th>\n",
       "      <th>date_val</th>\n",
       "      <th>calendar_year</th>\n",
       "      <th>calendar_month</th>\n",
       "      <th>calendar_day</th>\n",
       "      <th>day_of_week</th>\n",
       "      <th>is_weekday</th>\n",
       "      <th>is_workday</th>\n",
       "      <th>is_holiday</th>\n",
       "    </tr>\n",
       "  </thead>\n",
       "  <tbody>\n",
       "    <tr>\n",
       "      <th>0</th>\n",
       "      <td>1</td>\n",
       "      <td>1.0</td>\n",
       "      <td>1</td>\n",
       "      <td>417380</td>\n",
       "      <td>A</td>\n",
       "      <td>75.0</td>\n",
       "      <td>0</td>\n",
       "      <td>2017-01-01</td>\n",
       "      <td>2017</td>\n",
       "      <td>1</td>\n",
       "      <td>1</td>\n",
       "      <td>1</td>\n",
       "      <td>0</td>\n",
       "      <td>0</td>\n",
       "      <td>1</td>\n",
       "    </tr>\n",
       "    <tr>\n",
       "      <th>1</th>\n",
       "      <td>2</td>\n",
       "      <td>NaN</td>\n",
       "      <td>1</td>\n",
       "      <td>999001</td>\n",
       "      <td>A</td>\n",
       "      <td>NaN</td>\n",
       "      <td>1</td>\n",
       "      <td>2017-01-01</td>\n",
       "      <td>2017</td>\n",
       "      <td>1</td>\n",
       "      <td>1</td>\n",
       "      <td>1</td>\n",
       "      <td>0</td>\n",
       "      <td>0</td>\n",
       "      <td>1</td>\n",
       "    </tr>\n",
       "    <tr>\n",
       "      <th>2</th>\n",
       "      <td>3</td>\n",
       "      <td>2.0</td>\n",
       "      <td>1</td>\n",
       "      <td>417740</td>\n",
       "      <td>A</td>\n",
       "      <td>76.0</td>\n",
       "      <td>0</td>\n",
       "      <td>2017-01-01</td>\n",
       "      <td>2017</td>\n",
       "      <td>1</td>\n",
       "      <td>1</td>\n",
       "      <td>1</td>\n",
       "      <td>0</td>\n",
       "      <td>0</td>\n",
       "      <td>1</td>\n",
       "    </tr>\n",
       "    <tr>\n",
       "      <th>3</th>\n",
       "      <td>4</td>\n",
       "      <td>NaN</td>\n",
       "      <td>1</td>\n",
       "      <td>999001</td>\n",
       "      <td>A</td>\n",
       "      <td>NaN</td>\n",
       "      <td>1</td>\n",
       "      <td>2017-01-01</td>\n",
       "      <td>2017</td>\n",
       "      <td>1</td>\n",
       "      <td>1</td>\n",
       "      <td>1</td>\n",
       "      <td>0</td>\n",
       "      <td>0</td>\n",
       "      <td>1</td>\n",
       "    </tr>\n",
       "    <tr>\n",
       "      <th>4</th>\n",
       "      <td>5</td>\n",
       "      <td>NaN</td>\n",
       "      <td>1</td>\n",
       "      <td>417740</td>\n",
       "      <td>A</td>\n",
       "      <td>NaN</td>\n",
       "      <td>1</td>\n",
       "      <td>2017-01-01</td>\n",
       "      <td>2017</td>\n",
       "      <td>1</td>\n",
       "      <td>1</td>\n",
       "      <td>1</td>\n",
       "      <td>0</td>\n",
       "      <td>0</td>\n",
       "      <td>1</td>\n",
       "    </tr>\n",
       "  </tbody>\n",
       "</table>\n",
       "</div>"
      ],
      "text/plain": [
       "   dim_claim_id  dim_pa_id  dim_date_id     bin drug  reject_code  \\\n",
       "0             1        1.0            1  417380    A         75.0   \n",
       "1             2        NaN            1  999001    A          NaN   \n",
       "2             3        2.0            1  417740    A         76.0   \n",
       "3             4        NaN            1  999001    A          NaN   \n",
       "4             5        NaN            1  417740    A          NaN   \n",
       "\n",
       "   pharmacy_claim_approved    date_val  calendar_year  calendar_month  \\\n",
       "0                        0  2017-01-01           2017               1   \n",
       "1                        1  2017-01-01           2017               1   \n",
       "2                        0  2017-01-01           2017               1   \n",
       "3                        1  2017-01-01           2017               1   \n",
       "4                        1  2017-01-01           2017               1   \n",
       "\n",
       "   calendar_day  day_of_week  is_weekday  is_workday  is_holiday  \n",
       "0             1            1           0           0           1  \n",
       "1             1            1           0           0           1  \n",
       "2             1            1           0           0           1  \n",
       "3             1            1           0           0           1  \n",
       "4             1            1           0           0           1  "
      ]
     },
     "execution_count": 12,
     "metadata": {},
     "output_type": "execute_result"
    }
   ],
   "source": [
    "df_claims_ts.head()"
   ]
  },
  {
   "cell_type": "code",
   "execution_count": 13,
   "metadata": {},
   "outputs": [],
   "source": [
    "df_claims_ts.to_csv(r'C:\\Users\\xushu\\Downloads\\CoverMyMeds_data-20210503T170046Z-001\\CoverMyMeds_data\\Claims_Time_Series.csv', index = False)"
   ]
  },
  {
   "cell_type": "markdown",
   "metadata": {},
   "source": [
    "#### Time Series of PA"
   ]
  },
  {
   "cell_type": "code",
   "execution_count": 14,
   "metadata": {},
   "outputs": [],
   "source": [
    "result2 = pd.merge(df_bridge, df_pa, how=\"inner\", on=[\"dim_pa_id\"])\n",
    "df_pa_ts = pd.merge(result2, df_date, how = \"inner\", on = [\"dim_date_id\"])"
   ]
  },
  {
   "cell_type": "code",
   "execution_count": 15,
   "metadata": {},
   "outputs": [
    {
     "data": {
      "text/html": [
       "<div>\n",
       "<style scoped>\n",
       "    .dataframe tbody tr th:only-of-type {\n",
       "        vertical-align: middle;\n",
       "    }\n",
       "\n",
       "    .dataframe tbody tr th {\n",
       "        vertical-align: top;\n",
       "    }\n",
       "\n",
       "    .dataframe thead th {\n",
       "        text-align: right;\n",
       "    }\n",
       "</style>\n",
       "<table border=\"1\" class=\"dataframe\">\n",
       "  <thead>\n",
       "    <tr style=\"text-align: right;\">\n",
       "      <th></th>\n",
       "      <th>dim_claim_id</th>\n",
       "      <th>dim_pa_id</th>\n",
       "      <th>dim_date_id</th>\n",
       "      <th>correct_diagnosis</th>\n",
       "      <th>tried_and_failed</th>\n",
       "      <th>contraindication</th>\n",
       "      <th>pa_approved</th>\n",
       "      <th>date_val</th>\n",
       "      <th>calendar_year</th>\n",
       "      <th>calendar_month</th>\n",
       "      <th>calendar_day</th>\n",
       "      <th>day_of_week</th>\n",
       "      <th>is_weekday</th>\n",
       "      <th>is_workday</th>\n",
       "      <th>is_holiday</th>\n",
       "    </tr>\n",
       "  </thead>\n",
       "  <tbody>\n",
       "    <tr>\n",
       "      <th>0</th>\n",
       "      <td>1</td>\n",
       "      <td>1.0</td>\n",
       "      <td>1</td>\n",
       "      <td>1</td>\n",
       "      <td>1</td>\n",
       "      <td>0</td>\n",
       "      <td>1</td>\n",
       "      <td>2017-01-01</td>\n",
       "      <td>2017</td>\n",
       "      <td>1</td>\n",
       "      <td>1</td>\n",
       "      <td>1</td>\n",
       "      <td>0</td>\n",
       "      <td>0</td>\n",
       "      <td>1</td>\n",
       "    </tr>\n",
       "    <tr>\n",
       "      <th>1</th>\n",
       "      <td>3</td>\n",
       "      <td>2.0</td>\n",
       "      <td>1</td>\n",
       "      <td>1</td>\n",
       "      <td>0</td>\n",
       "      <td>0</td>\n",
       "      <td>1</td>\n",
       "      <td>2017-01-01</td>\n",
       "      <td>2017</td>\n",
       "      <td>1</td>\n",
       "      <td>1</td>\n",
       "      <td>1</td>\n",
       "      <td>0</td>\n",
       "      <td>0</td>\n",
       "      <td>1</td>\n",
       "    </tr>\n",
       "    <tr>\n",
       "      <th>2</th>\n",
       "      <td>10</td>\n",
       "      <td>3.0</td>\n",
       "      <td>1</td>\n",
       "      <td>0</td>\n",
       "      <td>0</td>\n",
       "      <td>1</td>\n",
       "      <td>1</td>\n",
       "      <td>2017-01-01</td>\n",
       "      <td>2017</td>\n",
       "      <td>1</td>\n",
       "      <td>1</td>\n",
       "      <td>1</td>\n",
       "      <td>0</td>\n",
       "      <td>0</td>\n",
       "      <td>1</td>\n",
       "    </tr>\n",
       "    <tr>\n",
       "      <th>3</th>\n",
       "      <td>11</td>\n",
       "      <td>4.0</td>\n",
       "      <td>1</td>\n",
       "      <td>1</td>\n",
       "      <td>1</td>\n",
       "      <td>0</td>\n",
       "      <td>1</td>\n",
       "      <td>2017-01-01</td>\n",
       "      <td>2017</td>\n",
       "      <td>1</td>\n",
       "      <td>1</td>\n",
       "      <td>1</td>\n",
       "      <td>0</td>\n",
       "      <td>0</td>\n",
       "      <td>1</td>\n",
       "    </tr>\n",
       "    <tr>\n",
       "      <th>4</th>\n",
       "      <td>15</td>\n",
       "      <td>5.0</td>\n",
       "      <td>1</td>\n",
       "      <td>0</td>\n",
       "      <td>1</td>\n",
       "      <td>0</td>\n",
       "      <td>1</td>\n",
       "      <td>2017-01-01</td>\n",
       "      <td>2017</td>\n",
       "      <td>1</td>\n",
       "      <td>1</td>\n",
       "      <td>1</td>\n",
       "      <td>0</td>\n",
       "      <td>0</td>\n",
       "      <td>1</td>\n",
       "    </tr>\n",
       "  </tbody>\n",
       "</table>\n",
       "</div>"
      ],
      "text/plain": [
       "   dim_claim_id  dim_pa_id  dim_date_id  correct_diagnosis  tried_and_failed  \\\n",
       "0             1        1.0            1                  1                 1   \n",
       "1             3        2.0            1                  1                 0   \n",
       "2            10        3.0            1                  0                 0   \n",
       "3            11        4.0            1                  1                 1   \n",
       "4            15        5.0            1                  0                 1   \n",
       "\n",
       "   contraindication  pa_approved    date_val  calendar_year  calendar_month  \\\n",
       "0                 0            1  2017-01-01           2017               1   \n",
       "1                 0            1  2017-01-01           2017               1   \n",
       "2                 1            1  2017-01-01           2017               1   \n",
       "3                 0            1  2017-01-01           2017               1   \n",
       "4                 0            1  2017-01-01           2017               1   \n",
       "\n",
       "   calendar_day  day_of_week  is_weekday  is_workday  is_holiday  \n",
       "0             1            1           0           0           1  \n",
       "1             1            1           0           0           1  \n",
       "2             1            1           0           0           1  \n",
       "3             1            1           0           0           1  \n",
       "4             1            1           0           0           1  "
      ]
     },
     "execution_count": 15,
     "metadata": {},
     "output_type": "execute_result"
    }
   ],
   "source": [
    "df_pa_ts.head()"
   ]
  },
  {
   "cell_type": "code",
   "execution_count": 16,
   "metadata": {},
   "outputs": [],
   "source": [
    "df_pa_ts.to_csv(r'C:\\Users\\xushu\\Downloads\\CoverMyMeds_data-20210503T170046Z-001\\CoverMyMeds_data\\PA_Time_Series.csv', index = False)"
   ]
  },
  {
   "cell_type": "markdown",
   "metadata": {},
   "source": [
    "#### Time Series of All"
   ]
  },
  {
   "cell_type": "code",
   "execution_count": 17,
   "metadata": {},
   "outputs": [],
   "source": [
    "df = pd.merge(df_claims_ts, df_pa, how = \"left\", on = [\"dim_pa_id\"])"
   ]
  },
  {
   "cell_type": "code",
   "execution_count": 18,
   "metadata": {},
   "outputs": [
    {
     "data": {
      "text/html": [
       "<div>\n",
       "<style scoped>\n",
       "    .dataframe tbody tr th:only-of-type {\n",
       "        vertical-align: middle;\n",
       "    }\n",
       "\n",
       "    .dataframe tbody tr th {\n",
       "        vertical-align: top;\n",
       "    }\n",
       "\n",
       "    .dataframe thead th {\n",
       "        text-align: right;\n",
       "    }\n",
       "</style>\n",
       "<table border=\"1\" class=\"dataframe\">\n",
       "  <thead>\n",
       "    <tr style=\"text-align: right;\">\n",
       "      <th></th>\n",
       "      <th>dim_claim_id</th>\n",
       "      <th>dim_pa_id</th>\n",
       "      <th>dim_date_id</th>\n",
       "      <th>bin</th>\n",
       "      <th>drug</th>\n",
       "      <th>reject_code</th>\n",
       "      <th>pharmacy_claim_approved</th>\n",
       "      <th>date_val</th>\n",
       "      <th>calendar_year</th>\n",
       "      <th>calendar_month</th>\n",
       "      <th>calendar_day</th>\n",
       "      <th>day_of_week</th>\n",
       "      <th>is_weekday</th>\n",
       "      <th>is_workday</th>\n",
       "      <th>is_holiday</th>\n",
       "      <th>correct_diagnosis</th>\n",
       "      <th>tried_and_failed</th>\n",
       "      <th>contraindication</th>\n",
       "      <th>pa_approved</th>\n",
       "    </tr>\n",
       "  </thead>\n",
       "  <tbody>\n",
       "    <tr>\n",
       "      <th>0</th>\n",
       "      <td>1</td>\n",
       "      <td>1.0</td>\n",
       "      <td>1</td>\n",
       "      <td>417380</td>\n",
       "      <td>A</td>\n",
       "      <td>75.0</td>\n",
       "      <td>0</td>\n",
       "      <td>2017-01-01</td>\n",
       "      <td>2017</td>\n",
       "      <td>1</td>\n",
       "      <td>1</td>\n",
       "      <td>1</td>\n",
       "      <td>0</td>\n",
       "      <td>0</td>\n",
       "      <td>1</td>\n",
       "      <td>1.0</td>\n",
       "      <td>1.0</td>\n",
       "      <td>0.0</td>\n",
       "      <td>1.0</td>\n",
       "    </tr>\n",
       "    <tr>\n",
       "      <th>1</th>\n",
       "      <td>2</td>\n",
       "      <td>NaN</td>\n",
       "      <td>1</td>\n",
       "      <td>999001</td>\n",
       "      <td>A</td>\n",
       "      <td>NaN</td>\n",
       "      <td>1</td>\n",
       "      <td>2017-01-01</td>\n",
       "      <td>2017</td>\n",
       "      <td>1</td>\n",
       "      <td>1</td>\n",
       "      <td>1</td>\n",
       "      <td>0</td>\n",
       "      <td>0</td>\n",
       "      <td>1</td>\n",
       "      <td>NaN</td>\n",
       "      <td>NaN</td>\n",
       "      <td>NaN</td>\n",
       "      <td>NaN</td>\n",
       "    </tr>\n",
       "    <tr>\n",
       "      <th>2</th>\n",
       "      <td>3</td>\n",
       "      <td>2.0</td>\n",
       "      <td>1</td>\n",
       "      <td>417740</td>\n",
       "      <td>A</td>\n",
       "      <td>76.0</td>\n",
       "      <td>0</td>\n",
       "      <td>2017-01-01</td>\n",
       "      <td>2017</td>\n",
       "      <td>1</td>\n",
       "      <td>1</td>\n",
       "      <td>1</td>\n",
       "      <td>0</td>\n",
       "      <td>0</td>\n",
       "      <td>1</td>\n",
       "      <td>1.0</td>\n",
       "      <td>0.0</td>\n",
       "      <td>0.0</td>\n",
       "      <td>1.0</td>\n",
       "    </tr>\n",
       "    <tr>\n",
       "      <th>3</th>\n",
       "      <td>4</td>\n",
       "      <td>NaN</td>\n",
       "      <td>1</td>\n",
       "      <td>999001</td>\n",
       "      <td>A</td>\n",
       "      <td>NaN</td>\n",
       "      <td>1</td>\n",
       "      <td>2017-01-01</td>\n",
       "      <td>2017</td>\n",
       "      <td>1</td>\n",
       "      <td>1</td>\n",
       "      <td>1</td>\n",
       "      <td>0</td>\n",
       "      <td>0</td>\n",
       "      <td>1</td>\n",
       "      <td>NaN</td>\n",
       "      <td>NaN</td>\n",
       "      <td>NaN</td>\n",
       "      <td>NaN</td>\n",
       "    </tr>\n",
       "    <tr>\n",
       "      <th>4</th>\n",
       "      <td>5</td>\n",
       "      <td>NaN</td>\n",
       "      <td>1</td>\n",
       "      <td>417740</td>\n",
       "      <td>A</td>\n",
       "      <td>NaN</td>\n",
       "      <td>1</td>\n",
       "      <td>2017-01-01</td>\n",
       "      <td>2017</td>\n",
       "      <td>1</td>\n",
       "      <td>1</td>\n",
       "      <td>1</td>\n",
       "      <td>0</td>\n",
       "      <td>0</td>\n",
       "      <td>1</td>\n",
       "      <td>NaN</td>\n",
       "      <td>NaN</td>\n",
       "      <td>NaN</td>\n",
       "      <td>NaN</td>\n",
       "    </tr>\n",
       "  </tbody>\n",
       "</table>\n",
       "</div>"
      ],
      "text/plain": [
       "   dim_claim_id  dim_pa_id  dim_date_id     bin drug  reject_code  \\\n",
       "0             1        1.0            1  417380    A         75.0   \n",
       "1             2        NaN            1  999001    A          NaN   \n",
       "2             3        2.0            1  417740    A         76.0   \n",
       "3             4        NaN            1  999001    A          NaN   \n",
       "4             5        NaN            1  417740    A          NaN   \n",
       "\n",
       "   pharmacy_claim_approved    date_val  calendar_year  calendar_month  \\\n",
       "0                        0  2017-01-01           2017               1   \n",
       "1                        1  2017-01-01           2017               1   \n",
       "2                        0  2017-01-01           2017               1   \n",
       "3                        1  2017-01-01           2017               1   \n",
       "4                        1  2017-01-01           2017               1   \n",
       "\n",
       "   calendar_day  day_of_week  is_weekday  is_workday  is_holiday  \\\n",
       "0             1            1           0           0           1   \n",
       "1             1            1           0           0           1   \n",
       "2             1            1           0           0           1   \n",
       "3             1            1           0           0           1   \n",
       "4             1            1           0           0           1   \n",
       "\n",
       "   correct_diagnosis  tried_and_failed  contraindication  pa_approved  \n",
       "0                1.0               1.0               0.0          1.0  \n",
       "1                NaN               NaN               NaN          NaN  \n",
       "2                1.0               0.0               0.0          1.0  \n",
       "3                NaN               NaN               NaN          NaN  \n",
       "4                NaN               NaN               NaN          NaN  "
      ]
     },
     "execution_count": 18,
     "metadata": {},
     "output_type": "execute_result"
    }
   ],
   "source": [
    "df.head()"
   ]
  },
  {
   "cell_type": "code",
   "execution_count": 19,
   "metadata": {},
   "outputs": [],
   "source": [
    "df.to_csv(r'C:\\Users\\xushu\\Downloads\\CoverMyMeds_data-20210503T170046Z-001\\CoverMyMeds_data\\All_Time_Series.csv', index = False)"
   ]
  },
  {
   "cell_type": "markdown",
   "metadata": {},
   "source": [
    "## Exploratory Analysis"
   ]
  },
  {
   "cell_type": "code",
   "execution_count": 20,
   "metadata": {},
   "outputs": [
    {
     "data": {
      "text/html": [
       "<div>\n",
       "<style scoped>\n",
       "    .dataframe tbody tr th:only-of-type {\n",
       "        vertical-align: middle;\n",
       "    }\n",
       "\n",
       "    .dataframe tbody tr th {\n",
       "        vertical-align: top;\n",
       "    }\n",
       "\n",
       "    .dataframe thead th {\n",
       "        text-align: right;\n",
       "    }\n",
       "</style>\n",
       "<table border=\"1\" class=\"dataframe\">\n",
       "  <thead>\n",
       "    <tr style=\"text-align: right;\">\n",
       "      <th></th>\n",
       "      <th>dim_claim_id</th>\n",
       "      <th>dim_pa_id</th>\n",
       "      <th>dim_date_id</th>\n",
       "      <th>bin</th>\n",
       "      <th>drug</th>\n",
       "      <th>reject_code</th>\n",
       "      <th>pharmacy_claim_approved</th>\n",
       "      <th>date_val</th>\n",
       "      <th>calendar_year</th>\n",
       "      <th>calendar_month</th>\n",
       "      <th>calendar_day</th>\n",
       "      <th>day_of_week</th>\n",
       "      <th>is_weekday</th>\n",
       "      <th>is_workday</th>\n",
       "      <th>is_holiday</th>\n",
       "      <th>correct_diagnosis</th>\n",
       "      <th>tried_and_failed</th>\n",
       "      <th>contraindication</th>\n",
       "      <th>pa_approved</th>\n",
       "    </tr>\n",
       "  </thead>\n",
       "  <tbody>\n",
       "    <tr>\n",
       "      <th>0</th>\n",
       "      <td>1</td>\n",
       "      <td>1.0</td>\n",
       "      <td>1</td>\n",
       "      <td>417380</td>\n",
       "      <td>A</td>\n",
       "      <td>75.0</td>\n",
       "      <td>0</td>\n",
       "      <td>2017-01-01</td>\n",
       "      <td>2017</td>\n",
       "      <td>1</td>\n",
       "      <td>1</td>\n",
       "      <td>1</td>\n",
       "      <td>0</td>\n",
       "      <td>0</td>\n",
       "      <td>1</td>\n",
       "      <td>1.0</td>\n",
       "      <td>1.0</td>\n",
       "      <td>0.0</td>\n",
       "      <td>1.0</td>\n",
       "    </tr>\n",
       "    <tr>\n",
       "      <th>1</th>\n",
       "      <td>2</td>\n",
       "      <td>NaN</td>\n",
       "      <td>1</td>\n",
       "      <td>999001</td>\n",
       "      <td>A</td>\n",
       "      <td>NaN</td>\n",
       "      <td>1</td>\n",
       "      <td>2017-01-01</td>\n",
       "      <td>2017</td>\n",
       "      <td>1</td>\n",
       "      <td>1</td>\n",
       "      <td>1</td>\n",
       "      <td>0</td>\n",
       "      <td>0</td>\n",
       "      <td>1</td>\n",
       "      <td>NaN</td>\n",
       "      <td>NaN</td>\n",
       "      <td>NaN</td>\n",
       "      <td>NaN</td>\n",
       "    </tr>\n",
       "    <tr>\n",
       "      <th>2</th>\n",
       "      <td>3</td>\n",
       "      <td>2.0</td>\n",
       "      <td>1</td>\n",
       "      <td>417740</td>\n",
       "      <td>A</td>\n",
       "      <td>76.0</td>\n",
       "      <td>0</td>\n",
       "      <td>2017-01-01</td>\n",
       "      <td>2017</td>\n",
       "      <td>1</td>\n",
       "      <td>1</td>\n",
       "      <td>1</td>\n",
       "      <td>0</td>\n",
       "      <td>0</td>\n",
       "      <td>1</td>\n",
       "      <td>1.0</td>\n",
       "      <td>0.0</td>\n",
       "      <td>0.0</td>\n",
       "      <td>1.0</td>\n",
       "    </tr>\n",
       "    <tr>\n",
       "      <th>3</th>\n",
       "      <td>4</td>\n",
       "      <td>NaN</td>\n",
       "      <td>1</td>\n",
       "      <td>999001</td>\n",
       "      <td>A</td>\n",
       "      <td>NaN</td>\n",
       "      <td>1</td>\n",
       "      <td>2017-01-01</td>\n",
       "      <td>2017</td>\n",
       "      <td>1</td>\n",
       "      <td>1</td>\n",
       "      <td>1</td>\n",
       "      <td>0</td>\n",
       "      <td>0</td>\n",
       "      <td>1</td>\n",
       "      <td>NaN</td>\n",
       "      <td>NaN</td>\n",
       "      <td>NaN</td>\n",
       "      <td>NaN</td>\n",
       "    </tr>\n",
       "    <tr>\n",
       "      <th>4</th>\n",
       "      <td>5</td>\n",
       "      <td>NaN</td>\n",
       "      <td>1</td>\n",
       "      <td>417740</td>\n",
       "      <td>A</td>\n",
       "      <td>NaN</td>\n",
       "      <td>1</td>\n",
       "      <td>2017-01-01</td>\n",
       "      <td>2017</td>\n",
       "      <td>1</td>\n",
       "      <td>1</td>\n",
       "      <td>1</td>\n",
       "      <td>0</td>\n",
       "      <td>0</td>\n",
       "      <td>1</td>\n",
       "      <td>NaN</td>\n",
       "      <td>NaN</td>\n",
       "      <td>NaN</td>\n",
       "      <td>NaN</td>\n",
       "    </tr>\n",
       "  </tbody>\n",
       "</table>\n",
       "</div>"
      ],
      "text/plain": [
       "   dim_claim_id  dim_pa_id  dim_date_id     bin drug  reject_code  \\\n",
       "0             1        1.0            1  417380    A         75.0   \n",
       "1             2        NaN            1  999001    A          NaN   \n",
       "2             3        2.0            1  417740    A         76.0   \n",
       "3             4        NaN            1  999001    A          NaN   \n",
       "4             5        NaN            1  417740    A          NaN   \n",
       "\n",
       "   pharmacy_claim_approved    date_val  calendar_year  calendar_month  \\\n",
       "0                        0  2017-01-01           2017               1   \n",
       "1                        1  2017-01-01           2017               1   \n",
       "2                        0  2017-01-01           2017               1   \n",
       "3                        1  2017-01-01           2017               1   \n",
       "4                        1  2017-01-01           2017               1   \n",
       "\n",
       "   calendar_day  day_of_week  is_weekday  is_workday  is_holiday  \\\n",
       "0             1            1           0           0           1   \n",
       "1             1            1           0           0           1   \n",
       "2             1            1           0           0           1   \n",
       "3             1            1           0           0           1   \n",
       "4             1            1           0           0           1   \n",
       "\n",
       "   correct_diagnosis  tried_and_failed  contraindication  pa_approved  \n",
       "0                1.0               1.0               0.0          1.0  \n",
       "1                NaN               NaN               NaN          NaN  \n",
       "2                1.0               0.0               0.0          1.0  \n",
       "3                NaN               NaN               NaN          NaN  \n",
       "4                NaN               NaN               NaN          NaN  "
      ]
     },
     "execution_count": 20,
     "metadata": {},
     "output_type": "execute_result"
    }
   ],
   "source": [
    "df.head()"
   ]
  },
  {
   "cell_type": "code",
   "execution_count": 21,
   "metadata": {},
   "outputs": [
    {
     "name": "stdout",
     "output_type": "stream",
     "text": [
      "<class 'pandas.core.frame.DataFrame'>\n",
      "Int64Index: 1335576 entries, 0 to 1335575\n",
      "Data columns (total 19 columns):\n",
      " #   Column                   Non-Null Count    Dtype  \n",
      "---  ------                   --------------    -----  \n",
      " 0   dim_claim_id             1335576 non-null  int64  \n",
      " 1   dim_pa_id                555951 non-null   float64\n",
      " 2   dim_date_id              1335576 non-null  int64  \n",
      " 3   bin                      1335576 non-null  int64  \n",
      " 4   drug                     1335576 non-null  object \n",
      " 5   reject_code              555951 non-null   float64\n",
      " 6   pharmacy_claim_approved  1335576 non-null  int64  \n",
      " 7   date_val                 1335576 non-null  object \n",
      " 8   calendar_year            1335576 non-null  int64  \n",
      " 9   calendar_month           1335576 non-null  int64  \n",
      " 10  calendar_day             1335576 non-null  int64  \n",
      " 11  day_of_week              1335576 non-null  int64  \n",
      " 12  is_weekday               1335576 non-null  int64  \n",
      " 13  is_workday               1335576 non-null  int64  \n",
      " 14  is_holiday               1335576 non-null  int64  \n",
      " 15  correct_diagnosis        555951 non-null   float64\n",
      " 16  tried_and_failed         555951 non-null   float64\n",
      " 17  contraindication         555951 non-null   float64\n",
      " 18  pa_approved              555951 non-null   float64\n",
      "dtypes: float64(6), int64(11), object(2)\n",
      "memory usage: 203.8+ MB\n"
     ]
    }
   ],
   "source": [
    "df.info()"
   ]
  },
  {
   "cell_type": "markdown",
   "metadata": {},
   "source": [
    "#### Get the list of Companies"
   ]
  },
  {
   "cell_type": "code",
   "execution_count": 22,
   "metadata": {},
   "outputs": [
    {
     "data": {
      "text/plain": [
       "['417380', '999001', '417740', '417614']"
      ]
     },
     "execution_count": 22,
     "metadata": {},
     "output_type": "execute_result"
    }
   ],
   "source": [
    "Companies = []\n",
    "for i in range(len(df.bin.unique())):\n",
    "    Companies.append(str(df.bin.unique()[i]))\n",
    "Companies"
   ]
  },
  {
   "cell_type": "markdown",
   "metadata": {},
   "source": [
    "#### Get the list of Drugs"
   ]
  },
  {
   "cell_type": "code",
   "execution_count": 23,
   "metadata": {},
   "outputs": [
    {
     "data": {
      "text/plain": [
       "['A', 'B', 'C']"
      ]
     },
     "execution_count": 23,
     "metadata": {},
     "output_type": "execute_result"
    }
   ],
   "source": [
    "Drugs = []\n",
    "for i in range(len(df.drug.unique())):\n",
    "    Drugs.append(df.drug.unique()[i])\n",
    "Drugs"
   ]
  },
  {
   "cell_type": "markdown",
   "metadata": {},
   "source": [
    "#### Get the list of Rejection Codes."
   ]
  },
  {
   "cell_type": "code",
   "execution_count": 24,
   "metadata": {},
   "outputs": [
    {
     "data": {
      "text/plain": [
       "[75.0, 76.0, 70.0]"
      ]
     },
     "execution_count": 24,
     "metadata": {},
     "output_type": "execute_result"
    }
   ],
   "source": [
    "Rej_Codes = []\n",
    "for i in range(len(df.reject_code.unique())):\n",
    "    Rej_Codes.append(df.reject_code.unique()[i])\n",
    "Rej_Codes = list(filter(lambda x: str(x) != 'nan', Rej_Codes))\n",
    "Rej_Codes"
   ]
  },
  {
   "cell_type": "markdown",
   "metadata": {},
   "source": [
    "#### Get the Years"
   ]
  },
  {
   "cell_type": "code",
   "execution_count": 25,
   "metadata": {},
   "outputs": [
    {
     "data": {
      "text/plain": [
       "[2017, 2018, 2019]"
      ]
     },
     "execution_count": 25,
     "metadata": {},
     "output_type": "execute_result"
    }
   ],
   "source": [
    "Years = []\n",
    "for i in range(len(df.calendar_year.unique())):\n",
    "    Years.append(df.calendar_year.unique()[i])\n",
    "Years"
   ]
  },
  {
   "cell_type": "markdown",
   "metadata": {},
   "source": [
    "## Graphs"
   ]
  },
  {
   "cell_type": "markdown",
   "metadata": {},
   "source": [
    "#### Graph the claim approval rates for each drug."
   ]
  },
  {
   "cell_type": "code",
   "execution_count": 26,
   "metadata": {},
   "outputs": [
    {
     "data": {
      "text/plain": [
       "[0.58, 0.55, 0.64]"
      ]
     },
     "execution_count": 26,
     "metadata": {},
     "output_type": "execute_result"
    }
   ],
   "source": [
    "App_Rate_Drugs = []\n",
    "for i in range(len(Drugs)):\n",
    "    app = df[(df.drug==Drugs[i])]['pharmacy_claim_approved'].sum()\n",
    "    tot = df[(df.drug==Drugs[i])]['pharmacy_claim_approved'].count()\n",
    "    rate = round(app/tot,2)\n",
    "    App_Rate_Drugs.append(rate)\n",
    "App_Rate_Drugs"
   ]
  },
  {
   "cell_type": "code",
   "execution_count": 27,
   "metadata": {},
   "outputs": [
    {
     "data": {
      "image/png": "[encoded data removed]",
      "text/plain": [
       "<Figure size 432x288 with 1 Axes>"
      ]
     },
     "metadata": {},
     "output_type": "display_data"
    }
   ],
   "source": [
    "plt.bar(Drugs, App_Rate_Drugs)\n",
    "plt.show()"
   ]
  },
  {
   "cell_type": "markdown",
   "metadata": {},
   "source": [
    "#### Graph the approval rates for each insurance company."
   ]
  },
  {
   "cell_type": "code",
   "execution_count": 28,
   "metadata": {},
   "outputs": [
    {
     "data": {
      "text/plain": [
       "[0.23, 0.9, 0.46, 0.21]"
      ]
     },
     "execution_count": 28,
     "metadata": {},
     "output_type": "execute_result"
    }
   ],
   "source": [
    "App_Rate_Companies = []\n",
    "for i in range(len(Companies)):\n",
    "    app = df[(df.bin==int(Companies[i]))]['pharmacy_claim_approved'].sum()\n",
    "    tot = df[(df.bin==int(Companies[i]))]['pharmacy_claim_approved'].count()\n",
    "    rate = round(app/tot,2)\n",
    "    App_Rate_Companies.append(rate)\n",
    "App_Rate_Companies"
   ]
  },
  {
   "cell_type": "code",
   "execution_count": 29,
   "metadata": {},
   "outputs": [
    {
     "data": {
      "image/png": "[encoded data removed]",
      "text/plain": [
       "<Figure size 432x288 with 1 Axes>"
      ]
     },
     "metadata": {},
     "output_type": "display_data"
    }
   ],
   "source": [
    "plt.bar(Companies, App_Rate_Companies)\n",
    "plt.show()"
   ]
  },
  {
   "cell_type": "markdown",
   "metadata": {},
   "source": [
    "#### Get the pa approval rates for each diagnosis status."
   ]
  },
  {
   "cell_type": "markdown",
   "metadata": {},
   "source": [
    "#### Get the list of diagnosis status."
   ]
  },
  {
   "cell_type": "code",
   "execution_count": 30,
   "metadata": {},
   "outputs": [
    {
     "data": {
      "text/plain": [
       "['1.0', '0.0']"
      ]
     },
     "execution_count": 30,
     "metadata": {},
     "output_type": "execute_result"
    }
   ],
   "source": [
    "Diag_Statuses = []\n",
    "for i in range(len(df.correct_diagnosis.unique())):\n",
    "    Diag_Statuses.append(str(df.correct_diagnosis.unique()[i]))\n",
    "Diag_Statuses = list(filter(lambda x: str(x) != 'nan', Diag_Statuses))\n",
    "Diag_Statuses"
   ]
  },
  {
   "cell_type": "code",
   "execution_count": 31,
   "metadata": {},
   "outputs": [
    {
     "data": {
      "text/plain": [
       "[0.74, 0.7]"
      ]
     },
     "execution_count": 31,
     "metadata": {},
     "output_type": "execute_result"
    }
   ],
   "source": [
    "App_Rate_Diags = []\n",
    "for i in range(len(Diag_Statuses)):\n",
    "    app = df[(df.correct_diagnosis==float(Diag_Statuses[i]))]['pa_approved'].sum()\n",
    "    tot = df[(df.correct_diagnosis==float(Diag_Statuses[i]))]['pa_approved'].count()\n",
    "    rate = round(app/tot,2)\n",
    "    App_Rate_Diags.append(rate)\n",
    "App_Rate_Diags"
   ]
  },
  {
   "cell_type": "code",
   "execution_count": 32,
   "metadata": {},
   "outputs": [
    {
     "data": {
      "image/png": "[encoded data removed]",
      "text/plain": [
       "<Figure size 432x288 with 1 Axes>"
      ]
     },
     "metadata": {},
     "output_type": "display_data"
    }
   ],
   "source": [
    "plt.bar(Diag_Statuses, App_Rate_Diags)\n",
    "plt.show()"
   ]
  },
  {
   "cell_type": "markdown",
   "metadata": {},
   "source": [
    "#### Get the pa approval rate for each tried_and_failed status."
   ]
  },
  {
   "cell_type": "markdown",
   "metadata": {},
   "source": [
    "#### Get the list of tried and failed status."
   ]
  },
  {
   "cell_type": "code",
   "execution_count": 33,
   "metadata": {},
   "outputs": [
    {
     "data": {
      "text/plain": [
       "['1.0', '0.0']"
      ]
     },
     "execution_count": 33,
     "metadata": {},
     "output_type": "execute_result"
    }
   ],
   "source": [
    "TF_Statuses = []\n",
    "for i in range(len(df.tried_and_failed.unique())):\n",
    "    TF_Statuses.append(str(df.tried_and_failed.unique()[i]))\n",
    "TF_Statuses = list(filter(lambda x: str(x) != 'nan', TF_Statuses))\n",
    "TF_Statuses"
   ]
  },
  {
   "cell_type": "code",
   "execution_count": 34,
   "metadata": {},
   "outputs": [],
   "source": [
    "test = df_pa.groupby('tried_and_failed')[\"pa_approved\"].sum()/df_pa.tried_and_failed.value_counts()\n",
    "test = test.to_numpy()"
   ]
  },
  {
   "cell_type": "code",
   "execution_count": 35,
   "metadata": {},
   "outputs": [
    {
     "data": {
      "image/png": "[encoded data removed]",
      "text/plain": [
       "<Figure size 432x288 with 1 Axes>"
      ]
     },
     "metadata": {},
     "output_type": "display_data"
    }
   ],
   "source": [
    "plt.bar(TF_Statuses, test)\n",
    "plt.show()"
   ]
  },
  {
   "cell_type": "markdown",
   "metadata": {},
   "source": [
    "#### Get the pa approval rate for each contraindiction status."
   ]
  },
  {
   "cell_type": "code",
   "execution_count": 36,
   "metadata": {},
   "outputs": [
    {
     "data": {
      "text/plain": [
       "['0.0', '1.0']"
      ]
     },
     "execution_count": 36,
     "metadata": {},
     "output_type": "execute_result"
    }
   ],
   "source": [
    "Contra_Statuses = []\n",
    "for i in range(len(df.contraindication.unique())):\n",
    "    Contra_Statuses.append(str(df.contraindication.unique()[i]))\n",
    "Contra_Statuses = list(filter(lambda x: str(x) != 'nan', Contra_Statuses))\n",
    "Contra_Statuses"
   ]
  },
  {
   "cell_type": "code",
   "execution_count": 37,
   "metadata": {},
   "outputs": [],
   "source": [
    "test = df_pa.groupby('contraindication')[\"pa_approved\"].sum()/df_pa.contraindication.value_counts()\n",
    "test = test.to_numpy()"
   ]
  },
  {
   "cell_type": "code",
   "execution_count": 38,
   "metadata": {},
   "outputs": [
    {
     "data": {
      "image/png": "[encoded data removed]",
      "text/plain": [
       "<Figure size 432x288 with 1 Axes>"
      ]
     },
     "metadata": {},
     "output_type": "display_data"
    }
   ],
   "source": [
    "plt.bar(Contra_Statuses, test)\n",
    "plt.show()"
   ]
  },
  {
   "cell_type": "markdown",
   "metadata": {},
   "source": [
    "#### Get the pa approval rates for each rejection code. We need to join the claim table and the pa table."
   ]
  },
  {
   "cell_type": "code",
   "execution_count": 39,
   "metadata": {},
   "outputs": [],
   "source": [
    "result1 = pd.merge(df_bridge, df_claims, how=\"inner\", on=[\"dim_claim_id\"])"
   ]
  },
  {
   "cell_type": "code",
   "execution_count": 40,
   "metadata": {},
   "outputs": [
    {
     "data": {
      "text/html": [
       "<div>\n",
       "<style scoped>\n",
       "    .dataframe tbody tr th:only-of-type {\n",
       "        vertical-align: middle;\n",
       "    }\n",
       "\n",
       "    .dataframe tbody tr th {\n",
       "        vertical-align: top;\n",
       "    }\n",
       "\n",
       "    .dataframe thead th {\n",
       "        text-align: right;\n",
       "    }\n",
       "</style>\n",
       "<table border=\"1\" class=\"dataframe\">\n",
       "  <thead>\n",
       "    <tr style=\"text-align: right;\">\n",
       "      <th></th>\n",
       "      <th>dim_claim_id</th>\n",
       "      <th>dim_pa_id</th>\n",
       "      <th>dim_date_id</th>\n",
       "      <th>bin</th>\n",
       "      <th>drug</th>\n",
       "      <th>reject_code</th>\n",
       "      <th>pharmacy_claim_approved</th>\n",
       "    </tr>\n",
       "  </thead>\n",
       "  <tbody>\n",
       "    <tr>\n",
       "      <th>0</th>\n",
       "      <td>1</td>\n",
       "      <td>1.0</td>\n",
       "      <td>1</td>\n",
       "      <td>417380</td>\n",
       "      <td>A</td>\n",
       "      <td>75.0</td>\n",
       "      <td>0</td>\n",
       "    </tr>\n",
       "    <tr>\n",
       "      <th>1</th>\n",
       "      <td>2</td>\n",
       "      <td>NaN</td>\n",
       "      <td>1</td>\n",
       "      <td>999001</td>\n",
       "      <td>A</td>\n",
       "      <td>NaN</td>\n",
       "      <td>1</td>\n",
       "    </tr>\n",
       "    <tr>\n",
       "      <th>2</th>\n",
       "      <td>3</td>\n",
       "      <td>2.0</td>\n",
       "      <td>1</td>\n",
       "      <td>417740</td>\n",
       "      <td>A</td>\n",
       "      <td>76.0</td>\n",
       "      <td>0</td>\n",
       "    </tr>\n",
       "    <tr>\n",
       "      <th>3</th>\n",
       "      <td>4</td>\n",
       "      <td>NaN</td>\n",
       "      <td>1</td>\n",
       "      <td>999001</td>\n",
       "      <td>A</td>\n",
       "      <td>NaN</td>\n",
       "      <td>1</td>\n",
       "    </tr>\n",
       "    <tr>\n",
       "      <th>4</th>\n",
       "      <td>5</td>\n",
       "      <td>NaN</td>\n",
       "      <td>1</td>\n",
       "      <td>417740</td>\n",
       "      <td>A</td>\n",
       "      <td>NaN</td>\n",
       "      <td>1</td>\n",
       "    </tr>\n",
       "  </tbody>\n",
       "</table>\n",
       "</div>"
      ],
      "text/plain": [
       "   dim_claim_id  dim_pa_id  dim_date_id     bin drug  reject_code  \\\n",
       "0             1        1.0            1  417380    A         75.0   \n",
       "1             2        NaN            1  999001    A          NaN   \n",
       "2             3        2.0            1  417740    A         76.0   \n",
       "3             4        NaN            1  999001    A          NaN   \n",
       "4             5        NaN            1  417740    A          NaN   \n",
       "\n",
       "   pharmacy_claim_approved  \n",
       "0                        0  \n",
       "1                        1  \n",
       "2                        0  \n",
       "3                        1  \n",
       "4                        1  "
      ]
     },
     "execution_count": 40,
     "metadata": {},
     "output_type": "execute_result"
    }
   ],
   "source": [
    "result1.head()"
   ]
  },
  {
   "cell_type": "code",
   "execution_count": 41,
   "metadata": {},
   "outputs": [],
   "source": [
    "result2 = pd.merge(df_pa,result1,how=\"left\", on=[\"dim_pa_id\"])"
   ]
  },
  {
   "cell_type": "code",
   "execution_count": 42,
   "metadata": {},
   "outputs": [
    {
     "data": {
      "text/html": [
       "<div>\n",
       "<style scoped>\n",
       "    .dataframe tbody tr th:only-of-type {\n",
       "        vertical-align: middle;\n",
       "    }\n",
       "\n",
       "    .dataframe tbody tr th {\n",
       "        vertical-align: top;\n",
       "    }\n",
       "\n",
       "    .dataframe thead th {\n",
       "        text-align: right;\n",
       "    }\n",
       "</style>\n",
       "<table border=\"1\" class=\"dataframe\">\n",
       "  <thead>\n",
       "    <tr style=\"text-align: right;\">\n",
       "      <th></th>\n",
       "      <th>dim_pa_id</th>\n",
       "      <th>correct_diagnosis</th>\n",
       "      <th>tried_and_failed</th>\n",
       "      <th>contraindication</th>\n",
       "      <th>pa_approved</th>\n",
       "      <th>dim_claim_id</th>\n",
       "      <th>dim_date_id</th>\n",
       "      <th>bin</th>\n",
       "      <th>drug</th>\n",
       "      <th>reject_code</th>\n",
       "      <th>pharmacy_claim_approved</th>\n",
       "    </tr>\n",
       "  </thead>\n",
       "  <tbody>\n",
       "    <tr>\n",
       "      <th>0</th>\n",
       "      <td>1</td>\n",
       "      <td>1</td>\n",
       "      <td>1</td>\n",
       "      <td>0</td>\n",
       "      <td>1</td>\n",
       "      <td>1</td>\n",
       "      <td>1</td>\n",
       "      <td>417380</td>\n",
       "      <td>A</td>\n",
       "      <td>75.0</td>\n",
       "      <td>0</td>\n",
       "    </tr>\n",
       "    <tr>\n",
       "      <th>1</th>\n",
       "      <td>2</td>\n",
       "      <td>1</td>\n",
       "      <td>0</td>\n",
       "      <td>0</td>\n",
       "      <td>1</td>\n",
       "      <td>3</td>\n",
       "      <td>1</td>\n",
       "      <td>417740</td>\n",
       "      <td>A</td>\n",
       "      <td>76.0</td>\n",
       "      <td>0</td>\n",
       "    </tr>\n",
       "    <tr>\n",
       "      <th>2</th>\n",
       "      <td>3</td>\n",
       "      <td>0</td>\n",
       "      <td>0</td>\n",
       "      <td>1</td>\n",
       "      <td>1</td>\n",
       "      <td>10</td>\n",
       "      <td>1</td>\n",
       "      <td>417380</td>\n",
       "      <td>A</td>\n",
       "      <td>75.0</td>\n",
       "      <td>0</td>\n",
       "    </tr>\n",
       "    <tr>\n",
       "      <th>3</th>\n",
       "      <td>4</td>\n",
       "      <td>1</td>\n",
       "      <td>1</td>\n",
       "      <td>0</td>\n",
       "      <td>1</td>\n",
       "      <td>11</td>\n",
       "      <td>1</td>\n",
       "      <td>999001</td>\n",
       "      <td>A</td>\n",
       "      <td>76.0</td>\n",
       "      <td>0</td>\n",
       "    </tr>\n",
       "    <tr>\n",
       "      <th>4</th>\n",
       "      <td>5</td>\n",
       "      <td>0</td>\n",
       "      <td>1</td>\n",
       "      <td>0</td>\n",
       "      <td>1</td>\n",
       "      <td>15</td>\n",
       "      <td>1</td>\n",
       "      <td>417614</td>\n",
       "      <td>A</td>\n",
       "      <td>70.0</td>\n",
       "      <td>0</td>\n",
       "    </tr>\n",
       "  </tbody>\n",
       "</table>\n",
       "</div>"
      ],
      "text/plain": [
       "   dim_pa_id  correct_diagnosis  tried_and_failed  contraindication  \\\n",
       "0          1                  1                 1                 0   \n",
       "1          2                  1                 0                 0   \n",
       "2          3                  0                 0                 1   \n",
       "3          4                  1                 1                 0   \n",
       "4          5                  0                 1                 0   \n",
       "\n",
       "   pa_approved  dim_claim_id  dim_date_id     bin drug  reject_code  \\\n",
       "0            1             1            1  417380    A         75.0   \n",
       "1            1             3            1  417740    A         76.0   \n",
       "2            1            10            1  417380    A         75.0   \n",
       "3            1            11            1  999001    A         76.0   \n",
       "4            1            15            1  417614    A         70.0   \n",
       "\n",
       "   pharmacy_claim_approved  \n",
       "0                        0  \n",
       "1                        0  \n",
       "2                        0  \n",
       "3                        0  \n",
       "4                        0  "
      ]
     },
     "execution_count": 42,
     "metadata": {},
     "output_type": "execute_result"
    }
   ],
   "source": [
    "result2.head()"
   ]
  },
  {
   "cell_type": "code",
   "execution_count": 43,
   "metadata": {},
   "outputs": [],
   "source": [
    "test = result2.groupby('reject_code')[\"pa_approved\"].sum()/result2.reject_code.value_counts()\n",
    "test = test.to_numpy()"
   ]
  },
  {
   "cell_type": "code",
   "execution_count": 44,
   "metadata": {},
   "outputs": [
    {
     "data": {
      "text/plain": [
       "70.0    252206\n",
       "75.0    217351\n",
       "76.0     86394\n",
       "Name: reject_code, dtype: int64"
      ]
     },
     "execution_count": 44,
     "metadata": {},
     "output_type": "execute_result"
    }
   ],
   "source": [
    "result2.reject_code.value_counts()"
   ]
  },
  {
   "cell_type": "code",
   "execution_count": 45,
   "metadata": {},
   "outputs": [
    {
     "data": {
      "image/png": "[encoded data removed]",
      "text/plain": [
       "<Figure size 432x288 with 1 Axes>"
      ]
     },
     "metadata": {},
     "output_type": "display_data"
    }
   ],
   "source": [
    "plt.bar(['70','75','76'], test)\n",
    "plt.show()"
   ]
  },
  {
   "cell_type": "markdown",
   "metadata": {},
   "source": [
    "#### Get the pa approval rate for each company"
   ]
  },
  {
   "cell_type": "code",
   "execution_count": 46,
   "metadata": {},
   "outputs": [],
   "source": [
    "test = result2.groupby('bin')[\"pa_approved\"].sum()/result2.bin.value_counts()\n",
    "test = test.to_numpy()"
   ]
  },
  {
   "cell_type": "code",
   "execution_count": 47,
   "metadata": {},
   "outputs": [
    {
     "data": {
      "text/plain": [
       "417614    242268\n",
       "417380    133579\n",
       "417740    116031\n",
       "999001     64073\n",
       "Name: bin, dtype: int64"
      ]
     },
     "execution_count": 47,
     "metadata": {},
     "output_type": "execute_result"
    }
   ],
   "source": [
    "result2.bin.value_counts()"
   ]
  },
  {
   "cell_type": "code",
   "execution_count": 48,
   "metadata": {},
   "outputs": [
    {
     "data": {
      "image/png": "[encoded data removed]",
      "text/plain": [
       "<Figure size 432x288 with 1 Axes>"
      ]
     },
     "metadata": {},
     "output_type": "display_data"
    }
   ],
   "source": [
    "plt.bar(Companies, test)\n",
    "plt.show()"
   ]
  },
  {
   "cell_type": "markdown",
   "metadata": {},
   "source": [
    "#### Get the pa approval rate for each drug"
   ]
  },
  {
   "cell_type": "code",
   "execution_count": 49,
   "metadata": {},
   "outputs": [],
   "source": [
    "test = result2.groupby('drug')[\"pa_approved\"].sum()/result2.drug.value_counts()\n",
    "test = test.to_numpy()"
   ]
  },
  {
   "cell_type": "code",
   "execution_count": 50,
   "metadata": {},
   "outputs": [
    {
     "data": {
      "text/plain": [
       "A    288292\n",
       "B    154512\n",
       "C    113147\n",
       "Name: drug, dtype: int64"
      ]
     },
     "execution_count": 50,
     "metadata": {},
     "output_type": "execute_result"
    }
   ],
   "source": [
    "result2.drug.value_counts()"
   ]
  },
  {
   "cell_type": "code",
   "execution_count": 51,
   "metadata": {},
   "outputs": [
    {
     "data": {
      "image/png": "[encoded data removed]",
      "text/plain": [
       "<Figure size 432x288 with 1 Axes>"
      ]
     },
     "metadata": {},
     "output_type": "display_data"
    }
   ],
   "source": [
    "plt.bar(Drugs, test)\n",
    "plt.show()"
   ]
  },
  {
   "cell_type": "markdown",
   "metadata": {},
   "source": [
    "## Times Series Graphs"
   ]
  },
  {
   "cell_type": "markdown",
   "metadata": {},
   "source": [
    "#### Variation of Claims Approval Rates over Time:"
   ]
  },
  {
   "cell_type": "code",
   "execution_count": 52,
   "metadata": {},
   "outputs": [],
   "source": [
    "Claims_rates = np.zeros((len(Companies),len(Drugs),len(Years)))"
   ]
  },
  {
   "cell_type": "code",
   "execution_count": 53,
   "metadata": {},
   "outputs": [],
   "source": [
    "for i in range(len(Companies)):\n",
    "    for j in range(len(Drugs)):\n",
    "        for k in range(len(Years)):\n",
    "            app = df_claims_ts[(df_claims_ts.bin == int(Companies[i])) & (df_claims_ts.drug==Drugs[j]) & (df_claims_ts.calendar_year == Years[k])]['pharmacy_claim_approved'].sum()\n",
    "            tot = df_claims_ts[(df_claims_ts.bin == int(Companies[i])) & (df_claims_ts.drug==Drugs[j]) & (df_claims_ts.calendar_year == Years[k])]['pharmacy_claim_approved'].count()\n",
    "            rate = round(app/tot,2)\n",
    "            Claims_rates[i][j][k] = rate"
   ]
  },
  {
   "cell_type": "code",
   "execution_count": 54,
   "metadata": {},
   "outputs": [
    {
     "data": {
      "text/plain": [
       "array([[[0. , 0. , 0. ],\n",
       "        [0.9, 0.9, 0.9],\n",
       "        [0. , 0. , 0. ]],\n",
       "\n",
       "       [[0.9, 0.9, 0.9],\n",
       "        [0.9, 0.9, 0.9],\n",
       "        [0.9, 0.9, 0.9]],\n",
       "\n",
       "       [[0.9, 0.9, 0.9],\n",
       "        [0. , 0. , 0. ],\n",
       "        [0. , 0. , 0. ]],\n",
       "\n",
       "       [[0. , 0. , 0. ],\n",
       "        [0. , 0. , 0. ],\n",
       "        [0.9, 0.9, 0.9]]])"
      ]
     },
     "execution_count": 54,
     "metadata": {},
     "output_type": "execute_result"
    }
   ],
   "source": [
    "Claims_rates"
   ]
  },
  {
   "cell_type": "markdown",
   "metadata": {},
   "source": [
    "##### It seems that the Pharmacy Claims policies for each insurance company and each insurance drug are the same over the years."
   ]
  },
  {
   "cell_type": "markdown",
   "metadata": {},
   "source": [
    "#### Let's plot some time series data of the claim approval rates over time. First, we convert date to date object."
   ]
  },
  {
   "cell_type": "code",
   "execution_count": 55,
   "metadata": {},
   "outputs": [],
   "source": [
    "df_claims_ts['date_val'] = pd.to_datetime(df_claims_ts['date_val'])"
   ]
  },
  {
   "cell_type": "markdown",
   "metadata": {},
   "source": [
    "#### Time Series in Years"
   ]
  },
  {
   "cell_type": "code",
   "execution_count": 56,
   "metadata": {},
   "outputs": [],
   "source": [
    "def claim_ts_y(company: int, drug: str, year: int):\n",
    "    df1 = df_claims_ts.loc[(df_claims_ts['bin']==company) & (df_claims_ts['drug']==drug)]\n",
    "    df2 = df1.loc[(df1['calendar_year']==year)]\n",
    "    df3 = df2[['date_val','pharmacy_claim_approved']]\n",
    "    df4 = df3.groupby(['date_val']).sum()\n",
    "    df4.rename(columns = {'pharmacy_claim_approved' : 'app'}, inplace = True)\n",
    "    df5 = df3.groupby(['date_val']).count()\n",
    "    df5.rename(columns = {'pharmacy_claim_approved' : 'tot'}, inplace = True)\n",
    "    df6 = df4.join(df5, how='outer')\n",
    "    df6['rate'] = df6['app']/df6['tot']\n",
    "    df7 = df6['rate']\n",
    "    plt.plot(df7)\n",
    "    plt.xlabel(\"Day\", fontsize=16)\n",
    "    plt.ylabel(\"Claim Approval Rate\", fontsize=16)\n",
    "    plt.show()"
   ]
  },
  {
   "cell_type": "code",
   "execution_count": 57,
   "metadata": {},
   "outputs": [
    {
     "data": {
      "image/png": "[encoded data removed]",
      "text/plain": [
       "<Figure size 432x288 with 1 Axes>"
      ]
     },
     "metadata": {},
     "output_type": "display_data"
    }
   ],
   "source": [
    "claim_ts_y(417740,'A',2017)"
   ]
  },
  {
   "cell_type": "markdown",
   "metadata": {},
   "source": [
    "#### Time Series in Months"
   ]
  },
  {
   "cell_type": "code",
   "execution_count": 58,
   "metadata": {},
   "outputs": [],
   "source": [
    "def claim_ts_y_m(company: int, drug: str, year: int,month:int):\n",
    "    df1 = df_claims_ts.loc[(df_claims_ts['bin']==company) & (df_claims_ts['drug']==drug)]\n",
    "    df2 = df1.loc[(df1['calendar_year']==year) & (df1['calendar_month']==month)]\n",
    "    df3 = df2[['date_val','pharmacy_claim_approved']]\n",
    "    df4 = df3.groupby(['date_val']).sum()\n",
    "    df4.rename(columns = {'pharmacy_claim_approved' : 'app'}, inplace = True)\n",
    "    df5 = df3.groupby(['date_val']).count()\n",
    "    df5.rename(columns = {'pharmacy_claim_approved' : 'tot'}, inplace = True)\n",
    "    df6 = df4.join(df5, how='outer')\n",
    "    df6['rate'] = df6['app']/df6['tot']\n",
    "    df7 = df6['rate']\n",
    "    plt.plot(df7)\n",
    "    plt.xlabel(\"Day\", fontsize=16)\n",
    "    plt.ylabel(\"Claim Approval Rate\", fontsize=16)\n",
    "    plt.show()"
   ]
  },
  {
   "cell_type": "code",
   "execution_count": 59,
   "metadata": {},
   "outputs": [
    {
     "data": {
      "image/png": "[encoded data removed]",
      "text/plain": [
       "<Figure size 432x288 with 1 Axes>"
      ]
     },
     "metadata": {},
     "output_type": "display_data"
    }
   ],
   "source": [
    "claim_ts_y_m(417740,'A',2017,1)"
   ]
  },
  {
   "cell_type": "markdown",
   "metadata": {},
   "source": [
    "#### Time Series on/off Workdays"
   ]
  },
  {
   "cell_type": "code",
   "execution_count": 60,
   "metadata": {},
   "outputs": [],
   "source": [
    "def claim_ts_y_m_w(company: int, drug: str, year: int,month:int,isworkday:int):\n",
    "    df1 = df_claims_ts.loc[(df_claims_ts['bin']==company) & (df_claims_ts['drug']==drug)]\n",
    "    df2 = df1.loc[(df1['calendar_year']==year) & (df1['calendar_month']==month) & (df1['is_workday']==isworkday)]\n",
    "    df3 = df2[['date_val','pharmacy_claim_approved']]\n",
    "    df4 = df3.groupby(['date_val']).sum()\n",
    "    df4.rename(columns = {'pharmacy_claim_approved' : 'app'}, inplace = True)\n",
    "    df5 = df3.groupby(['date_val']).count()\n",
    "    df5.rename(columns = {'pharmacy_claim_approved' : 'tot'}, inplace = True)\n",
    "    df6 = df4.join(df5, how='outer')\n",
    "    df6['rate'] = df6['app']/df6['tot']\n",
    "    df7 = df6['rate']\n",
    "    plt.plot(df7)\n",
    "    plt.xlabel(\"Day\", fontsize=16)\n",
    "    plt.ylabel(\"Claim Approval Rate\", fontsize=16)\n",
    "    plt.show()"
   ]
  },
  {
   "cell_type": "code",
   "execution_count": 61,
   "metadata": {},
   "outputs": [
    {
     "data": {
      "image/png": "[encoded data removed]",
      "text/plain": [
       "<Figure size 432x288 with 1 Axes>"
      ]
     },
     "metadata": {},
     "output_type": "display_data"
    }
   ],
   "source": [
    "claim_ts_y_m_w(417740,'A',2017,1,1)"
   ]
  },
  {
   "cell_type": "code",
   "execution_count": 62,
   "metadata": {},
   "outputs": [
    {
     "data": {
      "image/png": "[encoded data removed]",
      "text/plain": [
       "<Figure size 432x288 with 1 Axes>"
      ]
     },
     "metadata": {},
     "output_type": "display_data"
    }
   ],
   "source": [
    "claim_ts_y_m_w(417740,'A',2017,1,0)"
   ]
  },
  {
   "cell_type": "markdown",
   "metadata": {},
   "source": [
    "#### Variation of PA Approval Rates Over Time"
   ]
  },
  {
   "cell_type": "code",
   "execution_count": 63,
   "metadata": {},
   "outputs": [],
   "source": [
    "PA_rates = np.zeros((len(Companies),len(Drugs),len(Rej_Codes),len(Years)))"
   ]
  },
  {
   "cell_type": "code",
   "execution_count": 64,
   "metadata": {},
   "outputs": [],
   "source": [
    "for i in range(len(Companies)):\n",
    "    for j in range(len(Drugs)):\n",
    "        for k in range(len(Rej_Codes)):\n",
    "            for t in range(len(Years)):\n",
    "                app = df[(df.bin == int(Companies[i])) & (df.drug==Drugs[j]) & (df.reject_code==Rej_Codes[k]) & (df.calendar_year == Years[t])]['pa_approved'].sum()\n",
    "                tot = df[(df.bin == int(Companies[i])) & (df.drug==Drugs[j]) & (df.reject_code==Rej_Codes[k]) & (df.calendar_year == Years[t])]['pa_approved'].count()\n",
    "                if not tot:\n",
    "                    PA_rates[i][j][k][t]=-1\n",
    "                else:\n",
    "                    rate = round(app/tot,2)\n",
    "                    PA_rates[i][j][k][t] = rate"
   ]
  },
  {
   "cell_type": "code",
   "execution_count": 65,
   "metadata": {},
   "outputs": [
    {
     "data": {
      "text/plain": [
       "array([[[[ 0.99,  0.99,  0.99],\n",
       "         [-1.  , -1.  , -1.  ],\n",
       "         [-1.  , -1.  , -1.  ]],\n",
       "\n",
       "        [[-1.  , -1.  , -1.  ],\n",
       "         [ 0.9 ,  0.91,  0.91],\n",
       "         [-1.  , -1.  , -1.  ]],\n",
       "\n",
       "        [[-1.  , -1.  , -1.  ],\n",
       "         [-1.  , -1.  , -1.  ],\n",
       "         [ 0.33,  0.32,  0.33]]],\n",
       "\n",
       "\n",
       "       [[[-1.  , -1.  , -1.  ],\n",
       "         [ 0.96,  0.96,  0.96],\n",
       "         [-1.  , -1.  , -1.  ]],\n",
       "\n",
       "        [[-1.  , -1.  , -1.  ],\n",
       "         [ 0.93,  0.93,  0.94],\n",
       "         [-1.  , -1.  , -1.  ]],\n",
       "\n",
       "        [[-1.  , -1.  , -1.  ],\n",
       "         [ 0.76,  0.77,  0.75],\n",
       "         [-1.  , -1.  , -1.  ]]],\n",
       "\n",
       "\n",
       "       [[[-1.  , -1.  , -1.  ],\n",
       "         [ 0.9 ,  0.9 ,  0.9 ],\n",
       "         [-1.  , -1.  , -1.  ]],\n",
       "\n",
       "        [[-1.  , -1.  , -1.  ],\n",
       "         [-1.  , -1.  , -1.  ],\n",
       "         [ 0.39,  0.39,  0.39]],\n",
       "\n",
       "        [[ 0.83,  0.84,  0.83],\n",
       "         [-1.  , -1.  , -1.  ],\n",
       "         [-1.  , -1.  , -1.  ]]],\n",
       "\n",
       "\n",
       "       [[[-1.  , -1.  , -1.  ],\n",
       "         [-1.  , -1.  , -1.  ],\n",
       "         [ 0.58,  0.58,  0.59]],\n",
       "\n",
       "        [[ 0.97,  0.97,  0.97],\n",
       "         [-1.  , -1.  , -1.  ],\n",
       "         [-1.  , -1.  , -1.  ]],\n",
       "\n",
       "        [[-1.  , -1.  , -1.  ],\n",
       "         [ 0.65,  0.63,  0.64],\n",
       "         [-1.  , -1.  , -1.  ]]]])"
      ]
     },
     "execution_count": 65,
     "metadata": {},
     "output_type": "execute_result"
    }
   ],
   "source": [
    "PA_rates"
   ]
  },
  {
   "cell_type": "markdown",
   "metadata": {},
   "source": [
    "##### It seems that some companies change their pa approval policies over the years."
   ]
  },
  {
   "cell_type": "code",
   "execution_count": 66,
   "metadata": {},
   "outputs": [
    {
     "name": "stdout",
     "output_type": "stream",
     "text": [
      "<class 'pandas.core.frame.DataFrame'>\n",
      "Int64Index: 1335576 entries, 0 to 1335575\n",
      "Data columns (total 19 columns):\n",
      " #   Column                   Non-Null Count    Dtype  \n",
      "---  ------                   --------------    -----  \n",
      " 0   dim_claim_id             1335576 non-null  int64  \n",
      " 1   dim_pa_id                555951 non-null   float64\n",
      " 2   dim_date_id              1335576 non-null  int64  \n",
      " 3   bin                      1335576 non-null  int64  \n",
      " 4   drug                     1335576 non-null  object \n",
      " 5   reject_code              555951 non-null   float64\n",
      " 6   pharmacy_claim_approved  1335576 non-null  int64  \n",
      " 7   date_val                 1335576 non-null  object \n",
      " 8   calendar_year            1335576 non-null  int64  \n",
      " 9   calendar_month           1335576 non-null  int64  \n",
      " 10  calendar_day             1335576 non-null  int64  \n",
      " 11  day_of_week              1335576 non-null  int64  \n",
      " 12  is_weekday               1335576 non-null  int64  \n",
      " 13  is_workday               1335576 non-null  int64  \n",
      " 14  is_holiday               1335576 non-null  int64  \n",
      " 15  correct_diagnosis        555951 non-null   float64\n",
      " 16  tried_and_failed         555951 non-null   float64\n",
      " 17  contraindication         555951 non-null   float64\n",
      " 18  pa_approved              555951 non-null   float64\n",
      "dtypes: float64(6), int64(11), object(2)\n",
      "memory usage: 203.8+ MB\n"
     ]
    }
   ],
   "source": [
    "df.info()"
   ]
  },
  {
   "cell_type": "code",
   "execution_count": 67,
   "metadata": {},
   "outputs": [],
   "source": [
    "def pa_ts_y_m_w(company: int, drug: str, rejcode: float, year: int,month:int,isworkday:int):\n",
    "    df1 = df.loc[(df['bin']==company) & (df['drug']==drug) & (df['reject_code']==rejcode)]\n",
    "    df2 = df1.loc[(df1['calendar_year']==year) & (df1['calendar_month']==month) & (df1['is_workday']==isworkday)]\n",
    "    df3 = df2[['date_val','pharmacy_claim_approved']]\n",
    "    df4 = df3.groupby(['date_val']).sum()\n",
    "    df4.rename(columns = {'pharmacy_claim_approved' : 'app'}, inplace = True)\n",
    "    df5 = df3.groupby(['date_val']).count()\n",
    "    df5.rename(columns = {'pharmacy_claim_approved' : 'tot'}, inplace = True)\n",
    "    df6 = df4.join(df5, how='outer')\n",
    "    df6['rate'] = df6['app']/df6['tot']\n",
    "    df7 = df6['rate']\n",
    "    plt.plot(df7)\n",
    "    plt.xlabel(\"Day\", fontsize=16)\n",
    "    plt.ylabel(\"Claim Approval Rate\", fontsize=16)\n",
    "    plt.show()"
   ]
  },
  {
   "cell_type": "code",
   "execution_count": 68,
   "metadata": {},
   "outputs": [
    {
     "data": {
      "image/png": "[encoded data removed]",
      "text/plain": [
       "<Figure size 432x288 with 1 Axes>"
      ]
     },
     "metadata": {},
     "output_type": "display_data"
    }
   ],
   "source": [
    "pa_ts_y_m_w(417614,'B',70.0, 2017,10,0)"
   ]
  },
  {
   "cell_type": "code",
   "execution_count": 69,
   "metadata": {},
   "outputs": [],
   "source": [
    "def pa_ts_y_m(company: int, drug: str, rejcode: float, year: int,month:int):\n",
    "    df1 = df.loc[(df['bin']==company) & (df['drug']==drug) & (df['reject_code']==rejcode)]\n",
    "    df2 = df1.loc[(df1['calendar_year']==year) & (df1['calendar_month']==month)]\n",
    "    df3 = df2[['date_val','pharmacy_claim_approved']]\n",
    "    df4 = df3.groupby(['date_val']).sum()\n",
    "    df4.rename(columns = {'pharmacy_claim_approved' : 'app'}, inplace = True)\n",
    "    df5 = df3.groupby(['date_val']).count()\n",
    "    df5.rename(columns = {'pharmacy_claim_approved' : 'tot'}, inplace = True)\n",
    "    df6 = df4.join(df5, how='outer')\n",
    "    df6['rate'] = df6['app']/df6['tot']\n",
    "    df7 = df6['rate']\n",
    "    plt.plot(df7)\n",
    "    plt.xlabel(\"Day\", fontsize=16)\n",
    "    plt.ylabel(\"Claim Approval Rate\", fontsize=16)\n",
    "    plt.show()"
   ]
  },
  {
   "cell_type": "code",
   "execution_count": 70,
   "metadata": {},
   "outputs": [
    {
     "data": {
      "image/png": "[encoded data removed]",
      "text/plain": [
       "<Figure size 432x288 with 1 Axes>"
      ]
     },
     "metadata": {},
     "output_type": "display_data"
    }
   ],
   "source": [
    "pa_ts_y_m(417614,'C',76.0, 2017,10)"
   ]
  },
  {
   "cell_type": "code",
   "execution_count": 71,
   "metadata": {},
   "outputs": [
    {
     "data": {
      "image/png": "[encoded data removed]",
      "text/plain": [
       "<Figure size 432x288 with 1 Axes>"
      ]
     },
     "metadata": {},
     "output_type": "display_data"
    }
   ],
   "source": [
    "        df1 = df.loc[(df['bin']==417380) & (df['drug']=='A') & (df['reject_code']==75.0)]\n",
    "        df2 = df1.loc[(df1['calendar_year']==2017) & (df1['is_weekday']==1)]\n",
    "        df3 = df2[['date_val','pa_approved']]\n",
    "        df4 = df3.groupby(['date_val']).sum()\n",
    "        df4.rename(columns = {'pa_approved' : 'app'}, inplace = True)\n",
    "        df5 = df3.groupby(['date_val']).count()\n",
    "        df5.rename(columns = {'pa_approved' : 'tot'}, inplace = True)\n",
    "        df6 = df4.join(df5, how='outer')\n",
    "        df6['rate'] = df6['app']/df6['tot']\n",
    "        df7 = df6['rate']\n",
    "        plt.plot(df7)\n",
    "        plt.xlabel(\"Day\", fontsize=16)\n",
    "        plt.ylabel(\"PA Approval Rate\", fontsize=16)\n",
    "        plt.show()"
   ]
  },
  {
   "cell_type": "code",
   "execution_count": 72,
   "metadata": {},
   "outputs": [
    {
     "data": {
      "text/plain": [
       "<AxesSubplot:xlabel='calendar_year,calendar_month'>"
      ]
     },
     "execution_count": 72,
     "metadata": {},
     "output_type": "execute_result"
    },
    {
     "data": {
      "image/png": "[encoded data removed]",
      "text/plain": [
       "<Figure size 432x288 with 1 Axes>"
      ]
     },
     "metadata": {},
     "output_type": "display_data"
    }
   ],
   "source": [
    "        df3 = df[['dim_pa_id','calendar_year','calendar_month']]\n",
    "        df4 = df3.groupby(['calendar_year','calendar_month']).count()\n",
    "        df4.plot()"
   ]
  },
  {
   "cell_type": "markdown",
   "metadata": {},
   "source": [
    "#### Time Series Analysis Using XGBOOST"
   ]
  },
  {
   "cell_type": "code",
   "execution_count": 73,
   "metadata": {},
   "outputs": [
    {
     "data": {
      "text/html": [
       "<div>\n",
       "<style scoped>\n",
       "    .dataframe tbody tr th:only-of-type {\n",
       "        vertical-align: middle;\n",
       "    }\n",
       "\n",
       "    .dataframe tbody tr th {\n",
       "        vertical-align: top;\n",
       "    }\n",
       "\n",
       "    .dataframe thead th {\n",
       "        text-align: right;\n",
       "    }\n",
       "</style>\n",
       "<table border=\"1\" class=\"dataframe\">\n",
       "  <thead>\n",
       "    <tr style=\"text-align: right;\">\n",
       "      <th></th>\n",
       "      <th></th>\n",
       "      <th>dim_pa_id</th>\n",
       "    </tr>\n",
       "    <tr>\n",
       "      <th>calendar_year</th>\n",
       "      <th>calendar_month</th>\n",
       "      <th></th>\n",
       "    </tr>\n",
       "  </thead>\n",
       "  <tbody>\n",
       "    <tr>\n",
       "      <th rowspan=\"5\" valign=\"top\">2017</th>\n",
       "      <th>1</th>\n",
       "      <td>13766</td>\n",
       "    </tr>\n",
       "    <tr>\n",
       "      <th>2</th>\n",
       "      <td>12769</td>\n",
       "    </tr>\n",
       "    <tr>\n",
       "      <th>3</th>\n",
       "      <td>14694</td>\n",
       "    </tr>\n",
       "    <tr>\n",
       "      <th>4</th>\n",
       "      <td>12742</td>\n",
       "    </tr>\n",
       "    <tr>\n",
       "      <th>5</th>\n",
       "      <td>13717</td>\n",
       "    </tr>\n",
       "  </tbody>\n",
       "</table>\n",
       "</div>"
      ],
      "text/plain": [
       "                              dim_pa_id\n",
       "calendar_year calendar_month           \n",
       "2017          1                   13766\n",
       "              2                   12769\n",
       "              3                   14694\n",
       "              4                   12742\n",
       "              5                   13717"
      ]
     },
     "execution_count": 73,
     "metadata": {},
     "output_type": "execute_result"
    }
   ],
   "source": [
    "df4.head()"
   ]
  },
  {
   "cell_type": "code",
   "execution_count": 74,
   "metadata": {},
   "outputs": [
    {
     "name": "stdout",
     "output_type": "stream",
     "text": [
      "<class 'pandas.core.frame.DataFrame'>\n",
      "MultiIndex: 36 entries, (2017, 1) to (2019, 12)\n",
      "Data columns (total 1 columns):\n",
      " #   Column     Non-Null Count  Dtype\n",
      "---  ------     --------------  -----\n",
      " 0   dim_pa_id  36 non-null     int64\n",
      "dtypes: int64(1)\n",
      "memory usage: 605.0 bytes\n"
     ]
    }
   ],
   "source": [
    "df4.info()"
   ]
  },
  {
   "cell_type": "code",
   "execution_count": 82,
   "metadata": {},
   "outputs": [
    {
     "data": {
      "text/plain": [
       "[13766,\n",
       " 12769,\n",
       " 14694,\n",
       " 12742,\n",
       " 13717,\n",
       " 12613,\n",
       " 12730,\n",
       " 13419,\n",
       " 12668,\n",
       " 13734,\n",
       " 13418,\n",
       " 13168,\n",
       " 16066,\n",
       " 15554,\n",
       " 17201,\n",
       " 16014,\n",
       " 16290,\n",
       " 15419,\n",
       " 15286,\n",
       " 16579,\n",
       " 14937,\n",
       " 16222,\n",
       " 15226,\n",
       " 15217,\n",
       " 18195,\n",
       " 17563,\n",
       " 18937,\n",
       " 17611,\n",
       " 17413,\n",
       " 16080,\n",
       " 17286,\n",
       " 17837,\n",
       " 15756,\n",
       " 17560,\n",
       " 15626,\n",
       " 16638]"
      ]
     },
     "execution_count": 82,
     "metadata": {},
     "output_type": "execute_result"
    }
   ],
   "source": [
    "PA_Volume_M = []\n",
    "for i in range(len(df4['dim_pa_id'])):\n",
    "    PA_Volume_M.append(df4['dim_pa_id'].iloc[i])\n",
    "PA_Volume_M"
   ]
  },
  {
   "cell_type": "code",
   "execution_count": null,
   "metadata": {},
   "outputs": [],
   "source": []
  },
  {
   "cell_type": "code",
   "execution_count": 161,
   "metadata": {},
   "outputs": [
    {
     "data": {
      "text/html": [
       "<div>\n",
       "<style scoped>\n",
       "    .dataframe tbody tr th:only-of-type {\n",
       "        vertical-align: middle;\n",
       "    }\n",
       "\n",
       "    .dataframe tbody tr th {\n",
       "        vertical-align: top;\n",
       "    }\n",
       "\n",
       "    .dataframe thead th {\n",
       "        text-align: right;\n",
       "    }\n",
       "</style>\n",
       "<table border=\"1\" class=\"dataframe\">\n",
       "  <thead>\n",
       "    <tr style=\"text-align: right;\">\n",
       "      <th></th>\n",
       "      <th>PA_Volume_M</th>\n",
       "    </tr>\n",
       "  </thead>\n",
       "  <tbody>\n",
       "    <tr>\n",
       "      <th>0</th>\n",
       "      <td>13766</td>\n",
       "    </tr>\n",
       "    <tr>\n",
       "      <th>1</th>\n",
       "      <td>12769</td>\n",
       "    </tr>\n",
       "    <tr>\n",
       "      <th>2</th>\n",
       "      <td>14694</td>\n",
       "    </tr>\n",
       "    <tr>\n",
       "      <th>3</th>\n",
       "      <td>12742</td>\n",
       "    </tr>\n",
       "    <tr>\n",
       "      <th>4</th>\n",
       "      <td>13717</td>\n",
       "    </tr>\n",
       "  </tbody>\n",
       "</table>\n",
       "</div>"
      ],
      "text/plain": [
       "   PA_Volume_M\n",
       "0        13766\n",
       "1        12769\n",
       "2        14694\n",
       "3        12742\n",
       "4        13717"
      ]
     },
     "execution_count": 161,
     "metadata": {},
     "output_type": "execute_result"
    }
   ],
   "source": [
    "df_m = pd.DataFrame({\"PA_Volume_M\": PA_Volume_M})\n",
    "df_m.head()"
   ]
  },
  {
   "cell_type": "code",
   "execution_count": 162,
   "metadata": {},
   "outputs": [],
   "source": [
    "def PA_Volume_M_MAX_Lag(Max_Lag: int):\n",
    "    d = np.zeros((len(PA_Volume_M),Max_Lag))\n",
    "    for j in range(Max_Lag):\n",
    "        for i in range(len(PA_Volume_M)):\n",
    "            if i<=j:\n",
    "                d[i,j] = 0\n",
    "            else:\n",
    "                d[i,j] = PA_Volume_M[i-(j+1)]\n",
    "    return d"
   ]
  },
  {
   "cell_type": "code",
   "execution_count": 163,
   "metadata": {},
   "outputs": [],
   "source": [
    "def PA_Dataframe(Max_Lag: int):\n",
    "    for i in range(Max_Lag):\n",
    "        name = 'Lag' + str((i+1))\n",
    "        df_m[name] = PA_Volume_M_MAX_Lag(Max_Lag)[:,i]\n",
    "    return df_m"
   ]
  },
  {
   "cell_type": "code",
   "execution_count": 164,
   "metadata": {},
   "outputs": [
    {
     "data": {
      "text/html": [
       "<div>\n",
       "<style scoped>\n",
       "    .dataframe tbody tr th:only-of-type {\n",
       "        vertical-align: middle;\n",
       "    }\n",
       "\n",
       "    .dataframe tbody tr th {\n",
       "        vertical-align: top;\n",
       "    }\n",
       "\n",
       "    .dataframe thead th {\n",
       "        text-align: right;\n",
       "    }\n",
       "</style>\n",
       "<table border=\"1\" class=\"dataframe\">\n",
       "  <thead>\n",
       "    <tr style=\"text-align: right;\">\n",
       "      <th></th>\n",
       "      <th>PA_Volume_M</th>\n",
       "      <th>Lag1</th>\n",
       "      <th>Lag2</th>\n",
       "      <th>Lag3</th>\n",
       "      <th>Lag4</th>\n",
       "      <th>Lag5</th>\n",
       "      <th>Lag6</th>\n",
       "      <th>Lag7</th>\n",
       "      <th>Lag8</th>\n",
       "      <th>Lag9</th>\n",
       "      <th>Lag10</th>\n",
       "      <th>Lag11</th>\n",
       "      <th>Lag12</th>\n",
       "    </tr>\n",
       "  </thead>\n",
       "  <tbody>\n",
       "    <tr>\n",
       "      <th>31</th>\n",
       "      <td>17837</td>\n",
       "      <td>17286.0</td>\n",
       "      <td>16080.0</td>\n",
       "      <td>17413.0</td>\n",
       "      <td>17611.0</td>\n",
       "      <td>18937.0</td>\n",
       "      <td>17563.0</td>\n",
       "      <td>18195.0</td>\n",
       "      <td>15217.0</td>\n",
       "      <td>15226.0</td>\n",
       "      <td>16222.0</td>\n",
       "      <td>14937.0</td>\n",
       "      <td>16579.0</td>\n",
       "    </tr>\n",
       "    <tr>\n",
       "      <th>32</th>\n",
       "      <td>15756</td>\n",
       "      <td>17837.0</td>\n",
       "      <td>17286.0</td>\n",
       "      <td>16080.0</td>\n",
       "      <td>17413.0</td>\n",
       "      <td>17611.0</td>\n",
       "      <td>18937.0</td>\n",
       "      <td>17563.0</td>\n",
       "      <td>18195.0</td>\n",
       "      <td>15217.0</td>\n",
       "      <td>15226.0</td>\n",
       "      <td>16222.0</td>\n",
       "      <td>14937.0</td>\n",
       "    </tr>\n",
       "    <tr>\n",
       "      <th>33</th>\n",
       "      <td>17560</td>\n",
       "      <td>15756.0</td>\n",
       "      <td>17837.0</td>\n",
       "      <td>17286.0</td>\n",
       "      <td>16080.0</td>\n",
       "      <td>17413.0</td>\n",
       "      <td>17611.0</td>\n",
       "      <td>18937.0</td>\n",
       "      <td>17563.0</td>\n",
       "      <td>18195.0</td>\n",
       "      <td>15217.0</td>\n",
       "      <td>15226.0</td>\n",
       "      <td>16222.0</td>\n",
       "    </tr>\n",
       "    <tr>\n",
       "      <th>34</th>\n",
       "      <td>15626</td>\n",
       "      <td>17560.0</td>\n",
       "      <td>15756.0</td>\n",
       "      <td>17837.0</td>\n",
       "      <td>17286.0</td>\n",
       "      <td>16080.0</td>\n",
       "      <td>17413.0</td>\n",
       "      <td>17611.0</td>\n",
       "      <td>18937.0</td>\n",
       "      <td>17563.0</td>\n",
       "      <td>18195.0</td>\n",
       "      <td>15217.0</td>\n",
       "      <td>15226.0</td>\n",
       "    </tr>\n",
       "    <tr>\n",
       "      <th>35</th>\n",
       "      <td>16638</td>\n",
       "      <td>15626.0</td>\n",
       "      <td>17560.0</td>\n",
       "      <td>15756.0</td>\n",
       "      <td>17837.0</td>\n",
       "      <td>17286.0</td>\n",
       "      <td>16080.0</td>\n",
       "      <td>17413.0</td>\n",
       "      <td>17611.0</td>\n",
       "      <td>18937.0</td>\n",
       "      <td>17563.0</td>\n",
       "      <td>18195.0</td>\n",
       "      <td>15217.0</td>\n",
       "    </tr>\n",
       "  </tbody>\n",
       "</table>\n",
       "</div>"
      ],
      "text/plain": [
       "    PA_Volume_M     Lag1     Lag2     Lag3     Lag4     Lag5     Lag6  \\\n",
       "31        17837  17286.0  16080.0  17413.0  17611.0  18937.0  17563.0   \n",
       "32        15756  17837.0  17286.0  16080.0  17413.0  17611.0  18937.0   \n",
       "33        17560  15756.0  17837.0  17286.0  16080.0  17413.0  17611.0   \n",
       "34        15626  17560.0  15756.0  17837.0  17286.0  16080.0  17413.0   \n",
       "35        16638  15626.0  17560.0  15756.0  17837.0  17286.0  16080.0   \n",
       "\n",
       "       Lag7     Lag8     Lag9    Lag10    Lag11    Lag12  \n",
       "31  18195.0  15217.0  15226.0  16222.0  14937.0  16579.0  \n",
       "32  17563.0  18195.0  15217.0  15226.0  16222.0  14937.0  \n",
       "33  18937.0  17563.0  18195.0  15217.0  15226.0  16222.0  \n",
       "34  17611.0  18937.0  17563.0  18195.0  15217.0  15226.0  \n",
       "35  17413.0  17611.0  18937.0  17563.0  18195.0  15217.0  "
      ]
     },
     "execution_count": 164,
     "metadata": {},
     "output_type": "execute_result"
    }
   ],
   "source": [
    "df_m = PA_Dataframe(12)\n",
    "df_m.tail()"
   ]
  },
  {
   "cell_type": "code",
   "execution_count": 165,
   "metadata": {},
   "outputs": [],
   "source": [
    "X = df_m.iloc[12:,1:]\n",
    "X_train = X.iloc[0:17,:]\n",
    "X_test = X.iloc[18:,:]\n",
    "Y = df_m.iloc[12:,0]\n",
    "y_train = Y.iloc[0:17]\n",
    "y_test = Y.iloc[18:]"
   ]
  },
  {
   "cell_type": "code",
   "execution_count": 166,
   "metadata": {},
   "outputs": [
    {
     "name": "stdout",
     "output_type": "stream",
     "text": [
      "^C\n",
      "Note: you may need to restart the kernel to use updated packages.\n"
     ]
    }
   ],
   "source": [
    "pip install xgboost"
   ]
  },
  {
   "cell_type": "code",
   "execution_count": 168,
   "metadata": {
    "scrolled": false
   },
   "outputs": [
    {
     "name": "stdout",
     "output_type": "stream",
     "text": [
      "[0]\tvalidation_0-rmse:16338.94043\tvalidation_1-rmse:16649.88086\n",
      "[1]\tvalidation_0-rmse:16185.38672\tvalidation_1-rmse:16496.15039\n",
      "[2]\tvalidation_0-rmse:16033.29394\tvalidation_1-rmse:16343.87891\n",
      "[3]\tvalidation_0-rmse:15882.64356\tvalidation_1-rmse:16193.04785\n",
      "[4]\tvalidation_0-rmse:15733.42285\tvalidation_1-rmse:16043.64551\n",
      "[5]\tvalidation_0-rmse:15585.61914\tvalidation_1-rmse:15895.65820\n",
      "[6]\tvalidation_0-rmse:15439.21973\tvalidation_1-rmse:15749.07227\n",
      "[7]\tvalidation_0-rmse:15294.20996\tvalidation_1-rmse:15603.87500\n",
      "[8]\tvalidation_0-rmse:15150.57715\tvalidation_1-rmse:15460.05273\n",
      "[9]\tvalidation_0-rmse:15008.30762\tvalidation_1-rmse:15317.59277\n",
      "[10]\tvalidation_0-rmse:14867.39160\tvalidation_1-rmse:15176.48242\n",
      "[11]\tvalidation_0-rmse:14727.81250\tvalidation_1-rmse:15036.70801\n",
      "[12]\tvalidation_0-rmse:14589.56152\tvalidation_1-rmse:14898.25977\n",
      "[13]\tvalidation_0-rmse:14452.62305\tvalidation_1-rmse:14761.12207\n",
      "[14]\tvalidation_0-rmse:14316.98633\tvalidation_1-rmse:14625.28418\n",
      "[15]\tvalidation_0-rmse:14182.63769\tvalidation_1-rmse:14490.73340\n",
      "[16]\tvalidation_0-rmse:14049.56738\tvalidation_1-rmse:14357.45898\n",
      "[17]\tvalidation_0-rmse:13917.76269\tvalidation_1-rmse:14225.44629\n",
      "[18]\tvalidation_0-rmse:13787.20898\tvalidation_1-rmse:14094.68359\n",
      "[19]\tvalidation_0-rmse:13657.89941\tvalidation_1-rmse:13965.16211\n",
      "[20]\tvalidation_0-rmse:13529.81738\tvalidation_1-rmse:13836.86621\n",
      "[21]\tvalidation_0-rmse:13402.95508\tvalidation_1-rmse:13709.78906\n",
      "[22]\tvalidation_0-rmse:13277.29883\tvalidation_1-rmse:13583.91602\n",
      "[23]\tvalidation_0-rmse:13152.83789\tvalidation_1-rmse:13459.23535\n",
      "[24]\tvalidation_0-rmse:13029.56250\tvalidation_1-rmse:13335.73828\n",
      "[25]\tvalidation_0-rmse:12907.45898\tvalidation_1-rmse:13213.41113\n",
      "[26]\tvalidation_0-rmse:12786.51758\tvalidation_1-rmse:13092.24414\n",
      "[27]\tvalidation_0-rmse:12666.72852\tvalidation_1-rmse:12972.22461\n",
      "[28]\tvalidation_0-rmse:12548.08008\tvalidation_1-rmse:12853.34570\n",
      "[29]\tvalidation_0-rmse:12430.56152\tvalidation_1-rmse:12735.59375\n",
      "[30]\tvalidation_0-rmse:12314.16113\tvalidation_1-rmse:12618.95898\n",
      "[31]\tvalidation_0-rmse:12198.87109\tvalidation_1-rmse:12503.43164\n",
      "[32]\tvalidation_0-rmse:12084.67676\tvalidation_1-rmse:12388.99707\n",
      "[33]\tvalidation_0-rmse:11971.57227\tvalidation_1-rmse:12275.65039\n",
      "[34]\tvalidation_0-rmse:11859.54590\tvalidation_1-rmse:12163.37891\n",
      "[35]\tvalidation_0-rmse:11748.58691\tvalidation_1-rmse:12052.17285\n",
      "[36]\tvalidation_0-rmse:11638.68652\tvalidation_1-rmse:11942.02246\n",
      "[37]\tvalidation_0-rmse:11529.83398\tvalidation_1-rmse:11832.91699\n",
      "[38]\tvalidation_0-rmse:11422.01856\tvalidation_1-rmse:11724.84766\n",
      "[39]\tvalidation_0-rmse:11315.23242\tvalidation_1-rmse:11617.80371\n",
      "[40]\tvalidation_0-rmse:11209.46484\tvalidation_1-rmse:11511.77734\n",
      "[41]\tvalidation_0-rmse:11104.70703\tvalidation_1-rmse:11406.75684\n",
      "[42]\tvalidation_0-rmse:11000.94727\tvalidation_1-rmse:11302.73340\n",
      "[43]\tvalidation_0-rmse:10898.17969\tvalidation_1-rmse:11199.69727\n",
      "[44]\tvalidation_0-rmse:10796.39356\tvalidation_1-rmse:11097.64062\n",
      "[45]\tvalidation_0-rmse:10695.57812\tvalidation_1-rmse:10996.55371\n",
      "[46]\tvalidation_0-rmse:10595.72754\tvalidation_1-rmse:10896.42578\n",
      "[47]\tvalidation_0-rmse:10496.83008\tvalidation_1-rmse:10797.25000\n",
      "[48]\tvalidation_0-rmse:10398.87695\tvalidation_1-rmse:10699.01660\n",
      "[49]\tvalidation_0-rmse:10301.86035\tvalidation_1-rmse:10601.71680\n",
      "[50]\tvalidation_0-rmse:10205.77246\tvalidation_1-rmse:10505.34180\n",
      "[51]\tvalidation_0-rmse:10110.60254\tvalidation_1-rmse:10409.88184\n",
      "[52]\tvalidation_0-rmse:10016.34180\tvalidation_1-rmse:10315.32910\n",
      "[53]\tvalidation_0-rmse:9922.98340\tvalidation_1-rmse:10221.67578\n",
      "[54]\tvalidation_0-rmse:9830.51953\tvalidation_1-rmse:10128.91309\n",
      "[55]\tvalidation_0-rmse:9738.94043\tvalidation_1-rmse:10037.03223\n",
      "[56]\tvalidation_0-rmse:9648.23828\tvalidation_1-rmse:9946.02637\n",
      "[57]\tvalidation_0-rmse:9558.40430\tvalidation_1-rmse:9855.88477\n",
      "[58]\tvalidation_0-rmse:9469.43066\tvalidation_1-rmse:9766.60156\n",
      "[59]\tvalidation_0-rmse:9381.30859\tvalidation_1-rmse:9678.16699\n",
      "[60]\tvalidation_0-rmse:9294.03223\tvalidation_1-rmse:9590.57422\n",
      "[61]\tvalidation_0-rmse:9207.59375\tvalidation_1-rmse:9503.81543\n",
      "[62]\tvalidation_0-rmse:9121.98242\tvalidation_1-rmse:9417.88086\n",
      "[63]\tvalidation_0-rmse:9037.19336\tvalidation_1-rmse:9332.76562\n",
      "[64]\tvalidation_0-rmse:8953.21680\tvalidation_1-rmse:9248.46094\n",
      "[65]\tvalidation_0-rmse:8870.04688\tvalidation_1-rmse:9164.95898\n",
      "[66]\tvalidation_0-rmse:8787.67578\tvalidation_1-rmse:9082.25195\n",
      "[67]\tvalidation_0-rmse:8706.09570\tvalidation_1-rmse:9000.33203\n",
      "[68]\tvalidation_0-rmse:8625.29981\tvalidation_1-rmse:8919.19434\n",
      "[69]\tvalidation_0-rmse:8545.27930\tvalidation_1-rmse:8838.82715\n",
      "[70]\tvalidation_0-rmse:8466.02832\tvalidation_1-rmse:8759.22754\n",
      "[71]\tvalidation_0-rmse:8387.53809\tvalidation_1-rmse:8680.38574\n",
      "[72]\tvalidation_0-rmse:8309.80566\tvalidation_1-rmse:8602.29492\n",
      "[73]\tvalidation_0-rmse:8232.81934\tvalidation_1-rmse:8524.95019\n",
      "[74]\tvalidation_0-rmse:8156.57520\tvalidation_1-rmse:8448.34277\n",
      "[75]\tvalidation_0-rmse:8081.06397\tvalidation_1-rmse:8372.46484\n",
      "[76]\tvalidation_0-rmse:8006.28076\tvalidation_1-rmse:8297.31055\n",
      "[77]\tvalidation_0-rmse:7932.21875\tvalidation_1-rmse:8222.87500\n",
      "[78]\tvalidation_0-rmse:7858.87012\tvalidation_1-rmse:8149.14795\n",
      "[79]\tvalidation_0-rmse:7786.22852\tvalidation_1-rmse:8076.12500\n",
      "[80]\tvalidation_0-rmse:7714.28809\tvalidation_1-rmse:8003.79883\n",
      "[81]\tvalidation_0-rmse:7643.04199\tvalidation_1-rmse:7932.16357\n",
      "[82]\tvalidation_0-rmse:7572.48389\tvalidation_1-rmse:7861.21289\n",
      "[83]\tvalidation_0-rmse:7502.60742\tvalidation_1-rmse:7790.93897\n",
      "[84]\tvalidation_0-rmse:7433.40625\tvalidation_1-rmse:7721.33691\n",
      "[85]\tvalidation_0-rmse:7364.87402\tvalidation_1-rmse:7652.39990\n",
      "[86]\tvalidation_0-rmse:7297.00439\tvalidation_1-rmse:7584.12158\n",
      "[87]\tvalidation_0-rmse:7229.79150\tvalidation_1-rmse:7516.49561\n",
      "[88]\tvalidation_0-rmse:7163.22949\tvalidation_1-rmse:7449.51709\n",
      "[89]\tvalidation_0-rmse:7097.31250\tvalidation_1-rmse:7383.17871\n",
      "[90]\tvalidation_0-rmse:7032.03320\tvalidation_1-rmse:7317.47412\n",
      "[91]\tvalidation_0-rmse:6967.38672\tvalidation_1-rmse:7252.39844\n",
      "[92]\tvalidation_0-rmse:6903.36719\tvalidation_1-rmse:7187.94531\n",
      "[93]\tvalidation_0-rmse:6839.96973\tvalidation_1-rmse:7124.10986\n",
      "[94]\tvalidation_0-rmse:6777.18652\tvalidation_1-rmse:7060.88428\n",
      "[95]\tvalidation_0-rmse:6715.01318\tvalidation_1-rmse:6998.26465\n",
      "[96]\tvalidation_0-rmse:6653.44434\tvalidation_1-rmse:6936.24463\n",
      "[97]\tvalidation_0-rmse:6592.47461\tvalidation_1-rmse:6874.81982\n",
      "[98]\tvalidation_0-rmse:6532.09814\tvalidation_1-rmse:6813.98291\n",
      "[99]\tvalidation_0-rmse:6472.30908\tvalidation_1-rmse:6753.72949\n",
      "[100]\tvalidation_0-rmse:6413.10205\tvalidation_1-rmse:6694.05371\n",
      "[101]\tvalidation_0-rmse:6354.47168\tvalidation_1-rmse:6634.94971\n",
      "[102]\tvalidation_0-rmse:6296.41309\tvalidation_1-rmse:6576.41260\n",
      "[103]\tvalidation_0-rmse:6238.92041\tvalidation_1-rmse:6518.43701\n",
      "[104]\tvalidation_0-rmse:6181.98975\tvalidation_1-rmse:6461.01904\n",
      "[105]\tvalidation_0-rmse:6125.61475\tvalidation_1-rmse:6404.15137\n",
      "[106]\tvalidation_0-rmse:6069.79102\tvalidation_1-rmse:6347.83057\n",
      "[107]\tvalidation_0-rmse:6014.51221\tvalidation_1-rmse:6292.04980\n",
      "[108]\tvalidation_0-rmse:5959.77539\tvalidation_1-rmse:6236.80518\n",
      "[109]\tvalidation_0-rmse:5905.57373\tvalidation_1-rmse:6182.09180\n",
      "[110]\tvalidation_0-rmse:5851.90283\tvalidation_1-rmse:6127.90381\n",
      "[111]\tvalidation_0-rmse:5798.75928\tvalidation_1-rmse:6074.23828\n",
      "[112]\tvalidation_0-rmse:5746.13623\tvalidation_1-rmse:6021.08838\n",
      "[113]\tvalidation_0-rmse:5694.03027\tvalidation_1-rmse:5968.45020\n",
      "[114]\tvalidation_0-rmse:5642.43555\tvalidation_1-rmse:5916.31787\n",
      "[115]\tvalidation_0-rmse:5591.34863\tvalidation_1-rmse:5864.68799\n",
      "[116]\tvalidation_0-rmse:5540.76367\tvalidation_1-rmse:5813.55566\n",
      "[117]\tvalidation_0-rmse:5490.67725\tvalidation_1-rmse:5762.91553\n",
      "[118]\tvalidation_0-rmse:5441.08350\tvalidation_1-rmse:5712.76318\n",
      "[119]\tvalidation_0-rmse:5391.97949\tvalidation_1-rmse:5663.09522\n",
      "[120]\tvalidation_0-rmse:5343.36035\tvalidation_1-rmse:5613.90723\n",
      "[121]\tvalidation_0-rmse:5295.22070\tvalidation_1-rmse:5565.19238\n",
      "[122]\tvalidation_0-rmse:5247.55713\tvalidation_1-rmse:5516.94824\n",
      "[123]\tvalidation_0-rmse:5200.36523\tvalidation_1-rmse:5469.17041\n",
      "[124]\tvalidation_0-rmse:5153.64062\tvalidation_1-rmse:5421.85400\n",
      "[125]\tvalidation_0-rmse:5107.37891\tvalidation_1-rmse:5374.99414\n",
      "[126]\tvalidation_0-rmse:5061.57568\tvalidation_1-rmse:5328.58740\n",
      "[127]\tvalidation_0-rmse:5016.22705\tvalidation_1-rmse:5282.63037\n"
     ]
    },
    {
     "name": "stdout",
     "output_type": "stream",
     "text": [
      "[128]\tvalidation_0-rmse:4971.32861\tvalidation_1-rmse:5237.11719\n",
      "[129]\tvalidation_0-rmse:4926.87695\tvalidation_1-rmse:5192.04492\n",
      "[130]\tvalidation_0-rmse:4882.86719\tvalidation_1-rmse:5147.40869\n",
      "[131]\tvalidation_0-rmse:4839.29688\tvalidation_1-rmse:5103.20508\n",
      "[132]\tvalidation_0-rmse:4796.16016\tvalidation_1-rmse:5059.42920\n",
      "[133]\tvalidation_0-rmse:4753.45410\tvalidation_1-rmse:5016.07861\n",
      "[134]\tvalidation_0-rmse:4711.17432\tvalidation_1-rmse:4973.14795\n",
      "[135]\tvalidation_0-rmse:4669.31787\tvalidation_1-rmse:4930.63477\n",
      "[136]\tvalidation_0-rmse:4627.87988\tvalidation_1-rmse:4888.53369\n",
      "[137]\tvalidation_0-rmse:4586.85791\tvalidation_1-rmse:4846.84131\n",
      "[138]\tvalidation_0-rmse:4546.24658\tvalidation_1-rmse:4805.55420\n",
      "[139]\tvalidation_0-rmse:4506.04346\tvalidation_1-rmse:4764.66846\n",
      "[140]\tvalidation_0-rmse:4466.24414\tvalidation_1-rmse:4724.18066\n",
      "[141]\tvalidation_0-rmse:4426.84570\tvalidation_1-rmse:4684.08691\n",
      "[142]\tvalidation_0-rmse:4387.84326\tvalidation_1-rmse:4644.38281\n",
      "[143]\tvalidation_0-rmse:4349.23486\tvalidation_1-rmse:4605.06592\n",
      "[144]\tvalidation_0-rmse:4311.01611\tvalidation_1-rmse:4566.13232\n",
      "[145]\tvalidation_0-rmse:4273.18359\tvalidation_1-rmse:4527.57812\n",
      "[146]\tvalidation_0-rmse:4235.70850\tvalidation_1-rmse:4484.10840\n",
      "[147]\tvalidation_0-rmse:4198.58057\tvalidation_1-rmse:4441.04932\n",
      "[148]\tvalidation_0-rmse:4161.79736\tvalidation_1-rmse:4398.39795\n",
      "[149]\tvalidation_0-rmse:4125.35547\tvalidation_1-rmse:4356.14990\n",
      "[150]\tvalidation_0-rmse:4089.25171\tvalidation_1-rmse:4314.30176\n",
      "[151]\tvalidation_0-rmse:4053.48389\tvalidation_1-rmse:4272.85107\n",
      "[152]\tvalidation_0-rmse:4018.04858\tvalidation_1-rmse:4231.79443\n",
      "[153]\tvalidation_0-rmse:3982.95019\tvalidation_1-rmse:4196.05127\n",
      "[154]\tvalidation_0-rmse:3948.16797\tvalidation_1-rmse:4155.72266\n",
      "[155]\tvalidation_0-rmse:3913.71020\tvalidation_1-rmse:4115.77881\n",
      "[156]\tvalidation_0-rmse:3879.57324\tvalidation_1-rmse:4076.21484\n",
      "[157]\tvalidation_0-rmse:3845.75488\tvalidation_1-rmse:4037.02856\n",
      "[158]\tvalidation_0-rmse:3812.25146\tvalidation_1-rmse:3998.21606\n",
      "[159]\tvalidation_0-rmse:3779.06104\tvalidation_1-rmse:3959.77417\n",
      "[160]\tvalidation_0-rmse:3746.18018\tvalidation_1-rmse:3921.69971\n",
      "[161]\tvalidation_0-rmse:3713.60644\tvalidation_1-rmse:3883.98901\n",
      "[162]\tvalidation_0-rmse:3681.33740\tvalidation_1-rmse:3846.63965\n",
      "[163]\tvalidation_0-rmse:3649.36963\tvalidation_1-rmse:3809.64868\n",
      "[164]\tvalidation_0-rmse:3617.70190\tvalidation_1-rmse:3773.01269\n",
      "[165]\tvalidation_0-rmse:3586.33032\tvalidation_1-rmse:3736.72900\n",
      "[166]\tvalidation_0-rmse:3555.25293\tvalidation_1-rmse:3700.79443\n",
      "[167]\tvalidation_0-rmse:3524.46655\tvalidation_1-rmse:3665.20508\n",
      "[168]\tvalidation_0-rmse:3493.97559\tvalidation_1-rmse:3634.22681\n",
      "[169]\tvalidation_0-rmse:3463.76318\tvalidation_1-rmse:3599.28027\n",
      "[170]\tvalidation_0-rmse:3433.83398\tvalidation_1-rmse:3564.67090\n",
      "[171]\tvalidation_0-rmse:3404.16650\tvalidation_1-rmse:3527.26196\n",
      "[172]\tvalidation_0-rmse:3374.76587\tvalidation_1-rmse:3490.19922\n",
      "[173]\tvalidation_0-rmse:3345.62915\tvalidation_1-rmse:3453.47827\n",
      "[174]\tvalidation_0-rmse:3316.75439\tvalidation_1-rmse:3417.09741\n",
      "[175]\tvalidation_0-rmse:3288.14014\tvalidation_1-rmse:3384.05371\n",
      "[176]\tvalidation_0-rmse:3259.77759\tvalidation_1-rmse:3348.31714\n",
      "[177]\tvalidation_0-rmse:3231.66943\tvalidation_1-rmse:3312.91235\n",
      "[178]\tvalidation_0-rmse:3203.81519\tvalidation_1-rmse:3277.83862\n",
      "[179]\tvalidation_0-rmse:3176.21094\tvalidation_1-rmse:3243.09155\n",
      "[180]\tvalidation_0-rmse:3148.85498\tvalidation_1-rmse:3211.55395\n",
      "[181]\tvalidation_0-rmse:3121.74072\tvalidation_1-rmse:3177.42798\n",
      "[182]\tvalidation_0-rmse:3094.87085\tvalidation_1-rmse:3143.62256\n",
      "[183]\tvalidation_0-rmse:3068.24341\tvalidation_1-rmse:3110.13647\n",
      "[184]\tvalidation_0-rmse:3041.85840\tvalidation_1-rmse:3079.76831\n",
      "[185]\tvalidation_0-rmse:3015.70386\tvalidation_1-rmse:3046.88477\n",
      "[186]\tvalidation_0-rmse:2989.78516\tvalidation_1-rmse:3014.31348\n",
      "[187]\tvalidation_0-rmse:2964.10034\tvalidation_1-rmse:2982.05151\n",
      "[188]\tvalidation_0-rmse:2938.64673\tvalidation_1-rmse:2950.09644\n",
      "[189]\tvalidation_0-rmse:2913.42456\tvalidation_1-rmse:2921.13794\n",
      "[190]\tvalidation_0-rmse:2888.42456\tvalidation_1-rmse:2889.76611\n",
      "[191]\tvalidation_0-rmse:2863.65015\tvalidation_1-rmse:2858.69482\n",
      "[192]\tvalidation_0-rmse:2839.09937\tvalidation_1-rmse:2827.92310\n",
      "[193]\tvalidation_0-rmse:2814.77051\tvalidation_1-rmse:2797.44775\n",
      "[194]\tvalidation_0-rmse:2790.66089\tvalidation_1-rmse:2769.84937\n",
      "[195]\tvalidation_0-rmse:2766.76611\tvalidation_1-rmse:2739.93726\n",
      "[196]\tvalidation_0-rmse:2743.08667\tvalidation_1-rmse:2710.31543\n",
      "[197]\tvalidation_0-rmse:2719.62183\tvalidation_1-rmse:2680.98315\n",
      "[198]\tvalidation_0-rmse:2696.37109\tvalidation_1-rmse:2654.44189\n",
      "[199]\tvalidation_0-rmse:2673.32471\tvalidation_1-rmse:2625.65723\n",
      "[200]\tvalidation_0-rmse:2650.48755\tvalidation_1-rmse:2597.15698\n",
      "[201]\tvalidation_0-rmse:2627.85742\tvalidation_1-rmse:2568.93774\n",
      "[202]\tvalidation_0-rmse:2605.43213\tvalidation_1-rmse:2540.99902\n",
      "[203]\tvalidation_0-rmse:2583.20923\tvalidation_1-rmse:2515.73511\n",
      "[204]\tvalidation_0-rmse:2561.18530\tvalidation_1-rmse:2488.32715\n",
      "[205]\tvalidation_0-rmse:2539.36084\tvalidation_1-rmse:2461.19238\n",
      "[206]\tvalidation_0-rmse:2517.73462\tvalidation_1-rmse:2434.33154\n",
      "[207]\tvalidation_0-rmse:2496.30566\tvalidation_1-rmse:2410.06396\n",
      "[208]\tvalidation_0-rmse:2475.06689\tvalidation_1-rmse:2383.72070\n",
      "[209]\tvalidation_0-rmse:2454.02148\tvalidation_1-rmse:2357.64526\n",
      "[210]\tvalidation_0-rmse:2433.16675\tvalidation_1-rmse:2331.83618\n",
      "[211]\tvalidation_0-rmse:2412.50391\tvalidation_1-rmse:2308.53833\n",
      "[212]\tvalidation_0-rmse:2392.02393\tvalidation_1-rmse:2283.23486\n",
      "[213]\tvalidation_0-rmse:2371.73022\tvalidation_1-rmse:2258.19287\n",
      "[214]\tvalidation_0-rmse:2351.62158\tvalidation_1-rmse:2233.41138\n",
      "[215]\tvalidation_0-rmse:2331.69556\tvalidation_1-rmse:2208.88818\n",
      "[216]\tvalidation_0-rmse:2311.95166\tvalidation_1-rmse:2186.76807\n",
      "[217]\tvalidation_0-rmse:2292.38403\tvalidation_1-rmse:2162.73584\n",
      "[218]\tvalidation_0-rmse:2272.99561\tvalidation_1-rmse:2138.95874\n",
      "[219]\tvalidation_0-rmse:2253.78394\tvalidation_1-rmse:2115.43457\n",
      "[220]\tvalidation_0-rmse:2234.74878\tvalidation_1-rmse:2094.23364\n",
      "[221]\tvalidation_0-rmse:2215.88306\tvalidation_1-rmse:2071.18970\n",
      "[222]\tvalidation_0-rmse:2197.18994\tvalidation_1-rmse:2048.39502\n",
      "[223]\tvalidation_0-rmse:2178.66797\tvalidation_1-rmse:2025.84851\n",
      "[224]\tvalidation_0-rmse:2160.31714\tvalidation_1-rmse:2005.54700\n",
      "[225]\tvalidation_0-rmse:2142.12964\tvalidation_1-rmse:1983.47083\n",
      "[226]\tvalidation_0-rmse:2124.10840\tvalidation_1-rmse:1961.63879\n",
      "[227]\tvalidation_0-rmse:2106.25293\tvalidation_1-rmse:1940.05029\n",
      "[228]\tvalidation_0-rmse:2088.56348\tvalidation_1-rmse:1920.62842\n",
      "[229]\tvalidation_0-rmse:2071.03076\tvalidation_1-rmse:1899.50098\n",
      "[230]\tvalidation_0-rmse:2053.65918\tvalidation_1-rmse:1878.61316\n",
      "[231]\tvalidation_0-rmse:2036.44727\tvalidation_1-rmse:1857.96350\n",
      "[232]\tvalidation_0-rmse:2019.39368\tvalidation_1-rmse:1837.55139\n",
      "[233]\tvalidation_0-rmse:2002.49634\tvalidation_1-rmse:1819.20337\n",
      "[234]\tvalidation_0-rmse:1985.75244\tvalidation_1-rmse:1799.24268\n",
      "[235]\tvalidation_0-rmse:1969.16235\tvalidation_1-rmse:1779.51599\n",
      "[236]\tvalidation_0-rmse:1952.72583\tvalidation_1-rmse:1760.02271\n",
      "[237]\tvalidation_0-rmse:1936.44043\tvalidation_1-rmse:1742.51721\n",
      "[238]\tvalidation_0-rmse:1920.30273\tvalidation_1-rmse:1723.46753\n",
      "[239]\tvalidation_0-rmse:1904.31397\tvalidation_1-rmse:1704.64868\n",
      "[240]\tvalidation_0-rmse:1888.47363\tvalidation_1-rmse:1686.05994\n",
      "[241]\tvalidation_0-rmse:1872.77930\tvalidation_1-rmse:1669.38294\n",
      "[242]\tvalidation_0-rmse:1857.22778\tvalidation_1-rmse:1651.23035\n",
      "[243]\tvalidation_0-rmse:1841.81995\tvalidation_1-rmse:1633.30456\n",
      "[244]\tvalidation_0-rmse:1826.55530\tvalidation_1-rmse:1615.60571\n",
      "[245]\tvalidation_0-rmse:1811.43213\tvalidation_1-rmse:1599.74353\n",
      "[246]\tvalidation_0-rmse:1796.44665\tvalidation_1-rmse:1582.47473\n",
      "[247]\tvalidation_0-rmse:1781.60034\tvalidation_1-rmse:1565.42956\n",
      "[248]\tvalidation_0-rmse:1766.89270\tvalidation_1-rmse:1548.60876\n",
      "[249]\tvalidation_0-rmse:1752.32178\tvalidation_1-rmse:1533.54968\n",
      "[250]\tvalidation_0-rmse:1737.87976\tvalidation_1-rmse:1517.15259\n",
      "[251]\tvalidation_0-rmse:1723.57129\tvalidation_1-rmse:1500.97729\n",
      "[252]\tvalidation_0-rmse:1709.39490\tvalidation_1-rmse:1485.02234\n",
      "[253]\tvalidation_0-rmse:1695.34900\tvalidation_1-rmse:1469.28784\n",
      "[254]\tvalidation_0-rmse:1681.43494\tvalidation_1-rmse:1455.21936\n",
      "[255]\tvalidation_0-rmse:1667.64343\tvalidation_1-rmse:1439.90210\n",
      "[256]\tvalidation_0-rmse:1653.98010\tvalidation_1-rmse:1424.80359\n"
     ]
    },
    {
     "name": "stdout",
     "output_type": "stream",
     "text": [
      "[257]\tvalidation_0-rmse:1640.44397\tvalidation_1-rmse:1409.92261\n",
      "[258]\tvalidation_0-rmse:1627.03272\tvalidation_1-rmse:1395.25879\n",
      "[259]\tvalidation_0-rmse:1613.74805\tvalidation_1-rmse:1382.16553\n",
      "[260]\tvalidation_0-rmse:1600.58106\tvalidation_1-rmse:1367.91370\n",
      "[261]\tvalidation_0-rmse:1587.53711\tvalidation_1-rmse:1353.87756\n",
      "[262]\tvalidation_0-rmse:1574.61462\tvalidation_1-rmse:1340.05591\n",
      "[263]\tvalidation_0-rmse:1561.81213\tvalidation_1-rmse:1326.44861\n",
      "[264]\tvalidation_0-rmse:1549.13086\tvalidation_1-rmse:1314.31702\n",
      "[265]\tvalidation_0-rmse:1536.56274\tvalidation_1-rmse:1301.11609\n",
      "[266]\tvalidation_0-rmse:1524.11182\tvalidation_1-rmse:1288.12793\n",
      "[267]\tvalidation_0-rmse:1511.77759\tvalidation_1-rmse:1275.35205\n",
      "[268]\tvalidation_0-rmse:1499.55872\tvalidation_1-rmse:1262.78760\n",
      "[269]\tvalidation_0-rmse:1487.45666\tvalidation_1-rmse:1251.60437\n",
      "[270]\tvalidation_0-rmse:1475.46204\tvalidation_1-rmse:1239.44153\n",
      "[271]\tvalidation_0-rmse:1463.56824\tvalidation_1-rmse:1226.80566\n",
      "[272]\tvalidation_0-rmse:1451.78455\tvalidation_1-rmse:1214.34607\n",
      "[273]\tvalidation_0-rmse:1440.10986\tvalidation_1-rmse:1202.06189\n",
      "[274]\tvalidation_0-rmse:1428.54334\tvalidation_1-rmse:1189.95288\n",
      "[275]\tvalidation_0-rmse:1417.08948\tvalidation_1-rmse:1178.69544\n",
      "[276]\tvalidation_0-rmse:1405.73413\tvalidation_1-rmse:1166.93628\n",
      "[277]\tvalidation_0-rmse:1394.49158\tvalidation_1-rmse:1157.09534\n",
      "[278]\tvalidation_0-rmse:1383.34338\tvalidation_1-rmse:1145.66821\n",
      "[279]\tvalidation_0-rmse:1372.29626\tvalidation_1-rmse:1134.46753\n",
      "[280]\tvalidation_0-rmse:1361.34998\tvalidation_1-rmse:1123.44202\n",
      "[281]\tvalidation_0-rmse:1350.50415\tvalidation_1-rmse:1112.53455\n",
      "[282]\tvalidation_0-rmse:1339.75586\tvalidation_1-rmse:1101.85608\n",
      "[283]\tvalidation_0-rmse:1329.10608\tvalidation_1-rmse:1091.35169\n",
      "[284]\tvalidation_0-rmse:1318.55408\tvalidation_1-rmse:1081.02039\n",
      "[285]\tvalidation_0-rmse:1308.09924\tvalidation_1-rmse:1070.80127\n",
      "[286]\tvalidation_0-rmse:1297.74622\tvalidation_1-rmse:1061.49585\n",
      "[287]\tvalidation_0-rmse:1287.47937\tvalidation_1-rmse:1051.68384\n",
      "[288]\tvalidation_0-rmse:1277.30713\tvalidation_1-rmse:1042.04370\n",
      "[289]\tvalidation_0-rmse:1267.22827\tvalidation_1-rmse:1032.57483\n",
      "[290]\tvalidation_0-rmse:1257.24255\tvalidation_1-rmse:1023.27667\n",
      "[291]\tvalidation_0-rmse:1247.34875\tvalidation_1-rmse:1014.14917\n",
      "[292]\tvalidation_0-rmse:1237.54639\tvalidation_1-rmse:1005.11853\n",
      "[293]\tvalidation_0-rmse:1227.84192\tvalidation_1-rmse:997.81915\n",
      "[294]\tvalidation_0-rmse:1218.21790\tvalidation_1-rmse:989.18414\n",
      "[295]\tvalidation_0-rmse:1208.68298\tvalidation_1-rmse:980.71790\n",
      "[296]\tvalidation_0-rmse:1199.23682\tvalidation_1-rmse:972.41949\n",
      "[297]\tvalidation_0-rmse:1189.87720\tvalidation_1-rmse:964.28845\n",
      "[298]\tvalidation_0-rmse:1180.60413\tvalidation_1-rmse:956.32471\n",
      "[299]\tvalidation_0-rmse:1171.41650\tvalidation_1-rmse:948.52698\n",
      "[300]\tvalidation_0-rmse:1162.32019\tvalidation_1-rmse:941.62506\n",
      "[301]\tvalidation_0-rmse:1153.30090\tvalidation_1-rmse:934.16101\n",
      "[302]\tvalidation_0-rmse:1144.36487\tvalidation_1-rmse:926.86108\n",
      "[303]\tvalidation_0-rmse:1135.51074\tvalidation_1-rmse:919.72443\n",
      "[304]\tvalidation_0-rmse:1126.73865\tvalidation_1-rmse:912.75037\n",
      "[305]\tvalidation_0-rmse:1118.04785\tvalidation_1-rmse:905.93890\n",
      "[306]\tvalidation_0-rmse:1109.43665\tvalidation_1-rmse:899.28815\n",
      "[307]\tvalidation_0-rmse:1100.90601\tvalidation_1-rmse:892.79828\n",
      "[308]\tvalidation_0-rmse:1092.46582\tvalidation_1-rmse:887.21747\n",
      "[309]\tvalidation_0-rmse:1084.09253\tvalidation_1-rmse:881.04889\n",
      "[310]\tvalidation_0-rmse:1075.79724\tvalidation_1-rmse:875.03851\n",
      "[311]\tvalidation_0-rmse:1067.57971\tvalidation_1-rmse:869.18530\n",
      "[312]\tvalidation_0-rmse:1059.43823\tvalidation_1-rmse:863.48761\n",
      "[313]\tvalidation_0-rmse:1051.37244\tvalidation_1-rmse:857.94476\n",
      "[314]\tvalidation_0-rmse:1043.38245\tvalidation_1-rmse:852.55627\n",
      "[315]\tvalidation_0-rmse:1035.46765\tvalidation_1-rmse:847.32062\n",
      "[316]\tvalidation_0-rmse:1027.64185\tvalidation_1-rmse:842.99750\n",
      "[317]\tvalidation_0-rmse:1019.87378\tvalidation_1-rmse:838.06696\n",
      "[318]\tvalidation_0-rmse:1012.17920\tvalidation_1-rmse:833.28607\n",
      "[319]\tvalidation_0-rmse:1004.55750\tvalidation_1-rmse:828.65393\n",
      "[320]\tvalidation_0-rmse:997.00732\tvalidation_1-rmse:824.16858\n",
      "[321]\tvalidation_0-rmse:989.52881\tvalidation_1-rmse:819.82935\n",
      "[322]\tvalidation_0-rmse:982.12128\tvalidation_1-rmse:815.63440\n",
      "[323]\tvalidation_0-rmse:974.78345\tvalidation_1-rmse:811.58234\n",
      "[324]\tvalidation_0-rmse:967.53125\tvalidation_1-rmse:808.43366\n",
      "[325]\tvalidation_0-rmse:960.30823\tvalidation_1-rmse:806.19788\n",
      "[326]\tvalidation_0-rmse:953.14819\tvalidation_1-rmse:804.10895\n",
      "[327]\tvalidation_0-rmse:946.05054\tvalidation_1-rmse:802.16443\n",
      "[328]\tvalidation_0-rmse:939.01459\tvalidation_1-rmse:800.36188\n",
      "[329]\tvalidation_0-rmse:932.02673\tvalidation_1-rmse:799.10248\n",
      "[330]\tvalidation_0-rmse:925.09808\tvalidation_1-rmse:797.96258\n",
      "[331]\tvalidation_0-rmse:918.23718\tvalidation_1-rmse:796.54987\n",
      "[332]\tvalidation_0-rmse:911.42291\tvalidation_1-rmse:795.64697\n",
      "[333]\tvalidation_0-rmse:904.66663\tvalidation_1-rmse:794.85736\n",
      "[334]\tvalidation_0-rmse:897.97662\tvalidation_1-rmse:793.81683\n",
      "[335]\tvalidation_0-rmse:891.33185\tvalidation_1-rmse:793.25293\n",
      "[336]\tvalidation_0-rmse:884.74341\tvalidation_1-rmse:792.79639\n",
      "[337]\tvalidation_0-rmse:878.22009\tvalidation_1-rmse:793.10699\n",
      "[338]\tvalidation_0-rmse:871.74011\tvalidation_1-rmse:792.85352\n",
      "[339]\tvalidation_0-rmse:865.31512\tvalidation_1-rmse:792.70196\n",
      "[340]\tvalidation_0-rmse:858.95306\tvalidation_1-rmse:792.32959\n",
      "[341]\tvalidation_0-rmse:852.64728\tvalidation_1-rmse:792.99231\n",
      "[342]\tvalidation_0-rmse:846.38007\tvalidation_1-rmse:793.13110\n",
      "[343]\tvalidation_0-rmse:840.16577\tvalidation_1-rmse:793.36365\n",
      "[344]\tvalidation_0-rmse:834.00421\tvalidation_1-rmse:793.68762\n",
      "[345]\tvalidation_0-rmse:827.90515\tvalidation_1-rmse:794.66949\n",
      "[346]\tvalidation_0-rmse:821.84168\tvalidation_1-rmse:795.61438\n",
      "[347]\tvalidation_0-rmse:815.83081\tvalidation_1-rmse:796.19708\n",
      "[348]\tvalidation_0-rmse:809.87109\tvalidation_1-rmse:796.86316\n",
      "[349]\tvalidation_0-rmse:803.97107\tvalidation_1-rmse:798.13538\n",
      "[350]\tvalidation_0-rmse:798.10974\tvalidation_1-rmse:798.95685\n",
      "[351]\tvalidation_0-rmse:792.29846\tvalidation_1-rmse:799.85608\n",
      "[352]\tvalidation_0-rmse:786.53650\tvalidation_1-rmse:800.83093\n",
      "[353]\tvalidation_0-rmse:780.83087\tvalidation_1-rmse:802.36365\n",
      "[354]\tvalidation_0-rmse:775.14722\tvalidation_1-rmse:803.91095\n",
      "[355]\tvalidation_0-rmse:769.51031\tvalidation_1-rmse:805.53101\n",
      "[356]\tvalidation_0-rmse:763.91968\tvalidation_1-rmse:807.22125\n",
      "[357]\tvalidation_0-rmse:758.37512\tvalidation_1-rmse:808.97931\n",
      "[358]\tvalidation_0-rmse:752.89746\tvalidation_1-rmse:810.80090\n",
      "[359]\tvalidation_0-rmse:747.44220\tvalidation_1-rmse:812.67993\n",
      "[360]\tvalidation_0-rmse:742.03180\tvalidation_1-rmse:814.62097\n",
      "[361]\tvalidation_0-rmse:736.66583\tvalidation_1-rmse:816.62183\n",
      "[362]\tvalidation_0-rmse:731.36450\tvalidation_1-rmse:818.64307\n",
      "[363]\tvalidation_0-rmse:726.08490\tvalidation_1-rmse:820.74976\n",
      "[364]\tvalidation_0-rmse:720.84906\tvalidation_1-rmse:822.91089\n",
      "[365]\tvalidation_0-rmse:715.66895\tvalidation_1-rmse:824.69397\n",
      "[366]\tvalidation_0-rmse:710.54071\tvalidation_1-rmse:826.88898\n",
      "[367]\tvalidation_0-rmse:705.43073\tvalidation_1-rmse:829.19049\n",
      "[368]\tvalidation_0-rmse:700.36365\tvalidation_1-rmse:831.53888\n",
      "[369]\tvalidation_0-rmse:695.33826\tvalidation_1-rmse:833.93237\n",
      "[370]\tvalidation_0-rmse:690.37634\tvalidation_1-rmse:836.27820\n",
      "[371]\tvalidation_0-rmse:685.43188\tvalidation_1-rmse:838.75147\n",
      "[372]\tvalidation_0-rmse:680.52850\tvalidation_1-rmse:841.26526\n",
      "[373]\tvalidation_0-rmse:675.66589\tvalidation_1-rmse:843.81750\n",
      "[374]\tvalidation_0-rmse:670.84381\tvalidation_1-rmse:846.40698\n",
      "[375]\tvalidation_0-rmse:666.08136\tvalidation_1-rmse:848.91095\n",
      "[376]\tvalidation_0-rmse:661.33704\tvalidation_1-rmse:851.56500\n",
      "[377]\tvalidation_0-rmse:656.63208\tvalidation_1-rmse:854.25244\n",
      "[378]\tvalidation_0-rmse:651.96606\tvalidation_1-rmse:856.97113\n",
      "[379]\tvalidation_0-rmse:647.35791\tvalidation_1-rmse:859.57910\n",
      "[380]\tvalidation_0-rmse:642.76764\tvalidation_1-rmse:862.35175\n",
      "[381]\tvalidation_0-rmse:638.21606\tvalidation_1-rmse:865.15143\n",
      "[382]\tvalidation_0-rmse:633.70190\tvalidation_1-rmse:867.97754\n",
      "[383]\tvalidation_0-rmse:629.21936\tvalidation_1-rmse:870.40643\n",
      "[384]\tvalidation_0-rmse:624.79706\tvalidation_1-rmse:873.11981\n",
      "[385]\tvalidation_0-rmse:620.39221\tvalidation_1-rmse:876.01166\n",
      "[386]\tvalidation_0-rmse:616.02411\tvalidation_1-rmse:878.92505\n",
      "[387]\tvalidation_0-rmse:611.69202\tvalidation_1-rmse:881.85931\n"
     ]
    },
    {
     "name": "stdout",
     "output_type": "stream",
     "text": [
      "[388]\tvalidation_0-rmse:607.41315\tvalidation_1-rmse:884.63910\n",
      "[389]\tvalidation_0-rmse:603.15149\tvalidation_1-rmse:887.60693\n",
      "[390]\tvalidation_0-rmse:598.92578\tvalidation_1-rmse:890.59174\n",
      "[391]\tvalidation_0-rmse:594.73578\tvalidation_1-rmse:893.59235\n",
      "[392]\tvalidation_0-rmse:590.58075\tvalidation_1-rmse:896.60846\n",
      "[393]\tvalidation_0-rmse:586.47485\tvalidation_1-rmse:899.45099\n",
      "[394]\tvalidation_0-rmse:582.37427\tvalidation_1-rmse:902.09729\n",
      "[395]\tvalidation_0-rmse:578.32013\tvalidation_1-rmse:905.14941\n",
      "[396]\tvalidation_0-rmse:574.28656\tvalidation_1-rmse:907.82568\n",
      "[397]\tvalidation_0-rmse:570.29901\tvalidation_1-rmse:910.89929\n",
      "[398]\tvalidation_0-rmse:566.36011\tvalidation_1-rmse:913.78705\n",
      "[399]\tvalidation_0-rmse:562.42432\tvalidation_1-rmse:916.49823\n",
      "[400]\tvalidation_0-rmse:558.53400\tvalidation_1-rmse:919.59613\n",
      "[401]\tvalidation_0-rmse:554.66345\tvalidation_1-rmse:922.32874\n",
      "[402]\tvalidation_0-rmse:550.85425\tvalidation_1-rmse:925.24042\n",
      "[403]\tvalidation_0-rmse:547.05902\tvalidation_1-rmse:927.92206\n",
      "[404]\tvalidation_0-rmse:543.29492\tvalidation_1-rmse:931.04553\n",
      "[405]\tvalidation_0-rmse:539.54956\tvalidation_1-rmse:933.81195\n",
      "[406]\tvalidation_0-rmse:535.85120\tvalidation_1-rmse:936.73969\n",
      "[407]\tvalidation_0-rmse:532.18457\tvalidation_1-rmse:939.66840\n",
      "[408]\tvalidation_0-rmse:528.56097\tvalidation_1-rmse:942.59778\n",
      "[409]\tvalidation_0-rmse:524.94757\tvalidation_1-rmse:945.33063\n",
      "[410]\tvalidation_0-rmse:521.36444\tvalidation_1-rmse:948.46790\n",
      "[411]\tvalidation_0-rmse:517.81683\tvalidation_1-rmse:951.40051\n",
      "[412]\tvalidation_0-rmse:514.29913\tvalidation_1-rmse:954.33221\n",
      "[413]\tvalidation_0-rmse:510.82358\tvalidation_1-rmse:957.26324\n",
      "[414]\tvalidation_0-rmse:507.35568\tvalidation_1-rmse:960.02118\n",
      "[415]\tvalidation_0-rmse:503.91684\tvalidation_1-rmse:962.78760\n",
      "[416]\tvalidation_0-rmse:500.51404\tvalidation_1-rmse:965.71631\n",
      "[417]\tvalidation_0-rmse:497.14023\tvalidation_1-rmse:968.64227\n",
      "[418]\tvalidation_0-rmse:493.79520\tvalidation_1-rmse:971.56494\n",
      "[419]\tvalidation_0-rmse:490.48975\tvalidation_1-rmse:974.48383\n",
      "[420]\tvalidation_0-rmse:487.18982\tvalidation_1-rmse:977.60107\n",
      "[421]\tvalidation_0-rmse:483.91907\tvalidation_1-rmse:980.23102\n",
      "[422]\tvalidation_0-rmse:480.67310\tvalidation_1-rmse:983.00671\n",
      "[423]\tvalidation_0-rmse:477.45425\tvalidation_1-rmse:985.78613\n",
      "[424]\tvalidation_0-rmse:474.26370\tvalidation_1-rmse:988.42249\n",
      "[425]\tvalidation_0-rmse:471.09766\tvalidation_1-rmse:991.20599\n",
      "[426]\tvalidation_0-rmse:467.95981\tvalidation_1-rmse:993.84460\n",
      "[427]\tvalidation_0-rmse:464.84549\tvalidation_1-rmse:996.62958\n",
      "[428]\tvalidation_0-rmse:461.76019\tvalidation_1-rmse:999.26819\n",
      "[429]\tvalidation_0-rmse:458.69760\tvalidation_1-rmse:1002.05267\n",
      "[430]\tvalidation_0-rmse:455.66086\tvalidation_1-rmse:1004.83740\n",
      "[431]\tvalidation_0-rmse:452.65149\tvalidation_1-rmse:1007.47345\n",
      "[432]\tvalidation_0-rmse:449.66461\tvalidation_1-rmse:1010.25617\n",
      "[433]\tvalidation_0-rmse:446.70557\tvalidation_1-rmse:1012.88922\n",
      "[434]\tvalidation_0-rmse:443.76080\tvalidation_1-rmse:1015.65466\n",
      "[435]\tvalidation_0-rmse:440.85147\tvalidation_1-rmse:1018.28088\n",
      "[436]\tvalidation_0-rmse:437.95627\tvalidation_1-rmse:1021.03528\n",
      "[437]\tvalidation_0-rmse:435.08597\tvalidation_1-rmse:1023.78430\n",
      "[438]\tvalidation_0-rmse:432.24814\tvalidation_1-rmse:1026.39795\n",
      "[439]\tvalidation_0-rmse:429.42572\tvalidation_1-rmse:1029.13562\n",
      "[440]\tvalidation_0-rmse:426.63596\tvalidation_1-rmse:1031.73938\n",
      "[441]\tvalidation_0-rmse:423.86090\tvalidation_1-rmse:1034.46423\n",
      "[442]\tvalidation_0-rmse:421.11005\tvalidation_1-rmse:1037.18274\n",
      "[443]\tvalidation_0-rmse:418.38980\tvalidation_1-rmse:1039.76990\n",
      "[444]\tvalidation_0-rmse:415.68564\tvalidation_1-rmse:1042.47351\n",
      "[445]\tvalidation_0-rmse:413.01126\tvalidation_1-rmse:1045.05005\n",
      "[446]\tvalidation_0-rmse:410.35217\tvalidation_1-rmse:1047.73962\n",
      "[447]\tvalidation_0-rmse:407.72324\tvalidation_1-rmse:1050.30298\n",
      "[448]\tvalidation_0-rmse:405.10919\tvalidation_1-rmse:1052.97717\n",
      "[449]\tvalidation_0-rmse:402.51715\tvalidation_1-rmse:1055.63562\n",
      "[450]\tvalidation_0-rmse:399.95367\tvalidation_1-rmse:1058.17835\n",
      "[451]\tvalidation_0-rmse:397.40378\tvalidation_1-rmse:1060.82104\n",
      "[452]\tvalidation_0-rmse:394.88327\tvalidation_1-rmse:1063.34961\n",
      "[453]\tvalidation_0-rmse:392.37555\tvalidation_1-rmse:1065.97571\n",
      "[454]\tvalidation_0-rmse:389.89789\tvalidation_1-rmse:1068.48914\n",
      "[455]\tvalidation_0-rmse:387.43106\tvalidation_1-rmse:1071.09827\n",
      "[456]\tvalidation_0-rmse:384.99518\tvalidation_1-rmse:1073.59619\n",
      "[457]\tvalidation_0-rmse:382.56928\tvalidation_1-rmse:1076.18750\n",
      "[458]\tvalidation_0-rmse:380.16147\tvalidation_1-rmse:1078.60400\n",
      "[459]\tvalidation_0-rmse:377.77319\tvalidation_1-rmse:1081.01453\n",
      "[460]\tvalidation_0-rmse:375.40430\tvalidation_1-rmse:1083.41834\n",
      "[461]\tvalidation_0-rmse:373.05579\tvalidation_1-rmse:1085.97363\n",
      "[462]\tvalidation_0-rmse:370.72525\tvalidation_1-rmse:1088.36206\n",
      "[463]\tvalidation_0-rmse:368.41400\tvalidation_1-rmse:1090.74316\n",
      "[464]\tvalidation_0-rmse:366.12140\tvalidation_1-rmse:1093.11768\n",
      "[465]\tvalidation_0-rmse:363.84744\tvalidation_1-rmse:1095.48535\n",
      "[466]\tvalidation_0-rmse:361.59271\tvalidation_1-rmse:1097.99243\n",
      "[467]\tvalidation_0-rmse:359.35568\tvalidation_1-rmse:1100.34326\n",
      "[468]\tvalidation_0-rmse:357.13705\tvalidation_1-rmse:1102.68677\n",
      "[469]\tvalidation_0-rmse:354.93686\tvalidation_1-rmse:1105.02246\n",
      "[470]\tvalidation_0-rmse:352.75479\tvalidation_1-rmse:1107.35022\n",
      "[471]\tvalidation_0-rmse:350.59064\tvalidation_1-rmse:1109.80835\n",
      "[472]\tvalidation_0-rmse:348.44406\tvalidation_1-rmse:1112.11914\n",
      "[473]\tvalidation_0-rmse:346.29642\tvalidation_1-rmse:1113.31409\n",
      "[474]\tvalidation_0-rmse:344.16473\tvalidation_1-rmse:1114.50378\n",
      "[475]\tvalidation_0-rmse:342.02621\tvalidation_1-rmse:1114.83276\n",
      "[476]\tvalidation_0-rmse:339.90274\tvalidation_1-rmse:1115.16125\n",
      "[477]\tvalidation_0-rmse:337.79431\tvalidation_1-rmse:1115.48889\n",
      "[478]\tvalidation_0-rmse:335.70123\tvalidation_1-rmse:1115.81592\n",
      "[479]\tvalidation_0-rmse:333.62320\tvalidation_1-rmse:1116.14197\n",
      "[480]\tvalidation_0-rmse:331.57779\tvalidation_1-rmse:1117.29358\n",
      "[481]\tvalidation_0-rmse:329.52832\tvalidation_1-rmse:1117.61450\n",
      "[482]\tvalidation_0-rmse:327.49335\tvalidation_1-rmse:1117.93555\n",
      "[483]\tvalidation_0-rmse:325.47263\tvalidation_1-rmse:1118.25549\n",
      "[484]\tvalidation_0-rmse:323.46628\tvalidation_1-rmse:1118.57422\n",
      "[485]\tvalidation_0-rmse:321.47430\tvalidation_1-rmse:1118.89185\n",
      "[486]\tvalidation_0-rmse:319.49615\tvalidation_1-rmse:1119.20923\n",
      "[487]\tvalidation_0-rmse:317.53220\tvalidation_1-rmse:1119.52539\n",
      "[488]\tvalidation_0-rmse:315.58200\tvalidation_1-rmse:1119.84131\n",
      "[489]\tvalidation_0-rmse:313.65857\tvalidation_1-rmse:1120.93567\n",
      "[490]\tvalidation_0-rmse:311.73517\tvalidation_1-rmse:1121.24658\n",
      "[491]\tvalidation_0-rmse:309.82553\tvalidation_1-rmse:1121.55579\n",
      "[492]\tvalidation_0-rmse:307.92908\tvalidation_1-rmse:1121.86475\n",
      "[493]\tvalidation_0-rmse:306.04584\tvalidation_1-rmse:1122.17188\n",
      "[494]\tvalidation_0-rmse:304.17602\tvalidation_1-rmse:1122.47852\n",
      "[495]\tvalidation_0-rmse:302.31943\tvalidation_1-rmse:1122.78345\n",
      "[496]\tvalidation_0-rmse:300.48560\tvalidation_1-rmse:1123.83374\n",
      "[497]\tvalidation_0-rmse:298.65411\tvalidation_1-rmse:1124.13391\n",
      "[498]\tvalidation_0-rmse:296.83588\tvalidation_1-rmse:1124.43347\n",
      "[499]\tvalidation_0-rmse:295.03009\tvalidation_1-rmse:1124.73230\n"
     ]
    },
    {
     "data": {
      "text/plain": [
       "XGBRegressor(base_score=0.5, booster='gbtree', colsample_bylevel=1,\n",
       "             colsample_bynode=1, colsample_bytree=1, gamma=0, gpu_id=-1,\n",
       "             importance_type='gain', interaction_constraints='',\n",
       "             learning_rate=0.01, max_delta_step=0, max_depth=6,\n",
       "             min_child_weight=1, missing=nan, monotone_constraints='()',\n",
       "             n_estimators=500, n_jobs=4, num_parallel_tree=1, random_state=0,\n",
       "             reg_alpha=0, reg_lambda=1, scale_pos_weight=1, subsample=1,\n",
       "             tree_method='exact', validate_parameters=1, verbosity=None)"
      ]
     },
     "execution_count": 168,
     "metadata": {},
     "output_type": "execute_result"
    }
   ],
   "source": [
    "from xgboost import XGBRegressor\n",
    "reg = XGBRegressor(n_estimators=500, learning_rate=0.01)\n",
    "reg.fit(X_train, \n",
    "        y_train,\n",
    "        eval_set=[(X_train, y_train), (X_test, y_test)],\n",
    "        eval_metric='rmse')"
   ]
  },
  {
   "cell_type": "code",
   "execution_count": 169,
   "metadata": {},
   "outputs": [],
   "source": [
    "predictions = reg.predict(X_test)"
   ]
  },
  {
   "cell_type": "code",
   "execution_count": 170,
   "metadata": {},
   "outputs": [
    {
     "data": {
      "text/html": [
       "<div>\n",
       "<style scoped>\n",
       "    .dataframe tbody tr th:only-of-type {\n",
       "        vertical-align: middle;\n",
       "    }\n",
       "\n",
       "    .dataframe tbody tr th {\n",
       "        vertical-align: top;\n",
       "    }\n",
       "\n",
       "    .dataframe thead th {\n",
       "        text-align: right;\n",
       "    }\n",
       "</style>\n",
       "<table border=\"1\" class=\"dataframe\">\n",
       "  <thead>\n",
       "    <tr style=\"text-align: right;\">\n",
       "      <th></th>\n",
       "      <th>PA_Volume_M</th>\n",
       "      <th>Lag1</th>\n",
       "      <th>Lag2</th>\n",
       "      <th>Lag3</th>\n",
       "      <th>Lag4</th>\n",
       "      <th>Lag5</th>\n",
       "      <th>Lag6</th>\n",
       "      <th>Lag7</th>\n",
       "      <th>Lag8</th>\n",
       "      <th>Lag9</th>\n",
       "      <th>Lag10</th>\n",
       "      <th>Lag11</th>\n",
       "      <th>Lag12</th>\n",
       "    </tr>\n",
       "  </thead>\n",
       "  <tbody>\n",
       "    <tr>\n",
       "      <th>0</th>\n",
       "      <td>13766</td>\n",
       "      <td>0.0</td>\n",
       "      <td>0.0</td>\n",
       "      <td>0.0</td>\n",
       "      <td>0.0</td>\n",
       "      <td>0.0</td>\n",
       "      <td>0.0</td>\n",
       "      <td>0.0</td>\n",
       "      <td>0.0</td>\n",
       "      <td>0.0</td>\n",
       "      <td>0.0</td>\n",
       "      <td>0.0</td>\n",
       "      <td>0.0</td>\n",
       "    </tr>\n",
       "    <tr>\n",
       "      <th>1</th>\n",
       "      <td>12769</td>\n",
       "      <td>13766.0</td>\n",
       "      <td>0.0</td>\n",
       "      <td>0.0</td>\n",
       "      <td>0.0</td>\n",
       "      <td>0.0</td>\n",
       "      <td>0.0</td>\n",
       "      <td>0.0</td>\n",
       "      <td>0.0</td>\n",
       "      <td>0.0</td>\n",
       "      <td>0.0</td>\n",
       "      <td>0.0</td>\n",
       "      <td>0.0</td>\n",
       "    </tr>\n",
       "    <tr>\n",
       "      <th>2</th>\n",
       "      <td>14694</td>\n",
       "      <td>12769.0</td>\n",
       "      <td>13766.0</td>\n",
       "      <td>0.0</td>\n",
       "      <td>0.0</td>\n",
       "      <td>0.0</td>\n",
       "      <td>0.0</td>\n",
       "      <td>0.0</td>\n",
       "      <td>0.0</td>\n",
       "      <td>0.0</td>\n",
       "      <td>0.0</td>\n",
       "      <td>0.0</td>\n",
       "      <td>0.0</td>\n",
       "    </tr>\n",
       "    <tr>\n",
       "      <th>3</th>\n",
       "      <td>12742</td>\n",
       "      <td>14694.0</td>\n",
       "      <td>12769.0</td>\n",
       "      <td>13766.0</td>\n",
       "      <td>0.0</td>\n",
       "      <td>0.0</td>\n",
       "      <td>0.0</td>\n",
       "      <td>0.0</td>\n",
       "      <td>0.0</td>\n",
       "      <td>0.0</td>\n",
       "      <td>0.0</td>\n",
       "      <td>0.0</td>\n",
       "      <td>0.0</td>\n",
       "    </tr>\n",
       "    <tr>\n",
       "      <th>4</th>\n",
       "      <td>13717</td>\n",
       "      <td>12742.0</td>\n",
       "      <td>14694.0</td>\n",
       "      <td>12769.0</td>\n",
       "      <td>13766.0</td>\n",
       "      <td>0.0</td>\n",
       "      <td>0.0</td>\n",
       "      <td>0.0</td>\n",
       "      <td>0.0</td>\n",
       "      <td>0.0</td>\n",
       "      <td>0.0</td>\n",
       "      <td>0.0</td>\n",
       "      <td>0.0</td>\n",
       "    </tr>\n",
       "  </tbody>\n",
       "</table>\n",
       "</div>"
      ],
      "text/plain": [
       "   PA_Volume_M     Lag1     Lag2     Lag3     Lag4  Lag5  Lag6  Lag7  Lag8  \\\n",
       "0        13766      0.0      0.0      0.0      0.0   0.0   0.0   0.0   0.0   \n",
       "1        12769  13766.0      0.0      0.0      0.0   0.0   0.0   0.0   0.0   \n",
       "2        14694  12769.0  13766.0      0.0      0.0   0.0   0.0   0.0   0.0   \n",
       "3        12742  14694.0  12769.0  13766.0      0.0   0.0   0.0   0.0   0.0   \n",
       "4        13717  12742.0  14694.0  12769.0  13766.0   0.0   0.0   0.0   0.0   \n",
       "\n",
       "   Lag9  Lag10  Lag11  Lag12  \n",
       "0   0.0    0.0    0.0    0.0  \n",
       "1   0.0    0.0    0.0    0.0  \n",
       "2   0.0    0.0    0.0    0.0  \n",
       "3   0.0    0.0    0.0    0.0  \n",
       "4   0.0    0.0    0.0    0.0  "
      ]
     },
     "execution_count": 170,
     "metadata": {},
     "output_type": "execute_result"
    }
   ],
   "source": [
    "df_m.head()"
   ]
  },
  {
   "cell_type": "code",
   "execution_count": 171,
   "metadata": {},
   "outputs": [],
   "source": [
    "month_list = []\n",
    "for i in range(36):\n",
    "    month_list.append((i+1))\n",
    "df_m['month'] = month_list"
   ]
  },
  {
   "cell_type": "code",
   "execution_count": 172,
   "metadata": {},
   "outputs": [
    {
     "data": {
      "text/html": [
       "<div>\n",
       "<style scoped>\n",
       "    .dataframe tbody tr th:only-of-type {\n",
       "        vertical-align: middle;\n",
       "    }\n",
       "\n",
       "    .dataframe tbody tr th {\n",
       "        vertical-align: top;\n",
       "    }\n",
       "\n",
       "    .dataframe thead th {\n",
       "        text-align: right;\n",
       "    }\n",
       "</style>\n",
       "<table border=\"1\" class=\"dataframe\">\n",
       "  <thead>\n",
       "    <tr style=\"text-align: right;\">\n",
       "      <th></th>\n",
       "      <th>PA_Volume_M</th>\n",
       "      <th>Lag1</th>\n",
       "      <th>Lag2</th>\n",
       "      <th>Lag3</th>\n",
       "      <th>Lag4</th>\n",
       "      <th>Lag5</th>\n",
       "      <th>Lag6</th>\n",
       "      <th>Lag7</th>\n",
       "      <th>Lag8</th>\n",
       "      <th>Lag9</th>\n",
       "      <th>Lag10</th>\n",
       "      <th>Lag11</th>\n",
       "      <th>Lag12</th>\n",
       "      <th>month</th>\n",
       "    </tr>\n",
       "  </thead>\n",
       "  <tbody>\n",
       "    <tr>\n",
       "      <th>0</th>\n",
       "      <td>13766</td>\n",
       "      <td>0.0</td>\n",
       "      <td>0.0</td>\n",
       "      <td>0.0</td>\n",
       "      <td>0.0</td>\n",
       "      <td>0.0</td>\n",
       "      <td>0.0</td>\n",
       "      <td>0.0</td>\n",
       "      <td>0.0</td>\n",
       "      <td>0.0</td>\n",
       "      <td>0.0</td>\n",
       "      <td>0.0</td>\n",
       "      <td>0.0</td>\n",
       "      <td>1</td>\n",
       "    </tr>\n",
       "    <tr>\n",
       "      <th>1</th>\n",
       "      <td>12769</td>\n",
       "      <td>13766.0</td>\n",
       "      <td>0.0</td>\n",
       "      <td>0.0</td>\n",
       "      <td>0.0</td>\n",
       "      <td>0.0</td>\n",
       "      <td>0.0</td>\n",
       "      <td>0.0</td>\n",
       "      <td>0.0</td>\n",
       "      <td>0.0</td>\n",
       "      <td>0.0</td>\n",
       "      <td>0.0</td>\n",
       "      <td>0.0</td>\n",
       "      <td>2</td>\n",
       "    </tr>\n",
       "    <tr>\n",
       "      <th>2</th>\n",
       "      <td>14694</td>\n",
       "      <td>12769.0</td>\n",
       "      <td>13766.0</td>\n",
       "      <td>0.0</td>\n",
       "      <td>0.0</td>\n",
       "      <td>0.0</td>\n",
       "      <td>0.0</td>\n",
       "      <td>0.0</td>\n",
       "      <td>0.0</td>\n",
       "      <td>0.0</td>\n",
       "      <td>0.0</td>\n",
       "      <td>0.0</td>\n",
       "      <td>0.0</td>\n",
       "      <td>3</td>\n",
       "    </tr>\n",
       "    <tr>\n",
       "      <th>3</th>\n",
       "      <td>12742</td>\n",
       "      <td>14694.0</td>\n",
       "      <td>12769.0</td>\n",
       "      <td>13766.0</td>\n",
       "      <td>0.0</td>\n",
       "      <td>0.0</td>\n",
       "      <td>0.0</td>\n",
       "      <td>0.0</td>\n",
       "      <td>0.0</td>\n",
       "      <td>0.0</td>\n",
       "      <td>0.0</td>\n",
       "      <td>0.0</td>\n",
       "      <td>0.0</td>\n",
       "      <td>4</td>\n",
       "    </tr>\n",
       "    <tr>\n",
       "      <th>4</th>\n",
       "      <td>13717</td>\n",
       "      <td>12742.0</td>\n",
       "      <td>14694.0</td>\n",
       "      <td>12769.0</td>\n",
       "      <td>13766.0</td>\n",
       "      <td>0.0</td>\n",
       "      <td>0.0</td>\n",
       "      <td>0.0</td>\n",
       "      <td>0.0</td>\n",
       "      <td>0.0</td>\n",
       "      <td>0.0</td>\n",
       "      <td>0.0</td>\n",
       "      <td>0.0</td>\n",
       "      <td>5</td>\n",
       "    </tr>\n",
       "  </tbody>\n",
       "</table>\n",
       "</div>"
      ],
      "text/plain": [
       "   PA_Volume_M     Lag1     Lag2     Lag3     Lag4  Lag5  Lag6  Lag7  Lag8  \\\n",
       "0        13766      0.0      0.0      0.0      0.0   0.0   0.0   0.0   0.0   \n",
       "1        12769  13766.0      0.0      0.0      0.0   0.0   0.0   0.0   0.0   \n",
       "2        14694  12769.0  13766.0      0.0      0.0   0.0   0.0   0.0   0.0   \n",
       "3        12742  14694.0  12769.0  13766.0      0.0   0.0   0.0   0.0   0.0   \n",
       "4        13717  12742.0  14694.0  12769.0  13766.0   0.0   0.0   0.0   0.0   \n",
       "\n",
       "   Lag9  Lag10  Lag11  Lag12  month  \n",
       "0   0.0    0.0    0.0    0.0      1  \n",
       "1   0.0    0.0    0.0    0.0      2  \n",
       "2   0.0    0.0    0.0    0.0      3  \n",
       "3   0.0    0.0    0.0    0.0      4  \n",
       "4   0.0    0.0    0.0    0.0      5  "
      ]
     },
     "execution_count": 172,
     "metadata": {},
     "output_type": "execute_result"
    }
   ],
   "source": [
    "df_m.head()"
   ]
  },
  {
   "cell_type": "code",
   "execution_count": 173,
   "metadata": {},
   "outputs": [],
   "source": [
    "pred_list = []\n",
    "for i in range(36):\n",
    "    if i<30:\n",
    "        pred_list.append(0)\n",
    "    else:\n",
    "        pred_list.append(predictions[(i-30)])"
   ]
  },
  {
   "cell_type": "code",
   "execution_count": 174,
   "metadata": {},
   "outputs": [],
   "source": [
    "df_m['predictions'] = pred_list"
   ]
  },
  {
   "cell_type": "code",
   "execution_count": 175,
   "metadata": {},
   "outputs": [
    {
     "data": {
      "text/html": [
       "<div>\n",
       "<style scoped>\n",
       "    .dataframe tbody tr th:only-of-type {\n",
       "        vertical-align: middle;\n",
       "    }\n",
       "\n",
       "    .dataframe tbody tr th {\n",
       "        vertical-align: top;\n",
       "    }\n",
       "\n",
       "    .dataframe thead th {\n",
       "        text-align: right;\n",
       "    }\n",
       "</style>\n",
       "<table border=\"1\" class=\"dataframe\">\n",
       "  <thead>\n",
       "    <tr style=\"text-align: right;\">\n",
       "      <th></th>\n",
       "      <th>PA_Volume_M</th>\n",
       "      <th>Lag1</th>\n",
       "      <th>Lag2</th>\n",
       "      <th>Lag3</th>\n",
       "      <th>Lag4</th>\n",
       "      <th>Lag5</th>\n",
       "      <th>Lag6</th>\n",
       "      <th>Lag7</th>\n",
       "      <th>Lag8</th>\n",
       "      <th>Lag9</th>\n",
       "      <th>Lag10</th>\n",
       "      <th>Lag11</th>\n",
       "      <th>Lag12</th>\n",
       "      <th>month</th>\n",
       "      <th>predictions</th>\n",
       "    </tr>\n",
       "  </thead>\n",
       "  <tbody>\n",
       "    <tr>\n",
       "      <th>31</th>\n",
       "      <td>17837</td>\n",
       "      <td>17286.0</td>\n",
       "      <td>16080.0</td>\n",
       "      <td>17413.0</td>\n",
       "      <td>17611.0</td>\n",
       "      <td>18937.0</td>\n",
       "      <td>17563.0</td>\n",
       "      <td>18195.0</td>\n",
       "      <td>15217.0</td>\n",
       "      <td>15226.0</td>\n",
       "      <td>16222.0</td>\n",
       "      <td>14937.0</td>\n",
       "      <td>16579.0</td>\n",
       "      <td>32</td>\n",
       "      <td>17878.798828</td>\n",
       "    </tr>\n",
       "    <tr>\n",
       "      <th>32</th>\n",
       "      <td>15756</td>\n",
       "      <td>17837.0</td>\n",
       "      <td>17286.0</td>\n",
       "      <td>16080.0</td>\n",
       "      <td>17413.0</td>\n",
       "      <td>17611.0</td>\n",
       "      <td>18937.0</td>\n",
       "      <td>17563.0</td>\n",
       "      <td>18195.0</td>\n",
       "      <td>15217.0</td>\n",
       "      <td>15226.0</td>\n",
       "      <td>16222.0</td>\n",
       "      <td>14937.0</td>\n",
       "      <td>33</td>\n",
       "      <td>16572.001953</td>\n",
       "    </tr>\n",
       "    <tr>\n",
       "      <th>33</th>\n",
       "      <td>17560</td>\n",
       "      <td>15756.0</td>\n",
       "      <td>17837.0</td>\n",
       "      <td>17286.0</td>\n",
       "      <td>16080.0</td>\n",
       "      <td>17413.0</td>\n",
       "      <td>17611.0</td>\n",
       "      <td>18937.0</td>\n",
       "      <td>17563.0</td>\n",
       "      <td>18195.0</td>\n",
       "      <td>15217.0</td>\n",
       "      <td>15226.0</td>\n",
       "      <td>16222.0</td>\n",
       "      <td>34</td>\n",
       "      <td>16999.347656</td>\n",
       "    </tr>\n",
       "    <tr>\n",
       "      <th>34</th>\n",
       "      <td>15626</td>\n",
       "      <td>17560.0</td>\n",
       "      <td>15756.0</td>\n",
       "      <td>17837.0</td>\n",
       "      <td>17286.0</td>\n",
       "      <td>16080.0</td>\n",
       "      <td>17413.0</td>\n",
       "      <td>17611.0</td>\n",
       "      <td>18937.0</td>\n",
       "      <td>17563.0</td>\n",
       "      <td>18195.0</td>\n",
       "      <td>15217.0</td>\n",
       "      <td>15226.0</td>\n",
       "      <td>35</td>\n",
       "      <td>17878.798828</td>\n",
       "    </tr>\n",
       "    <tr>\n",
       "      <th>35</th>\n",
       "      <td>16638</td>\n",
       "      <td>15626.0</td>\n",
       "      <td>17560.0</td>\n",
       "      <td>15756.0</td>\n",
       "      <td>17837.0</td>\n",
       "      <td>17286.0</td>\n",
       "      <td>16080.0</td>\n",
       "      <td>17413.0</td>\n",
       "      <td>17611.0</td>\n",
       "      <td>18937.0</td>\n",
       "      <td>17563.0</td>\n",
       "      <td>18195.0</td>\n",
       "      <td>15217.0</td>\n",
       "      <td>36</td>\n",
       "      <td>17872.148438</td>\n",
       "    </tr>\n",
       "  </tbody>\n",
       "</table>\n",
       "</div>"
      ],
      "text/plain": [
       "    PA_Volume_M     Lag1     Lag2     Lag3     Lag4     Lag5     Lag6  \\\n",
       "31        17837  17286.0  16080.0  17413.0  17611.0  18937.0  17563.0   \n",
       "32        15756  17837.0  17286.0  16080.0  17413.0  17611.0  18937.0   \n",
       "33        17560  15756.0  17837.0  17286.0  16080.0  17413.0  17611.0   \n",
       "34        15626  17560.0  15756.0  17837.0  17286.0  16080.0  17413.0   \n",
       "35        16638  15626.0  17560.0  15756.0  17837.0  17286.0  16080.0   \n",
       "\n",
       "       Lag7     Lag8     Lag9    Lag10    Lag11    Lag12  month   predictions  \n",
       "31  18195.0  15217.0  15226.0  16222.0  14937.0  16579.0     32  17878.798828  \n",
       "32  17563.0  18195.0  15217.0  15226.0  16222.0  14937.0     33  16572.001953  \n",
       "33  18937.0  17563.0  18195.0  15217.0  15226.0  16222.0     34  16999.347656  \n",
       "34  17611.0  18937.0  17563.0  18195.0  15217.0  15226.0     35  17878.798828  \n",
       "35  17413.0  17611.0  18937.0  17563.0  18195.0  15217.0     36  17872.148438  "
      ]
     },
     "execution_count": 175,
     "metadata": {},
     "output_type": "execute_result"
    }
   ],
   "source": [
    "df_m.tail()"
   ]
  },
  {
   "cell_type": "code",
   "execution_count": 176,
   "metadata": {},
   "outputs": [
    {
     "data": {
      "image/png": "[encoded data removed]",
      "text/plain": [
       "<Figure size 5100x900 with 1 Axes>"
      ]
     },
     "metadata": {},
     "output_type": "display_data"
    }
   ],
   "source": [
    "plt.rcParams.update({'figure.figsize': (17, 3), 'figure.dpi':300})\n",
    "fig, ax = plt.subplots()\n",
    "sns.lineplot(data=df_m, x='month', y='PA_Volume_M')\n",
    "sns.lineplot(data=df_m.tail(6), x='month', y='predictions')\n",
    "plt.grid(linestyle='-', linewidth=0.3)\n",
    "ax.tick_params(axis='x', rotation=90)"
   ]
  },
  {
   "cell_type": "code",
   "execution_count": 356,
   "metadata": {},
   "outputs": [
    {
     "data": {
      "text/plain": [
       "437"
      ]
     },
     "execution_count": 356,
     "metadata": {},
     "output_type": "execute_result"
    }
   ],
   "source": [
    "df4.iloc[1][0]"
   ]
  },
  {
   "cell_type": "code",
   "execution_count": null,
   "metadata": {},
   "outputs": [],
   "source": []
  },
  {
   "cell_type": "code",
   "execution_count": 357,
   "metadata": {},
   "outputs": [
    {
     "data": {
      "text/plain": [
       "1095"
      ]
     },
     "execution_count": 357,
     "metadata": {},
     "output_type": "execute_result"
    }
   ],
   "source": [
    "len(df4)"
   ]
  },
  {
   "cell_type": "code",
   "execution_count": 362,
   "metadata": {},
   "outputs": [],
   "source": [
    "df5=[]\n",
    "for i in range(len(df4)):\n",
    "    if i<=6:\n",
    "        df5.append(0)\n",
    "    else:\n",
    "        df5.append(df4.iloc[i][0]-df4.iloc[i-7][0])"
   ]
  },
  {
   "cell_type": "code",
   "execution_count": 364,
   "metadata": {},
   "outputs": [],
   "source": [
    "time = []\n",
    "for i in range(len(df4)):\n",
    "    time.append(i+1)\n",
    "    "
   ]
  },
  {
   "cell_type": "code",
   "execution_count": 365,
   "metadata": {},
   "outputs": [
    {
     "data": {
      "text/plain": [
       "[<matplotlib.lines.Line2D at 0x18dc18a8430>]"
      ]
     },
     "execution_count": 365,
     "metadata": {},
     "output_type": "execute_result"
    },
    {
     "data": {
      "image/png": "[encoded data removed]",
      "text/plain": [
       "<Figure size 432x288 with 1 Axes>"
      ]
     },
     "metadata": {},
     "output_type": "display_data"
    }
   ],
   "source": [
    "plt.plot(time,df5)"
   ]
  },
  {
   "cell_type": "code",
   "execution_count": 366,
   "metadata": {},
   "outputs": [],
   "source": [
    "## Bring back functions from notebook 2\n",
    "\n",
    "\n",
    "def make_lag_df(df,feature,lag):\n",
    "    lag_df = df.copy()\n",
    "    lag_df[feature+\"_lag\"] = np.nan\n",
    "    \n",
    "    lag_df.loc[lag:,feature+\"_lag\"] = lag_df.loc[0:len(lag_df)-(lag+1),feature].values\n",
    "    \n",
    "    return lag_df\n",
    "\n",
    "\n",
    "def get_autocorr(df,feature,lag):\n",
    "    df = make_lag_df(df,feature,lag)\n",
    "    mean_y = df[feature].mean()\n",
    "    \n",
    "    y_ts = df[feature].values\n",
    "    y_lags = df.dropna()[feature+\"_lag\"].values\n",
    "    \n",
    "    numerator = np.sum((y_ts[lag:] - mean_y)*(y_lags - mean_y))\n",
    "    denom = np.sum(np.power(y_ts - mean_y,2))\n",
    "    \n",
    "    return numerator/denom"
   ]
  },
  {
   "cell_type": "code",
   "execution_count": 353,
   "metadata": {},
   "outputs": [
    {
     "data": {
      "text/html": [
       "<div>\n",
       "<style scoped>\n",
       "    .dataframe tbody tr th:only-of-type {\n",
       "        vertical-align: middle;\n",
       "    }\n",
       "\n",
       "    .dataframe tbody tr th {\n",
       "        vertical-align: top;\n",
       "    }\n",
       "\n",
       "    .dataframe thead th {\n",
       "        text-align: right;\n",
       "    }\n",
       "</style>\n",
       "<table border=\"1\" class=\"dataframe\">\n",
       "  <thead>\n",
       "    <tr style=\"text-align: right;\">\n",
       "      <th></th>\n",
       "      <th></th>\n",
       "      <th></th>\n",
       "      <th>dim_pa_id</th>\n",
       "    </tr>\n",
       "    <tr>\n",
       "      <th>calendar_year</th>\n",
       "      <th>calendar_month</th>\n",
       "      <th>calendar_day</th>\n",
       "      <th></th>\n",
       "    </tr>\n",
       "  </thead>\n",
       "  <tbody>\n",
       "    <tr>\n",
       "      <th rowspan=\"5\" valign=\"top\">2017</th>\n",
       "      <th rowspan=\"5\" valign=\"top\">1</th>\n",
       "      <th>1</th>\n",
       "      <td>94</td>\n",
       "    </tr>\n",
       "    <tr>\n",
       "      <th>2</th>\n",
       "      <td>437</td>\n",
       "    </tr>\n",
       "    <tr>\n",
       "      <th>3</th>\n",
       "      <td>614</td>\n",
       "    </tr>\n",
       "    <tr>\n",
       "      <th>4</th>\n",
       "      <td>591</td>\n",
       "    </tr>\n",
       "    <tr>\n",
       "      <th>5</th>\n",
       "      <td>598</td>\n",
       "    </tr>\n",
       "  </tbody>\n",
       "</table>\n",
       "</div>"
      ],
      "text/plain": [
       "                                           dim_pa_id\n",
       "calendar_year calendar_month calendar_day           \n",
       "2017          1              1                    94\n",
       "                             2                   437\n",
       "                             3                   614\n",
       "                             4                   591\n",
       "                             5                   598"
      ]
     },
     "execution_count": 353,
     "metadata": {},
     "output_type": "execute_result"
    }
   ],
   "source": [
    "df4.head()"
   ]
  },
  {
   "cell_type": "code",
   "execution_count": null,
   "metadata": {},
   "outputs": [],
   "source": []
  },
  {
   "cell_type": "code",
   "execution_count": 386,
   "metadata": {},
   "outputs": [
    {
     "data": {
      "text/plain": [
       "28"
      ]
     },
     "execution_count": 386,
     "metadata": {},
     "output_type": "execute_result"
    }
   ],
   "source": [
    "int(0.8*len(df4))"
   ]
  },
  {
   "cell_type": "code",
   "execution_count": 155,
   "metadata": {},
   "outputs": [],
   "source": [
    "X_train = []\n",
    "for i in range(int(0.8*len(df4))):\n",
    "    X_train.append(df4.iloc[i][0])"
   ]
  },
  {
   "cell_type": "code",
   "execution_count": 156,
   "metadata": {},
   "outputs": [],
   "source": [
    "X_test = []\n",
    "for i in range(int(0.8*len(df4)),len(df4)):\n",
    "    X_test.append(df4.iloc[i][0])"
   ]
  },
  {
   "cell_type": "code",
   "execution_count": 157,
   "metadata": {},
   "outputs": [],
   "source": [
    "from statsmodels.tsa.api import SimpleExpSmoothing"
   ]
  },
  {
   "cell_type": "code",
   "execution_count": 158,
   "metadata": {},
   "outputs": [
    {
     "name": "stderr",
     "output_type": "stream",
     "text": [
      "C:\\Users\\xushu\\anaconda3\\lib\\site-packages\\statsmodels\\tsa\\holtwinters\\model.py:427: FutureWarning: After 0.13 initialization must be handled at model creation\n",
      "  warnings.warn(\n"
     ]
    }
   ],
   "source": [
    "ses = SimpleExpSmoothing(X_train)"
   ]
  },
  {
   "cell_type": "code",
   "execution_count": 159,
   "metadata": {},
   "outputs": [
    {
     "name": "stderr",
     "output_type": "stream",
     "text": [
      "C:\\Users\\xushu\\anaconda3\\lib\\site-packages\\statsmodels\\tsa\\statespace\\sarimax.py:965: UserWarning: Non-stationary starting autoregressive parameters found. Using zeros as starting parameters.\n",
      "  warn('Non-stationary starting autoregressive parameters'\n",
      "C:\\Users\\xushu\\anaconda3\\lib\\site-packages\\statsmodels\\base\\model.py:566: ConvergenceWarning: Maximum Likelihood optimization failed to converge. Check mle_retvals\n",
      "  warnings.warn(\"Maximum Likelihood optimization failed to \"\n"
     ]
    }
   ],
   "source": [
    "from statsmodels.tsa.statespace.sarimax import SARIMAX\n",
    "from random import random\n",
    "# contrived dataset\n",
    "data = X_train\n",
    "# fit model\n",
    "model = SARIMAX(data, order=(12, 0, 0), seasonal_order=(0, 0, 0, 12))\n",
    "model_fit = model.fit(disp=False)"
   ]
  },
  {
   "cell_type": "code",
   "execution_count": 160,
   "metadata": {},
   "outputs": [
    {
     "data": {
      "image/png": "[encoded data removed]",
      "text/plain": [
       "<Figure size 2400x1800 with 1 Axes>"
      ]
     },
     "metadata": {},
     "output_type": "display_data"
    }
   ],
   "source": [
    "plt.figure(figsize=(8,6))\n",
    "\n",
    "# plot the training data\n",
    "plt.plot(X_train,'b',\n",
    "            label = \"Training Data\")\n",
    "\n",
    "# plot the fit\n",
    "plt.plot(model_fit.fittedvalues,'r-',\n",
    "            label = \"Fitted Values\")\n",
    "\n",
    "# plot the forecast\n",
    "plt.plot(model_fit.forecast(len(X_test)),'r--',\n",
    "            label = \"Forecast\")\n",
    "\n",
    "plt.plot(X_test,'b--',\n",
    "            label = \"Test Data\")\n",
    "\n",
    "plt.legend(fontsize=14)\n",
    "\n",
    "plt.xlabel(\"Months from Jan-2017\", fontsize=16)\n",
    "plt.ylabel(\"PA Volumes\", fontsize=16)\n",
    "\n",
    "plt.show()"
   ]
  },
  {
   "cell_type": "code",
   "execution_count": null,
   "metadata": {},
   "outputs": [],
   "source": []
  }
 ],
 "metadata": {
  "kernelspec": {
   "display_name": "Python 3",
   "language": "python",
   "name": "python3"
  },
  "language_info": {
   "codemirror_mode": {
    "name": "ipython",
    "version": 3
   },
   "file_extension": ".py",
   "mimetype": "text/x-python",
   "name": "python",
   "nbconvert_exporter": "python",
   "pygments_lexer": "ipython3",
   "version": "3.8.5"
  }
 },
 "nbformat": 4,
 "nbformat_minor": 4
}
